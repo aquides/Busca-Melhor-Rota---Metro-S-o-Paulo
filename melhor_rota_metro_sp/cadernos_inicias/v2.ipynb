{
 "cells": [
  {
   "cell_type": "code",
   "execution_count": 1,
   "metadata": {},
   "outputs": [],
   "source": [
    "# importar as libs\n",
    "from pprint import pprint\n",
    "import pandas as pd\n",
    "\n",
    "\n",
    "import matplotlib.pyplot as plt\n",
    "import networkx as nx\n",
    "\n",
    "import plotly.express as px\n",
    "# import folium"
   ]
  },
  {
   "attachments": {},
   "cell_type": "markdown",
   "metadata": {},
   "source": [
    "# Erros"
   ]
  },
  {
   "cell_type": "code",
   "execution_count": 120,
   "metadata": {},
   "outputs": [],
   "source": [
    "# Indicação Interações Intra Estações\n",
    "linha1  = (11,7,4,3,2,5)\n",
    "linha2  = (4,1,3,10,15)\n",
    "linha3  = (11, 10, 1, 4, 8)\n",
    "linha4  = (9, 2, 3, 1)\n",
    "linha5  = (9,1,2)\n",
    "linha7  = (8,1,11,10,12)\n",
    "linha8  = (9,7,3)\n",
    "linha9  = (5,4,8)\n",
    "linha10 = (2,3,11,7,12)\n",
    "linha11 = (12,3,7,2,4)\n",
    "linha12 = (11,13,3,7,10)\n",
    "linha13 = (12)\n",
    "linha15 = (2)"
   ]
  },
  {
   "cell_type": "code",
   "execution_count": 121,
   "metadata": {},
   "outputs": [
    {
     "data": {
      "text/plain": [
       "[[(11, 7, 4, 3, 2, 5)],\n",
       " [(4, 1, 3, 10, 15)],\n",
       " [(11, 10, 1, 4, 8)],\n",
       " [(9, 2, 3, 1)],\n",
       " [(9, 1, 2)],\n",
       " [(8, 1, 11, 10, 12)],\n",
       " [(9, 7, 3)],\n",
       " [(5, 4, 8)],\n",
       " [(2, 3, 11, 7, 12)],\n",
       " [(12, 3, 7, 2, 4)],\n",
       " [(11, 13, 3, 7, 10)],\n",
       " [12],\n",
       " [2]]"
      ]
     },
     "execution_count": 121,
     "metadata": {},
     "output_type": "execute_result"
    }
   ],
   "source": [
    "# Listagem com Todas as Interações Intra Estações\n",
    "listaum = [ [linha1], [linha2], [linha3], [linha4], [linha5], [linha7], [linha8], [linha9], [linha10], [linha11], [linha12], [linha13], [linha15] ]\n",
    "listaum"
   ]
  },
  {
   "cell_type": "code",
   "execution_count": 122,
   "metadata": {},
   "outputs": [],
   "source": [
    "num_linha_origem = 3"
   ]
  },
  {
   "cell_type": "code",
   "execution_count": 123,
   "metadata": {},
   "outputs": [
    {
     "data": {
      "text/plain": [
       "[0, 1, 3, 7, 9, 10, 11]"
      ]
     },
     "metadata": {},
     "output_type": "display_data"
    },
    {
     "data": {
      "text/plain": [
       "[1, 2, 4, 8, 10, 11, 12]"
      ]
     },
     "metadata": {},
     "output_type": "display_data"
    }
   ],
   "source": [
    "# Prototipo do algoritmo de recomendação \n",
    "lista = []\n",
    "if num_linha_origem in listaum[0][0]:\n",
    "  lista += [0]\n",
    "\n",
    "if num_linha_origem in listaum[1][0]:\n",
    "  lista += [1]\n",
    "\n",
    "if num_linha_origem in listaum[2][0]:\n",
    "  lista += [2]\n",
    "\n",
    "if num_linha_origem in listaum[3][0]:\n",
    "  lista += [3]\n",
    "\n",
    "if num_linha_origem in listaum[4][0]:\n",
    "  lista += [4]\n",
    "\n",
    "if num_linha_origem in listaum[5][0]:\n",
    "  lista += [5]\n",
    "\n",
    "if num_linha_origem in listaum[6][0]:\n",
    "  lista += [7]\n",
    "\n",
    "if num_linha_origem in listaum[7][0]:\n",
    "  lista += [8]\n",
    "\n",
    "if num_linha_origem in listaum[8][0]:\n",
    "  lista += [9]\n",
    "\n",
    "if num_linha_origem in listaum[9][0]:\n",
    "  lista += [10]\n",
    "\n",
    "if num_linha_origem in listaum[10][0]:\n",
    "  lista += [11]\n",
    "\n",
    "elif num_linha_origem in listaum[11][0]:\n",
    "  lista += [12]\n",
    "\n",
    "display(lista)\n",
    "\n",
    "lista = [x+1 for x in lista]\n",
    "display(lista)"
   ]
  },
  {
   "cell_type": "code",
   "execution_count": 125,
   "metadata": {},
   "outputs": [
    {
     "data": {
      "text/plain": [
       "EdgeView([(1, 37), (1, 2), (2, 38), (2, 93), (2, 94), (3, 40), (3, 41), (4, 41), (4, 5), (5, 6), (5, 50), (5, 51), (5, 11), (5, 12), (5, 31), (6, 42), (7, 45), (7, 46), (7, 109), (7, 28), (8, 46), (8, 9), (9, 47), (9, 157), (10, 49), (10, 50), (10, 51), (10, 52), (11, 56), (12, 13), (12, 12), (12, 15), (12, 143), (13, 14), (13, 24), (14, 57), (15, 62), (15, 63), (15, 142), (16, 69), (16, 70), (17, 71), (17, 72), (18, 76), (18, 19), (19, 77), (20, 78), (20, 21), (20, 24), (21, 79), (21, 96), (22, 82), (22, 83), (23, 87), (23, 88), (23, 99), (23, 100), (24, 25), (24, 134), (25, 26), (26, 27), (27, 97), (28, 29), (29, 110), (30, 117), (30, 118), (31, 133), (32, 144), (32, 145), (33, 147), (33, 148), (34, 155), (34, 156), (38, 39), (39, 40), (42, 43), (43, 44), (44, 45), (47, 48), (48, 49), (52, 53), (53, 54), (54, 55), (55, 56), (57, 58), (58, 59), (59, 60), (60, 61), (61, 62), (63, 64), (64, 65), (65, 66), (66, 67), (67, 68), (68, 69), (70, 71), (72, 73), (73, 74), (74, 75), (75, 76), (77, 78), (79, 80), (80, 81), (81, 82), (83, 84), (84, 85), (85, 86), (86, 87), (88, 89), (89, 90), (90, 91), (91, 92), (92, 93), (94, 95), (95, 96), (97, 98), (98, 99), (100, 101), (101, 102), (102, 103), (103, 104), (104, 105), (105, 106), (106, 107), (107, 108), (108, 109), (110, 111), (111, 112), (112, 113), (113, 114), (114, 115), (115, 116), (116, 117), (118, 119), (119, 120), (120, 121), (121, 122), (122, 123), (123, 124), (124, 125), (125, 126), (126, 127), (127, 128), (128, 129), (129, 130), (130, 131), (131, 132), (132, 133), (134, 135), (135, 136), (136, 137), (137, 138), (138, 139), (139, 140), (140, 141), (141, 142), (143, 144), (145, 146), (146, 147), (148, 149), (149, 150), (150, 151), (151, 152), (152, 153), (153, 154), (154, 155), (156, 157)])"
      ]
     },
     "execution_count": 125,
     "metadata": {},
     "output_type": "execute_result"
    }
   ],
   "source": [
    "g = nx.Graph()\n",
    "\n",
    "# Indicação dos nós\n",
    "g.add_nodes_from([1, 2, 3, 4, 5, 6, 7, 8, 9, 10, 11, 12, 13, 14, 15, 16, 17, 18, 19, 20, 21, 22, 23, 24, 25, 26, 27, 28, 29, 30, 31, 32, 33, 34, 35, 36, 37, 38, 39, 40, 41, 42, 43, 44, 45, 46, 47, 48, 49, 50, 51, 52, 53, 54, 55, 56, 57, 58, 59, 60, 61, 62, 63, 64, 65, 66, 67, 68, 69, 70, 71, 72, 73, 74, 75, 76, 77, 78, 79, 80, 81, 82, 83, 84, 85, 86, 87, 88, 89, 90, 91, 92, 93, 94, 95, 96, 97, 98, 99, 100, 101, 102, 103, 104, 105, 106, 107, 108, 109, 110, 111, 112, 113, 114, 115, 116, 117, 118, 119, 120, 121, 122, 123, 124, 125, 126, 127, 128, 129, 130, 131, 132, 133, 134, 135, 136, 137, 138, 139, 140, 141, 142, 143, 144, 145, 146, 147, 148, 149, 150, 151, 152, 153, 154, 155, 156, 157, 158, 159, 160, 161, 162, 163, 164, 165, 166, 167, 168, 169, 170, 171])\n",
    "g.nodes()"
   ]
  },
  {
   "cell_type": "code",
   "execution_count": 126,
   "metadata": {},
   "outputs": [
    {
     "data": {
      "text/plain": [
       "EdgeView([(1, 37), (1, 2), (2, 38), (2, 93), (2, 94), (3, 40), (3, 41), (4, 41), (4, 5), (5, 6), (5, 50), (5, 51), (5, 11), (5, 12), (5, 31), (6, 42), (7, 45), (7, 46), (7, 109), (7, 28), (8, 46), (8, 9), (9, 47), (9, 157), (10, 49), (10, 50), (10, 51), (10, 52), (11, 56), (12, 13), (12, 12), (12, 15), (12, 143), (13, 14), (13, 24), (14, 57), (15, 62), (15, 63), (15, 142), (16, 69), (16, 70), (17, 71), (17, 72), (18, 76), (18, 19), (19, 77), (20, 78), (20, 21), (20, 24), (21, 79), (21, 96), (22, 82), (22, 83), (23, 87), (23, 88), (23, 99), (23, 100), (24, 25), (24, 134), (25, 26), (26, 27), (27, 97), (28, 29), (29, 110), (30, 117), (30, 118), (31, 133), (32, 144), (32, 145), (33, 147), (33, 148), (34, 155), (34, 156), (38, 39), (39, 40), (42, 43), (43, 44), (44, 45), (47, 48), (48, 49), (52, 53), (53, 54), (54, 55), (55, 56), (57, 58), (58, 59), (59, 60), (60, 61), (61, 62), (63, 64), (64, 65), (65, 66), (66, 67), (67, 68), (68, 69), (70, 71), (72, 73), (73, 74), (74, 75), (75, 76), (77, 78), (79, 80), (80, 81), (81, 82), (83, 84), (84, 85), (85, 86), (86, 87), (88, 89), (89, 90), (90, 91), (91, 92), (92, 93), (94, 95), (95, 96), (97, 98), (98, 99), (100, 101), (101, 102), (102, 103), (103, 104), (104, 105), (105, 106), (106, 107), (107, 108), (108, 109), (110, 111), (111, 112), (112, 113), (113, 114), (114, 115), (115, 116), (116, 117), (118, 119), (119, 120), (120, 121), (121, 122), (122, 123), (123, 124), (124, 125), (125, 126), (126, 127), (127, 128), (128, 129), (129, 130), (130, 131), (131, 132), (132, 133), (134, 135), (135, 136), (136, 137), (137, 138), (138, 139), (139, 140), (140, 141), (141, 142), (143, 144), (145, 146), (146, 147), (148, 149), (149, 150), (150, 151), (151, 152), (152, 153), (153, 154), (154, 155), (156, 157)])"
      ]
     },
     "execution_count": 126,
     "metadata": {},
     "output_type": "execute_result"
    }
   ],
   "source": [
    "# Indicação das arestas\n",
    "g.add_edges_from([(1, 37), (1, 2), (2, 38), (2, 93), (2, 94), (3, 40), (3, 41), (4, 41), (4, 5), (5, 6), (5, 50), (5, 51), (5, 11), (5, 12), (5, 31), (6, 42), (7, 45), (7, 46), (7, 109), (7, 28), (8, 46), (8, 9), (9, 47), (9, 157), (10, 49), (10, 50), (10, 51), (10, 52), (11, 56), (12, 13), (12, 12), (12, 15), (12, 143), (13, 14), (13, 24), (14, 57), (15, 62), (15, 63), (15, 142), (16, 69), (16, 70), (17, 71), (17, 72), (18, 76), (18, 19), (19, 77), (20, 78), (20, 21), (20, 24), (21, 79), (21, 96), (22, 82), (22, 83), (23, 87), (23, 88), (23, 99), (23, 100), (24, 25), (24, 134), (25, 26), (26, 27), (27, 97), (28, 29), (29, 110), (30, 117), (30, 118), (31, 133), (32, 144), (32, 145), (33, 147), (33, 148), (34, 155), (34, 156), (38, 39), (39, 40), (42, 43), (43, 44), (44, 45), (47, 48), (48, 49), (52, 53), (53, 54), (54, 55), (55, 56), (57, 58), (58, 59), (59, 60), (60, 61), (61, 62), (63, 64), (64, 65), (65, 66), (66, 67), (67, 68), (68, 69), (70, 71), (72, 73), (73, 74), (74, 75), (75, 76), (77, 78), (79, 80), (80, 81), (81, 82), (83, 84), (84, 85), (85, 86), (86, 87), (88, 89), (89, 90), (90, 91), (91, 92), (92, 93), (94, 95), (95, 96), (97, 98), (98, 99), (100, 101), (101, 102), (102, 103), (103, 104), (104, 105), (105, 106), (106, 107), (107, 108), (108, 109), (110, 111), (111, 112), (112, 113), (113, 114), (114, 115), (115, 116), (116, 117), (118, 119), (119, 120), (120, 121), (121, 122), (122, 123), (123, 124), (124, 125), (125, 126), (126, 127), (127, 128), (128, 129), (129, 130), (130, 131), (131, 132), (132, 133), (134, 135), (135, 136), (136, 137), (137, 138), (138, 139), (139, 140), (140, 141), (141, 142), (143, 144), (145, 146), (146, 147), (148, 149), (149, 150), (150, 151), (151, 152), (152, 153), (153, 154), (154, 155), (156, 157)])\n",
    "\n",
    "# verificando as arestas criadas\n",
    "g.edges()"
   ]
  },
  {
   "cell_type": "code",
   "execution_count": 128,
   "metadata": {},
   "outputs": [
    {
     "data": {
      "image/png": "[encoded data removed]",
      "text/plain": [
       "<Figure size 640x480 with 1 Axes>"
      ]
     },
     "metadata": {},
     "output_type": "display_data"
    }
   ],
   "source": [
    "# Tentativa de plotagem do grafo com a Networks\n",
    "nx.draw_networkx(g, node_color='lightgray', node_size=10)\n",
    "\n",
    "figure.set_size_inches(80, 70)"
   ]
  },
  {
   "attachments": {},
   "cell_type": "markdown",
   "metadata": {},
   "source": [
    "# Inicio da Criação da visualização"
   ]
  },
  {
   "cell_type": "code",
   "execution_count": 2,
   "metadata": {},
   "outputs": [
    {
     "data": {
      "text/html": [
       "<div>\n",
       "<style scoped>\n",
       "    .dataframe tbody tr th:only-of-type {\n",
       "        vertical-align: middle;\n",
       "    }\n",
       "\n",
       "    .dataframe tbody tr th {\n",
       "        vertical-align: top;\n",
       "    }\n",
       "\n",
       "    .dataframe thead th {\n",
       "        text-align: right;\n",
       "    }\n",
       "</style>\n",
       "<table border=\"1\" class=\"dataframe\">\n",
       "  <thead>\n",
       "    <tr style=\"text-align: right;\">\n",
       "      <th></th>\n",
       "      <th>numero_linha</th>\n",
       "      <th>linha</th>\n",
       "      <th>long</th>\n",
       "      <th>lat</th>\n",
       "      <th>estacao_origem</th>\n",
       "      <th>numero_estacao_origem</th>\n",
       "      <th>estacao_baldeacao_origem</th>\n",
       "      <th>estacao_conectada</th>\n",
       "      <th>numero_estacao_conectada</th>\n",
       "      <th>estacao_baldeacao_conectada</th>\n",
       "    </tr>\n",
       "  </thead>\n",
       "  <tbody>\n",
       "    <tr>\n",
       "      <th>0</th>\n",
       "      <td>4</td>\n",
       "      <td>AMARELA</td>\n",
       "      <td>-46.723768</td>\n",
       "      <td>-23.58644</td>\n",
       "      <td>SAO PAULO MORUMBI</td>\n",
       "      <td>37</td>\n",
       "      <td>nao</td>\n",
       "      <td>BUTANTA</td>\n",
       "      <td>1</td>\n",
       "      <td>sim</td>\n",
       "    </tr>\n",
       "  </tbody>\n",
       "</table>\n",
       "</div>"
      ],
      "text/plain": [
       "   numero_linha    linha       long       lat     estacao_origem  \\\n",
       "0             4  AMARELA -46.723768 -23.58644  SAO PAULO MORUMBI   \n",
       "\n",
       "   numero_estacao_origem estacao_baldeacao_origem estacao_conectada  \\\n",
       "0                     37                      nao           BUTANTA   \n",
       "\n",
       "   numero_estacao_conectada estacao_baldeacao_conectada  \n",
       "0                         1                         sim  "
      ]
     },
     "execution_count": 2,
     "metadata": {},
     "output_type": "execute_result"
    }
   ],
   "source": [
    "# Importação da Base Pós Tratamento\n",
    "df = pd.read_csv('base_final.csv')\n",
    "df.head(1)"
   ]
  },
  {
   "cell_type": "code",
   "execution_count": 4,
   "metadata": {},
   "outputs": [
    {
     "data": {
      "application/vnd.plotly.v1+json": {
       "config": {
        "plotlyServerURL": "https://plot.ly"
       },
       "data": [
        {
         "hovertemplate": "<b>%{hovertext}</b><br><br>linha=AMARELA<br>lat=%{lat}<br>long=%{lon}<extra></extra>",
         "hovertext": [
          "SAO PAULO MORUMBI",
          "BUTANTA",
          "PINHEIROS",
          "FARIA LIMA",
          "FRADIQUE COUTINHO",
          "OSCAR FREIRE",
          "PAULISTA",
          "HIGIENOPOLIS MACKENZIE",
          "REPUBLICA",
          "LUZ"
         ],
         "lat": [
          -23.58644,
          -23.571857,
          -23.567392,
          -23.567269,
          -23.566228,
          -23.560521,
          -23.555044,
          -23.548935,
          -23.544291,
          -23.536259
         ],
         "legendgroup": "AMARELA",
         "line": {
          "color": "yellow"
         },
         "lon": [
          -46.723768,
          -46.708157,
          -46.70161,
          -46.694102,
          -46.684259,
          -46.671921,
          -46.662161,
          -46.652165,
          -46.642737,
          -46.634499
         ],
         "mode": "lines",
         "name": "AMARELA",
         "showlegend": true,
         "subplot": "mapbox",
         "type": "scattermapbox"
        },
        {
         "hovertemplate": "<b>%{hovertext}</b><br><br>linha=AZUL<br>lat=%{lat}<br>long=%{lon}<extra></extra>",
         "hovertext": [
          "JABAQUARA",
          "CONCEICAO",
          "SAO JUDAS",
          "SAUDE",
          "PRACA DA ARVORE",
          "SANTA CRUZ",
          "VILA MARIANA",
          "ANA ROSA",
          "PARAISO",
          "VERGUEIRO",
          "SAO JOAQUIM",
          "JAPAO LIBERDADE",
          "SE",
          "SAO BENTO",
          "LUZ",
          "TIRADENTES",
          "ARMENIA",
          "PORTUGUESA TIETE",
          "CARANDIRU",
          "SANTANA",
          "JARDIM SAO PAULO AYRTON SENNA",
          "PARADA INGLESA",
          "TUCURUVI"
         ],
         "lat": [
          -23.646261,
          -23.635338,
          -23.62551,
          -23.618374,
          -23.61058,
          -23.59894,
          -23.589257,
          -23.581184,
          -23.575799,
          -23.569131,
          -23.561838,
          -23.555142,
          -23.550201,
          -23.544273,
          -23.536894,
          -23.530975,
          -23.525494,
          -23.516258,
          -23.509538,
          -23.502629,
          -23.492458,
          -23.487014,
          -23.48014
         ],
         "legendgroup": "AZUL",
         "line": {
          "color": "#0ccfff"
         },
         "lon": [
          -46.641126,
          -46.641254,
          -46.640741,
          -46.639122,
          -46.637813,
          -46.636578,
          -46.634596,
          -46.638385,
          -46.640767,
          -46.639822,
          -46.638685,
          -46.635823,
          -46.632885,
          -46.633992,
          -46.633669,
          -46.632104,
          -46.62928,
          -46.625132,
          -46.624956,
          -46.624737,
          -46.617052,
          -46.608803,
          -46.603212
         ],
         "mode": "lines",
         "name": "AZUL",
         "showlegend": true,
         "subplot": "mapbox",
         "type": "scattermapbox"
        },
        {
         "hovertemplate": "<b>%{hovertext}</b><br><br>linha=CORAL<br>lat=%{lat}<br>long=%{lon}<extra></extra>",
         "hovertext": [
          "LUZ",
          "BRAS",
          "TATUAPE",
          "CORINTHIANS ITAQUERA",
          "DOM BOSCO",
          "JOSE BONIFACIO",
          "GUAIANASES",
          "ANTONIO GIANETTI NETO",
          "FERRAZ DE VASCONCELOS",
          "POA",
          "CALMON VIANA",
          "SUZANO",
          "JUNDIAPEBA",
          "BRAS CUBAS",
          "MOGI DAS CRUZES",
          "ESTUDANTES"
         ],
         "lat": [
          -23.535083,
          -23.545184,
          -23.54014,
          -23.542091,
          -23.541848,
          -23.539045,
          -23.542338,
          -23.554443,
          -23.541083,
          -23.525403,
          -23.534095,
          -23.525454,
          -23.54271,
          -23.538037,
          -23.521655,
          -23.515735
         ],
         "legendgroup": "CORAL",
         "line": {
          "color": "#ffac45"
         },
         "lon": [
          -46.635285,
          -46.616498,
          -46.576464,
          -46.471179,
          -46.448177,
          -46.431519,
          -46.415503,
          -46.3839,
          -46.368735,
          -46.343607,
          -46.307898,
          -46.332969,
          -46.258015,
          -46.231004,
          -46.198203,
          -46.184967
         ],
         "mode": "lines",
         "name": "CORAL",
         "showlegend": true,
         "subplot": "mapbox",
         "type": "scattermapbox"
        },
        {
         "hovertemplate": "<b>%{hovertext}</b><br><br>linha=DIAMANTE<br>lat=%{lat}<br>long=%{lon}<extra></extra>",
         "hovertext": [
          "AMADOR BUENO",
          "SANTA RITA",
          "ITAPEVI",
          "ENGENHEIRO CARDOSO",
          "SAGRADO CORACAO",
          "JANDIRA",
          "JARDIM SILVEIRA",
          "JARDIM BELVAL",
          "BARUERI",
          "ANTONIO JOAO",
          "SANTA TERESINHA",
          "CARAPICUIBA",
          "GENERAL MIGUEL COSTA",
          "QUITAUNA",
          "COMANDANTE SAMPAIO",
          "OSASCO",
          "PRESIDENTE ALTINO",
          "IMPERATRIZ LEOPOLDINA",
          "DOMINGOS DE MORAIS",
          "LAPA DIAMANTE",
          "BARRA FUNDA",
          "JULIO PRESTES"
         ],
         "lat": [
          -23.530541,
          -23.544952,
          -23.545425,
          -23.535129,
          -23.529152,
          -23.527753,
          -23.523696,
          -23.513918,
          -23.512687,
          -23.516936,
          -23.516629,
          -23.518557,
          -23.52347,
          -23.522738,
          -23.525676,
          -23.527823,
          -23.531442,
          -23.523421,
          -23.518887,
          -23.52018,
          -23.525683,
          -23.533163
         ],
         "legendgroup": "DIAMANTE",
         "line": {
          "color": "#cecccc"
         },
         "lon": [
          -46.983711,
          -46.947511,
          -46.935055,
          -46.928631,
          -46.916665,
          -46.902369,
          -46.89358,
          -46.889221,
          -46.875325,
          -46.85864,
          -46.847812,
          -46.835503,
          -46.816042,
          -46.806914,
          -46.795989,
          -46.775823,
          -46.761784,
          -46.737239,
          -46.722478,
          -46.698985,
          -46.667363,
          -46.640625
         ],
         "mode": "lines",
         "name": "DIAMANTE",
         "showlegend": true,
         "subplot": "mapbox",
         "type": "scattermapbox"
        },
        {
         "hovertemplate": "<b>%{hovertext}</b><br><br>linha=ESMERALDA<br>lat=%{lat}<br>long=%{lon}<extra></extra>",
         "hovertext": [
          "GRAJAU",
          "PRIMAVERA INTERLAGOS",
          "AUTODROMO",
          "JURUBATUBA",
          "SOCORRO",
          "SANTO AMARO",
          "GRANJA JULIETA",
          "MORUMBI",
          "BERRINI",
          "VILA OLIMPIA",
          "CIDADE JARDIM",
          "HEBRAICA REBOUCAS",
          "PINHEIROS",
          "CIDADE UNIVERSITARIA",
          "VILLA LOBOS JAGUARE",
          "CEASA",
          "PRESIDENTE ALTINO",
          "OSASCO"
         ],
         "lat": [
          -23.736298,
          -23.723037,
          -23.706195,
          -23.677399,
          -23.662783,
          -23.656331,
          -23.627637,
          -23.621433,
          -23.604711,
          -23.5936,
          -23.585523,
          -23.573632,
          -23.566538,
          -23.557632,
          -23.545868,
          -23.53759,
          -23.531395,
          -23.527638
         ],
         "legendgroup": "ESMERALDA",
         "line": {
          "color": "#235e21"
         },
         "lon": [
          -46.696983,
          -46.691768,
          -46.68844,
          -46.702269,
          -46.711212,
          -46.719015,
          -46.712035,
          -46.70145,
          -46.696759,
          -46.692763,
          -46.691116,
          -46.698654,
          -46.703038,
          -46.711928,
          -46.733151,
          -46.742419,
          -46.761937,
          -46.77591
         ],
         "mode": "lines",
         "name": "ESMERALDA",
         "showlegend": true,
         "subplot": "mapbox",
         "type": "scattermapbox"
        },
        {
         "hovertemplate": "<b>%{hovertext}</b><br><br>linha=JADE<br>lat=%{lat}<br>long=%{lon}<extra></extra>",
         "hovertext": [
          "ENGENHEIRO GOULART",
          "GUARULHOS CECAP",
          "AEROPORTO GUARULHOS"
         ],
         "lat": [
          -23.497915,
          -23.447484,
          -23.433131
         ],
         "legendgroup": "JADE",
         "line": {
          "color": "#00ff90"
         },
         "lon": [
          -46.520822,
          -46.493596,
          -46.493781
         ],
         "mode": "lines",
         "name": "JADE",
         "showlegend": true,
         "subplot": "mapbox",
         "type": "scattermapbox"
        },
        {
         "hovertemplate": "<b>%{hovertext}</b><br><br>linha=LILAS<br>lat=%{lat}<br>long=%{lon}<extra></extra>",
         "hovertext": [
          "CAPAO REDONDO",
          "CAMPO LIMPO",
          "VILA DAS BELEZAS",
          "GIOVANNI GRONCHI",
          "SANTO AMARO",
          "LARGO TREZE",
          "ADOLFO PINHEIRO",
          "ALTO DA BOA VISTA",
          "BORBA GATO",
          "BROOKLIN",
          "CAMPO BELO",
          "EUCALIPTOS",
          "MOEMA",
          "AACD SERVIDOR",
          "HOSPITAL SAO PAULO",
          "SANTA CRUZ",
          "CHACARA KLABIN"
         ],
         "lat": [
          -23.659266,
          -23.649318,
          -23.640418,
          -23.643979,
          -23.655748,
          -23.654236,
          -23.65011,
          -23.641455,
          -23.633737,
          -23.626968,
          -23.618863,
          -23.609942,
          -23.603697,
          -23.597642,
          -23.598178,
          -23.598378,
          -23.592988
         ],
         "legendgroup": "LILAS",
         "line": {
          "color": "#f262f0"
         },
         "lon": [
          -46.767986,
          -46.758929,
          -46.745723,
          -46.734108,
          -46.720889,
          -46.708452,
          -46.704301,
          -46.699272,
          -46.693151,
          -46.688036,
          -46.682197,
          -46.668554,
          -46.662316,
          -46.65228,
          -46.64536,
          -46.636741,
          -46.631118
         ],
         "mode": "lines",
         "name": "LILAS",
         "showlegend": true,
         "subplot": "mapbox",
         "type": "scattermapbox"
        },
        {
         "hovertemplate": "<b>%{hovertext}</b><br><br>linha=PRATA<br>lat=%{lat}<br>long=%{lon}<extra></extra>",
         "hovertext": [
          "VILA PRUDENTE",
          "ORATORIO",
          "SAO LUCAS",
          "CAMILO HADDAD",
          "VILA TOLSTOI",
          "VILA UNIAO",
          "JARDIM PLANALTO",
          "SAPOPEMBA",
          "FAZENDA DA JUTA",
          "SAO MATEUS"
         ],
         "lat": [
          -23.584626,
          -23.58217,
          -23.588924,
          -23.595464,
          -23.600849,
          -23.602988,
          -23.60649,
          -23.614713,
          -23.61181,
          -23.612134
         ],
         "legendgroup": "PRATA",
         "line": {
          "color": "#bd0000"
         },
         "lon": [
          -46.583214,
          -46.561818,
          -46.544659,
          -46.537645,
          -46.527249,
          -46.515527,
          -46.507633,
          -46.500803,
          -46.487452,
          -46.476765
         ],
         "mode": "lines",
         "name": "PRATA",
         "showlegend": true,
         "subplot": "mapbox",
         "type": "scattermapbox"
        },
        {
         "hovertemplate": "<b>%{hovertext}</b><br><br>linha=RUBI<br>lat=%{lat}<br>long=%{lon}<extra></extra>",
         "hovertext": [
          "JUNDIAI",
          "VARZEA PAULISTA",
          "CAMPO LIMPO PAULISTA",
          "BOTUJURU",
          "FRANCISCO MORATO",
          "BALTAZAR FIDELIS",
          "FRANCO DA ROCHA",
          "CAIEIRAS",
          "PERUS",
          "VILA AURORA",
          "JARAGUA",
          "VILA CLARICE",
          "PIRITUBA",
          "PIQUERI",
          "LAPA RUBI",
          "AGUA BRANCA",
          "BARRA FUNDA",
          "LUZ",
          "BRAS"
         ],
         "lat": [
          -23.195382,
          -23.208851,
          -23.206636,
          -23.236393,
          -23.282476,
          -23.310132,
          -23.329607,
          -23.366166,
          -23.404975,
          -23.437763,
          -23.455415,
          -23.469907,
          -23.488457,
          -23.503587,
          -23.517676,
          -23.521372,
          -23.525387,
          -23.53518,
          -23.54489
         ],
         "legendgroup": "RUBI",
         "line": {
          "color": "#2755df"
         },
         "lon": [
          -46.872035,
          -46.828941,
          -46.785489,
          -46.767223,
          -46.74259,
          -46.723407,
          -46.72634,
          -46.751528,
          -46.753656,
          -46.747258,
          -46.73854,
          -46.744437,
          -46.726116,
          -46.715044,
          -46.703923,
          -46.68855,
          -46.667351,
          -46.635314,
          -46.616601
         ],
         "mode": "lines",
         "name": "RUBI",
         "showlegend": true,
         "subplot": "mapbox",
         "type": "scattermapbox"
        },
        {
         "hovertemplate": "<b>%{hovertext}</b><br><br>linha=SAFIRA<br>lat=%{lat}<br>long=%{lon}<extra></extra>",
         "hovertext": [
          "BRAS",
          "TATUAPE",
          "ENGENHEIRO GOULART",
          "USP LESTE",
          "COMENDADOR ERMELINO",
          "SAO MIGUEL PAULISTA",
          "JARDIM HELENA VILA MARA",
          "ITAIM PAULISTA",
          "JARDIM ROMANO",
          "ENGENHEIRO MANUEL FEIO",
          "ITAQUACETUBA",
          "ARACARE",
          "CALMON VIANA"
         ],
         "lat": [
          -23.54489,
          -23.540065,
          -23.498318,
          -23.485512,
          -23.485146,
          -23.490385,
          -23.492688,
          -23.493998,
          -23.484924,
          -23.479075,
          -23.485826,
          -23.500589,
          -23.525298
         ],
         "legendgroup": "SAFIRA",
         "line": {
          "color": "#05b390"
         },
         "lon": [
          -46.616601,
          -46.576479,
          -46.520621,
          -46.50166,
          -46.482291,
          -46.443786,
          -46.421537,
          -46.401871,
          -46.385564,
          -46.367779,
          -46.348176,
          -46.33902,
          -46.332908
         ],
         "mode": "lines",
         "name": "SAFIRA",
         "showlegend": true,
         "subplot": "mapbox",
         "type": "scattermapbox"
        },
        {
         "hovertemplate": "<b>%{hovertext}</b><br><br>linha=TURQUESA<br>lat=%{lat}<br>long=%{lon}<extra></extra>",
         "hovertext": [
          "BRAS",
          "JUVENTUS MOOCA",
          "IPIRANGA",
          "TAMANDUATEI",
          "SAO CAETANO DO SUL PREFEITO WALTER BRAIDO",
          "UTINGA",
          "PREFEITO SALADINO",
          "PREFEITO CELSO DANIEL SANTO ANDRE",
          "CAPUAVA",
          "MAUA",
          "GUAPITUBA",
          "ANTONIO BESPALEC RIBEIRAO PIRES",
          "RIO GRANDE DA SERRA"
         ],
         "lat": [
          -23.54547,
          -23.55868,
          -23.582225,
          -23.592847,
          -23.610032,
          -23.626138,
          -23.638327,
          -23.652324,
          -23.658304,
          -23.668169,
          -23.692169,
          -23.713632,
          -23.743306
         ],
         "legendgroup": "TURQUESA",
         "line": {
          "color": "green"
         },
         "lon": [
          -46.616434,
          -46.60794,
          -46.596701,
          -46.589289,
          -46.57007,
          -46.544146,
          -46.536754,
          -46.528212,
          -46.490103,
          -46.461611,
          -46.448673,
          -46.414767,
          -46.391864
         ],
         "mode": "lines",
         "name": "TURQUESA",
         "showlegend": true,
         "subplot": "mapbox",
         "type": "scattermapbox"
        },
        {
         "hovertemplate": "<b>%{hovertext}</b><br><br>linha=VERDE<br>lat=%{lat}<br>long=%{lon}<extra></extra>",
         "hovertext": [
          "VILA MADALENA",
          "SANTUARIO NOSSA SENHORA DE FATIMA SUMARE",
          "CLINICAS",
          "CONSOLACAO",
          "TRIANON MASP",
          "BRIGADEIRO",
          "PARAISO",
          "ANA ROSA",
          "CHACARA KLABIN",
          "SANTOS IMIGRANTES",
          "ALTO DO IPIRANGA",
          "SACOMA",
          "TAMANDUATEI",
          "VILA PRUDENTE"
         ],
         "lat": [
          -23.546394,
          -23.551155,
          -23.553986,
          -23.557372,
          -23.5631,
          -23.568871,
          -23.575655,
          -23.581257,
          -23.592562,
          -23.595855,
          -23.602248,
          -23.601505,
          -23.59297,
          -23.584277
         ],
         "legendgroup": "VERDE",
         "line": {
          "color": "red"
         },
         "lon": [
          -46.690836,
          -46.677263,
          -46.671029,
          -46.660974,
          -46.654368,
          -46.647318,
          -46.640913,
          -46.638505,
          -46.630416,
          -46.620944,
          -46.61253,
          -46.602868,
          -46.589733,
          -46.581799
         ],
         "mode": "lines",
         "name": "VERDE",
         "showlegend": true,
         "subplot": "mapbox",
         "type": "scattermapbox"
        },
        {
         "hovertemplate": "<b>%{hovertext}</b><br><br>linha=VERMELHA<br>lat=%{lat}<br>long=%{lon}<extra></extra>",
         "hovertext": [
          "PALMEIRAS BARRA FUNDA",
          "MARECHAL DEODORO",
          "SANTA CECILIA",
          "REPUBLICA",
          "ANHANGABAU",
          "SE",
          "PEDRO II",
          "BRAS",
          "BRESSER MOOCA",
          "BELEM",
          "TATUAPE",
          "CARRAO",
          "PENHA",
          "VILA MATILDE",
          "GUILHERMINA ESPERANCA",
          "PATRIARCA VILA RE",
          "ARTUR ALVIM",
          "CORINTHIANS ITAQUERA"
         ],
         "lat": [
          -23.525951,
          -23.533971,
          -23.540057,
          -23.543872,
          -23.547946,
          -23.55022,
          -23.549679,
          -23.547892,
          -23.546467,
          -23.542964,
          -23.540488,
          -23.537905,
          -23.533516,
          -23.531906,
          -23.529421,
          -23.531229,
          -23.540371,
          -23.542439
         ],
         "legendgroup": "VERMELHA",
         "line": {
          "color": "yellow"
         },
         "lon": [
          -46.667374,
          -46.655656,
          -46.648383,
          -46.643021,
          -46.638844,
          -46.632918,
          -46.625615,
          -46.615666,
          -46.607354,
          -46.589641,
          -46.57639,
          -46.564119,
          -46.542302,
          -46.530926,
          -46.51673,
          -46.501354,
          -46.484555,
          -46.4711
         ],
         "mode": "lines",
         "name": "VERMELHA",
         "showlegend": true,
         "subplot": "mapbox",
         "type": "scattermapbox"
        }
       ],
       "layout": {
        "height": 600,
        "legend": {
         "title": {
          "text": "linha"
         },
         "tracegroupgap": 0
        },
        "mapbox": {
         "center": {
          "lat": -23.55032,
          "lon": -46.627698821428595
         },
         "domain": {
          "x": [
           0,
           1
          ],
          "y": [
           0,
           1
          ]
         },
         "style": "stamen-terrain",
         "zoom": 9
        },
        "margin": {
         "b": 0,
         "l": 0,
         "r": 0,
         "t": 0
        },
        "template": {
         "data": {
          "bar": [
           {
            "error_x": {
             "color": "#2a3f5f"
            },
            "error_y": {
             "color": "#2a3f5f"
            },
            "marker": {
             "line": {
              "color": "#E5ECF6",
              "width": 0.5
             },
             "pattern": {
              "fillmode": "overlay",
              "size": 10,
              "solidity": 0.2
             }
            },
            "type": "bar"
           }
          ],
          "barpolar": [
           {
            "marker": {
             "line": {
              "color": "#E5ECF6",
              "width": 0.5
             },
             "pattern": {
              "fillmode": "overlay",
              "size": 10,
              "solidity": 0.2
             }
            },
            "type": "barpolar"
           }
          ],
          "carpet": [
           {
            "aaxis": {
             "endlinecolor": "#2a3f5f",
             "gridcolor": "white",
             "linecolor": "white",
             "minorgridcolor": "white",
             "startlinecolor": "#2a3f5f"
            },
            "baxis": {
             "endlinecolor": "#2a3f5f",
             "gridcolor": "white",
             "linecolor": "white",
             "minorgridcolor": "white",
             "startlinecolor": "#2a3f5f"
            },
            "type": "carpet"
           }
          ],
          "choropleth": [
           {
            "colorbar": {
             "outlinewidth": 0,
             "ticks": ""
            },
            "type": "choropleth"
           }
          ],
          "contour": [
           {
            "colorbar": {
             "outlinewidth": 0,
             "ticks": ""
            },
            "colorscale": [
             [
              0,
              "#0d0887"
             ],
             [
              0.1111111111111111,
              "#46039f"
             ],
             [
              0.2222222222222222,
              "#7201a8"
             ],
             [
              0.3333333333333333,
              "#9c179e"
             ],
             [
              0.4444444444444444,
              "#bd3786"
             ],
             [
              0.5555555555555556,
              "#d8576b"
             ],
             [
              0.6666666666666666,
              "#ed7953"
             ],
             [
              0.7777777777777778,
              "#fb9f3a"
             ],
             [
              0.8888888888888888,
              "#fdca26"
             ],
             [
              1,
              "#f0f921"
             ]
            ],
            "type": "contour"
           }
          ],
          "contourcarpet": [
           {
            "colorbar": {
             "outlinewidth": 0,
             "ticks": ""
            },
            "type": "contourcarpet"
           }
          ],
          "heatmap": [
           {
            "colorbar": {
             "outlinewidth": 0,
             "ticks": ""
            },
            "colorscale": [
             [
              0,
              "#0d0887"
             ],
             [
              0.1111111111111111,
              "#46039f"
             ],
             [
              0.2222222222222222,
              "#7201a8"
             ],
             [
              0.3333333333333333,
              "#9c179e"
             ],
             [
              0.4444444444444444,
              "#bd3786"
             ],
             [
              0.5555555555555556,
              "#d8576b"
             ],
             [
              0.6666666666666666,
              "#ed7953"
             ],
             [
              0.7777777777777778,
              "#fb9f3a"
             ],
             [
              0.8888888888888888,
              "#fdca26"
             ],
             [
              1,
              "#f0f921"
             ]
            ],
            "type": "heatmap"
           }
          ],
          "heatmapgl": [
           {
            "colorbar": {
             "outlinewidth": 0,
             "ticks": ""
            },
            "colorscale": [
             [
              0,
              "#0d0887"
             ],
             [
              0.1111111111111111,
              "#46039f"
             ],
             [
              0.2222222222222222,
              "#7201a8"
             ],
             [
              0.3333333333333333,
              "#9c179e"
             ],
             [
              0.4444444444444444,
              "#bd3786"
             ],
             [
              0.5555555555555556,
              "#d8576b"
             ],
             [
              0.6666666666666666,
              "#ed7953"
             ],
             [
              0.7777777777777778,
              "#fb9f3a"
             ],
             [
              0.8888888888888888,
              "#fdca26"
             ],
             [
              1,
              "#f0f921"
             ]
            ],
            "type": "heatmapgl"
           }
          ],
          "histogram": [
           {
            "marker": {
             "pattern": {
              "fillmode": "overlay",
              "size": 10,
              "solidity": 0.2
             }
            },
            "type": "histogram"
           }
          ],
          "histogram2d": [
           {
            "colorbar": {
             "outlinewidth": 0,
             "ticks": ""
            },
            "colorscale": [
             [
              0,
              "#0d0887"
             ],
             [
              0.1111111111111111,
              "#46039f"
             ],
             [
              0.2222222222222222,
              "#7201a8"
             ],
             [
              0.3333333333333333,
              "#9c179e"
             ],
             [
              0.4444444444444444,
              "#bd3786"
             ],
             [
              0.5555555555555556,
              "#d8576b"
             ],
             [
              0.6666666666666666,
              "#ed7953"
             ],
             [
              0.7777777777777778,
              "#fb9f3a"
             ],
             [
              0.8888888888888888,
              "#fdca26"
             ],
             [
              1,
              "#f0f921"
             ]
            ],
            "type": "histogram2d"
           }
          ],
          "histogram2dcontour": [
           {
            "colorbar": {
             "outlinewidth": 0,
             "ticks": ""
            },
            "colorscale": [
             [
              0,
              "#0d0887"
             ],
             [
              0.1111111111111111,
              "#46039f"
             ],
             [
              0.2222222222222222,
              "#7201a8"
             ],
             [
              0.3333333333333333,
              "#9c179e"
             ],
             [
              0.4444444444444444,
              "#bd3786"
             ],
             [
              0.5555555555555556,
              "#d8576b"
             ],
             [
              0.6666666666666666,
              "#ed7953"
             ],
             [
              0.7777777777777778,
              "#fb9f3a"
             ],
             [
              0.8888888888888888,
              "#fdca26"
             ],
             [
              1,
              "#f0f921"
             ]
            ],
            "type": "histogram2dcontour"
           }
          ],
          "mesh3d": [
           {
            "colorbar": {
             "outlinewidth": 0,
             "ticks": ""
            },
            "type": "mesh3d"
           }
          ],
          "parcoords": [
           {
            "line": {
             "colorbar": {
              "outlinewidth": 0,
              "ticks": ""
             }
            },
            "type": "parcoords"
           }
          ],
          "pie": [
           {
            "automargin": true,
            "type": "pie"
           }
          ],
          "scatter": [
           {
            "fillpattern": {
             "fillmode": "overlay",
             "size": 10,
             "solidity": 0.2
            },
            "type": "scatter"
           }
          ],
          "scatter3d": [
           {
            "line": {
             "colorbar": {
              "outlinewidth": 0,
              "ticks": ""
             }
            },
            "marker": {
             "colorbar": {
              "outlinewidth": 0,
              "ticks": ""
             }
            },
            "type": "scatter3d"
           }
          ],
          "scattercarpet": [
           {
            "marker": {
             "colorbar": {
              "outlinewidth": 0,
              "ticks": ""
             }
            },
            "type": "scattercarpet"
           }
          ],
          "scattergeo": [
           {
            "marker": {
             "colorbar": {
              "outlinewidth": 0,
              "ticks": ""
             }
            },
            "type": "scattergeo"
           }
          ],
          "scattergl": [
           {
            "marker": {
             "colorbar": {
              "outlinewidth": 0,
              "ticks": ""
             }
            },
            "type": "scattergl"
           }
          ],
          "scattermapbox": [
           {
            "marker": {
             "colorbar": {
              "outlinewidth": 0,
              "ticks": ""
             }
            },
            "type": "scattermapbox"
           }
          ],
          "scatterpolar": [
           {
            "marker": {
             "colorbar": {
              "outlinewidth": 0,
              "ticks": ""
             }
            },
            "type": "scatterpolar"
           }
          ],
          "scatterpolargl": [
           {
            "marker": {
             "colorbar": {
              "outlinewidth": 0,
              "ticks": ""
             }
            },
            "type": "scatterpolargl"
           }
          ],
          "scatterternary": [
           {
            "marker": {
             "colorbar": {
              "outlinewidth": 0,
              "ticks": ""
             }
            },
            "type": "scatterternary"
           }
          ],
          "surface": [
           {
            "colorbar": {
             "outlinewidth": 0,
             "ticks": ""
            },
            "colorscale": [
             [
              0,
              "#0d0887"
             ],
             [
              0.1111111111111111,
              "#46039f"
             ],
             [
              0.2222222222222222,
              "#7201a8"
             ],
             [
              0.3333333333333333,
              "#9c179e"
             ],
             [
              0.4444444444444444,
              "#bd3786"
             ],
             [
              0.5555555555555556,
              "#d8576b"
             ],
             [
              0.6666666666666666,
              "#ed7953"
             ],
             [
              0.7777777777777778,
              "#fb9f3a"
             ],
             [
              0.8888888888888888,
              "#fdca26"
             ],
             [
              1,
              "#f0f921"
             ]
            ],
            "type": "surface"
           }
          ],
          "table": [
           {
            "cells": {
             "fill": {
              "color": "#EBF0F8"
             },
             "line": {
              "color": "white"
             }
            },
            "header": {
             "fill": {
              "color": "#C8D4E3"
             },
             "line": {
              "color": "white"
             }
            },
            "type": "table"
           }
          ]
         },
         "layout": {
          "annotationdefaults": {
           "arrowcolor": "#2a3f5f",
           "arrowhead": 0,
           "arrowwidth": 1
          },
          "autotypenumbers": "strict",
          "coloraxis": {
           "colorbar": {
            "outlinewidth": 0,
            "ticks": ""
           }
          },
          "colorscale": {
           "diverging": [
            [
             0,
             "#8e0152"
            ],
            [
             0.1,
             "#c51b7d"
            ],
            [
             0.2,
             "#de77ae"
            ],
            [
             0.3,
             "#f1b6da"
            ],
            [
             0.4,
             "#fde0ef"
            ],
            [
             0.5,
             "#f7f7f7"
            ],
            [
             0.6,
             "#e6f5d0"
            ],
            [
             0.7,
             "#b8e186"
            ],
            [
             0.8,
             "#7fbc41"
            ],
            [
             0.9,
             "#4d9221"
            ],
            [
             1,
             "#276419"
            ]
           ],
           "sequential": [
            [
             0,
             "#0d0887"
            ],
            [
             0.1111111111111111,
             "#46039f"
            ],
            [
             0.2222222222222222,
             "#7201a8"
            ],
            [
             0.3333333333333333,
             "#9c179e"
            ],
            [
             0.4444444444444444,
             "#bd3786"
            ],
            [
             0.5555555555555556,
             "#d8576b"
            ],
            [
             0.6666666666666666,
             "#ed7953"
            ],
            [
             0.7777777777777778,
             "#fb9f3a"
            ],
            [
             0.8888888888888888,
             "#fdca26"
            ],
            [
             1,
             "#f0f921"
            ]
           ],
           "sequentialminus": [
            [
             0,
             "#0d0887"
            ],
            [
             0.1111111111111111,
             "#46039f"
            ],
            [
             0.2222222222222222,
             "#7201a8"
            ],
            [
             0.3333333333333333,
             "#9c179e"
            ],
            [
             0.4444444444444444,
             "#bd3786"
            ],
            [
             0.5555555555555556,
             "#d8576b"
            ],
            [
             0.6666666666666666,
             "#ed7953"
            ],
            [
             0.7777777777777778,
             "#fb9f3a"
            ],
            [
             0.8888888888888888,
             "#fdca26"
            ],
            [
             1,
             "#f0f921"
            ]
           ]
          },
          "colorway": [
           "#636efa",
           "#EF553B",
           "#00cc96",
           "#ab63fa",
           "#FFA15A",
           "#19d3f3",
           "#FF6692",
           "#B6E880",
           "#FF97FF",
           "#FECB52"
          ],
          "font": {
           "color": "#2a3f5f"
          },
          "geo": {
           "bgcolor": "white",
           "lakecolor": "white",
           "landcolor": "#E5ECF6",
           "showlakes": true,
           "showland": true,
           "subunitcolor": "white"
          },
          "hoverlabel": {
           "align": "left"
          },
          "hovermode": "closest",
          "mapbox": {
           "style": "light"
          },
          "paper_bgcolor": "white",
          "plot_bgcolor": "#E5ECF6",
          "polar": {
           "angularaxis": {
            "gridcolor": "white",
            "linecolor": "white",
            "ticks": ""
           },
           "bgcolor": "#E5ECF6",
           "radialaxis": {
            "gridcolor": "white",
            "linecolor": "white",
            "ticks": ""
           }
          },
          "scene": {
           "xaxis": {
            "backgroundcolor": "#E5ECF6",
            "gridcolor": "white",
            "gridwidth": 2,
            "linecolor": "white",
            "showbackground": true,
            "ticks": "",
            "zerolinecolor": "white"
           },
           "yaxis": {
            "backgroundcolor": "#E5ECF6",
            "gridcolor": "white",
            "gridwidth": 2,
            "linecolor": "white",
            "showbackground": true,
            "ticks": "",
            "zerolinecolor": "white"
           },
           "zaxis": {
            "backgroundcolor": "#E5ECF6",
            "gridcolor": "white",
            "gridwidth": 2,
            "linecolor": "white",
            "showbackground": true,
            "ticks": "",
            "zerolinecolor": "white"
           }
          },
          "shapedefaults": {
           "line": {
            "color": "#2a3f5f"
           }
          },
          "ternary": {
           "aaxis": {
            "gridcolor": "white",
            "linecolor": "white",
            "ticks": ""
           },
           "baxis": {
            "gridcolor": "white",
            "linecolor": "white",
            "ticks": ""
           },
           "bgcolor": "#E5ECF6",
           "caxis": {
            "gridcolor": "white",
            "linecolor": "white",
            "ticks": ""
           }
          },
          "title": {
           "x": 0.05
          },
          "xaxis": {
           "automargin": true,
           "gridcolor": "white",
           "linecolor": "white",
           "ticks": "",
           "title": {
            "standoff": 15
           },
           "zerolinecolor": "white",
           "zerolinewidth": 2
          },
          "yaxis": {
           "automargin": true,
           "gridcolor": "white",
           "linecolor": "white",
           "ticks": "",
           "title": {
            "standoff": 15
           },
           "zerolinecolor": "white",
           "zerolinewidth": 2
          }
         }
        },
        "title": {
         "text": "Malha Ferroviaria Região Metropolitana de São Paulo"
        }
       }
      }
     },
     "metadata": {},
     "output_type": "display_data"
    }
   ],
   "source": [
    "# Representação Gráfica Malha Ferrea da Região Metropolitana de São Paulo\n",
    "fig = px.line_mapbox(df, title='Malha Ferroviaria Região Metropolitana de São Paulo', lat=\"lat\", lon=\"long\", \n",
    "                     color_discrete_sequence=[\"yellow\", \"#0ccfff\", \"#ffac45\", \"#cecccc\", '#235e21', '#00ff90', \n",
    "                                              '#f262f0', '#bd0000', '#2755df', '#05b390', 'green', 'red'],\n",
    "                     color=\"linha\",\n",
    "                     hover_name=\"estacao_origem\", zoom=10)\n",
    "\n",
    "fig.update_layout(mapbox_style=\"stamen-terrain\", mapbox_zoom=9, mapbox_center_lat = -23.55032,\n",
    "    margin={\"r\":0,\"t\":0,\"l\":0,\"b\":0}, height=600)\n",
    "\n",
    "fig.show()"
   ]
  },
  {
   "cell_type": "code",
   "execution_count": 5,
   "metadata": {},
   "outputs": [
    {
     "data": {
      "text/html": [
       "<div>\n",
       "<style scoped>\n",
       "    .dataframe tbody tr th:only-of-type {\n",
       "        vertical-align: middle;\n",
       "    }\n",
       "\n",
       "    .dataframe tbody tr th {\n",
       "        vertical-align: top;\n",
       "    }\n",
       "\n",
       "    .dataframe thead th {\n",
       "        text-align: right;\n",
       "    }\n",
       "</style>\n",
       "<table border=\"1\" class=\"dataframe\">\n",
       "  <thead>\n",
       "    <tr style=\"text-align: right;\">\n",
       "      <th></th>\n",
       "      <th>numero_linha</th>\n",
       "      <th>linha</th>\n",
       "      <th>long</th>\n",
       "      <th>lat</th>\n",
       "      <th>estacao_origem</th>\n",
       "      <th>numero_estacao_origem</th>\n",
       "      <th>estacao_baldeacao_origem</th>\n",
       "      <th>estacao_conectada</th>\n",
       "      <th>numero_estacao_conectada</th>\n",
       "      <th>estacao_baldeacao_conectada</th>\n",
       "    </tr>\n",
       "  </thead>\n",
       "  <tbody>\n",
       "    <tr>\n",
       "      <th>0</th>\n",
       "      <td>4</td>\n",
       "      <td>AMARELA</td>\n",
       "      <td>-46.723768</td>\n",
       "      <td>-23.586440</td>\n",
       "      <td>SAO PAULO MORUMBI</td>\n",
       "      <td>37</td>\n",
       "      <td>nao</td>\n",
       "      <td>BUTANTA</td>\n",
       "      <td>1</td>\n",
       "      <td>sim</td>\n",
       "    </tr>\n",
       "    <tr>\n",
       "      <th>1</th>\n",
       "      <td>4</td>\n",
       "      <td>AMARELA</td>\n",
       "      <td>-46.708157</td>\n",
       "      <td>-23.571857</td>\n",
       "      <td>BUTANTA</td>\n",
       "      <td>1</td>\n",
       "      <td>sim</td>\n",
       "      <td>PINHEIROS</td>\n",
       "      <td>2</td>\n",
       "      <td>sim</td>\n",
       "    </tr>\n",
       "    <tr>\n",
       "      <th>2</th>\n",
       "      <td>4</td>\n",
       "      <td>AMARELA</td>\n",
       "      <td>-46.701610</td>\n",
       "      <td>-23.567392</td>\n",
       "      <td>PINHEIROS</td>\n",
       "      <td>2</td>\n",
       "      <td>sim</td>\n",
       "      <td>FARIA LIMA</td>\n",
       "      <td>38</td>\n",
       "      <td>nao</td>\n",
       "    </tr>\n",
       "    <tr>\n",
       "      <th>3</th>\n",
       "      <td>4</td>\n",
       "      <td>AMARELA</td>\n",
       "      <td>-46.694102</td>\n",
       "      <td>-23.567269</td>\n",
       "      <td>FARIA LIMA</td>\n",
       "      <td>38</td>\n",
       "      <td>nao</td>\n",
       "      <td>FRADIQUE COUTINHO</td>\n",
       "      <td>39</td>\n",
       "      <td>nao</td>\n",
       "    </tr>\n",
       "    <tr>\n",
       "      <th>4</th>\n",
       "      <td>4</td>\n",
       "      <td>AMARELA</td>\n",
       "      <td>-46.684259</td>\n",
       "      <td>-23.566228</td>\n",
       "      <td>FRADIQUE COUTINHO</td>\n",
       "      <td>39</td>\n",
       "      <td>nao</td>\n",
       "      <td>OSCAR FREIRE</td>\n",
       "      <td>40</td>\n",
       "      <td>nao</td>\n",
       "    </tr>\n",
       "  </tbody>\n",
       "</table>\n",
       "</div>"
      ],
      "text/plain": [
       "   numero_linha    linha       long        lat     estacao_origem  \\\n",
       "0             4  AMARELA -46.723768 -23.586440  SAO PAULO MORUMBI   \n",
       "1             4  AMARELA -46.708157 -23.571857            BUTANTA   \n",
       "2             4  AMARELA -46.701610 -23.567392          PINHEIROS   \n",
       "3             4  AMARELA -46.694102 -23.567269         FARIA LIMA   \n",
       "4             4  AMARELA -46.684259 -23.566228  FRADIQUE COUTINHO   \n",
       "\n",
       "   numero_estacao_origem estacao_baldeacao_origem  estacao_conectada  \\\n",
       "0                     37                      nao            BUTANTA   \n",
       "1                      1                      sim          PINHEIROS   \n",
       "2                      2                      sim         FARIA LIMA   \n",
       "3                     38                      nao  FRADIQUE COUTINHO   \n",
       "4                     39                      nao       OSCAR FREIRE   \n",
       "\n",
       "   numero_estacao_conectada estacao_baldeacao_conectada  \n",
       "0                         1                         sim  \n",
       "1                         2                         sim  \n",
       "2                        38                         nao  \n",
       "3                        39                         nao  \n",
       "4                        40                         nao  "
      ]
     },
     "execution_count": 5,
     "metadata": {},
     "output_type": "execute_result"
    }
   ],
   "source": [
    "df.head()"
   ]
  },
  {
   "attachments": {},
   "cell_type": "markdown",
   "metadata": {},
   "source": [
    "# Criação Funções"
   ]
  },
  {
   "cell_type": "code",
   "execution_count": 6,
   "metadata": {},
   "outputs": [
    {
     "data": {
      "text/plain": [
       "[('SAO PAULO MORUMBI', 'BUTANTA'),\n",
       " ('BUTANTA', 'PINHEIROS'),\n",
       " ('PINHEIROS', 'FARIA LIMA'),\n",
       " ('FARIA LIMA', 'FRADIQUE COUTINHO'),\n",
       " ('FRADIQUE COUTINHO', 'OSCAR FREIRE'),\n",
       " ('OSCAR FREIRE', 'PAULISTA'),\n",
       " ('PAULISTA', 'HIGIENOPOLIS MACKENZIE'),\n",
       " ('HIGIENOPOLIS MACKENZIE', 'REPUBLICA'),\n",
       " ('REPUBLICA', 'LUZ'),\n",
       " ('LUZ', 'LUZ'),\n",
       " ('JABAQUARA', 'CONCEICAO'),\n",
       " ('CONCEICAO', 'SAO JUDAS'),\n",
       " ('SAO JUDAS', 'SAUDE'),\n",
       " ('SAUDE', 'PRACA DA ARVORE'),\n",
       " ('PRACA DA ARVORE', 'SANTA CRUZ'),\n",
       " ('SANTA CRUZ', 'VILA MARIANA'),\n",
       " ('VILA MARIANA', 'ANA ROSA'),\n",
       " ('ANA ROSA', 'PARAISO'),\n",
       " ('PARAISO', 'VERGUEIRO'),\n",
       " ('VERGUEIRO', 'SAO JOAQUIM'),\n",
       " ('SAO JOAQUIM', 'JAPAO LIBERDADE'),\n",
       " ('JAPAO LIBERDADE', 'SE'),\n",
       " ('SE', 'SAO BENTO'),\n",
       " ('SAO BENTO', 'LUZ'),\n",
       " ('LUZ', 'TIRADENTES'),\n",
       " ('TIRADENTES', 'ARMENIA'),\n",
       " ('ARMENIA', 'PORTUGUESA TIETE'),\n",
       " ('PORTUGUESA TIETE', 'CARANDIRU'),\n",
       " ('CARANDIRU', 'SANTANA'),\n",
       " ('SANTANA', 'JARDIM SAO PAULO AYRTON SENNA'),\n",
       " ('JARDIM SAO PAULO AYRTON SENNA', 'PARADA INGLESA'),\n",
       " ('PARADA INGLESA', 'TUCURUVI'),\n",
       " ('TUCURUVI', 'TUCURUVI'),\n",
       " ('LUZ', 'BRAS'),\n",
       " ('BRAS', 'TATUAPE'),\n",
       " ('TATUAPE', 'CORINTHIANS ITAQUERA'),\n",
       " ('CORINTHIANS ITAQUERA', 'DOM BOSCO'),\n",
       " ('DOM BOSCO', 'JOSE BONIFACIO'),\n",
       " ('JOSE BONIFACIO', 'GUAIANASES'),\n",
       " ('GUAIANASES', 'ANTONIO GIANETTI NETO'),\n",
       " ('ANTONIO GIANETTI NETO', 'FERRAZ DE VASCONCELOS'),\n",
       " ('FERRAZ DE VASCONCELOS', 'POA'),\n",
       " ('POA', 'CALMON VIANA'),\n",
       " ('CALMON VIANA', 'SUZANO'),\n",
       " ('SUZANO', 'JUNDIAPEBA'),\n",
       " ('JUNDIAPEBA', 'BRAS CUBAS'),\n",
       " ('BRAS CUBAS', 'MOGI DAS CRUZES'),\n",
       " ('MOGI DAS CRUZES', 'ESTUDANTES'),\n",
       " ('ESTUDANTES', 'ESTUDANTES'),\n",
       " ('AMADOR BUENO', 'SANTA RITA'),\n",
       " ('SANTA RITA', 'ITAPEVI'),\n",
       " ('ITAPEVI', 'ENGENHEIRO CARDOSO'),\n",
       " ('ENGENHEIRO CARDOSO', 'SAGRADO CORACAO'),\n",
       " ('SAGRADO CORACAO', 'JANDIRA'),\n",
       " ('JANDIRA', 'JARDIM SILVEIRA'),\n",
       " ('JARDIM SILVEIRA', 'JARDIM BELVAL'),\n",
       " ('JARDIM BELVAL', 'BARUERI'),\n",
       " ('BARUERI', 'ANTONIO JOAO'),\n",
       " ('ANTONIO JOAO', 'SANTA TERESINHA'),\n",
       " ('SANTA TERESINHA', 'CARAPICUIBA'),\n",
       " ('CARAPICUIBA', 'GENERAL MIGUEL COSTA'),\n",
       " ('GENERAL MIGUEL COSTA', 'QUITAUNA'),\n",
       " ('QUITAUNA', 'COMANDANTE SAMPAIO'),\n",
       " ('COMANDANTE SAMPAIO', 'OSASCO'),\n",
       " ('OSASCO', 'PRESIDENTE ALTINO'),\n",
       " ('PRESIDENTE ALTINO', 'IMPERATRIZ LEOPOLDINA'),\n",
       " ('IMPERATRIZ LEOPOLDINA', 'DOMINGOS DE MORAIS'),\n",
       " ('DOMINGOS DE MORAIS', 'LAPA DIAMANTE'),\n",
       " ('LAPA DIAMANTE', 'BARRA FUNDA'),\n",
       " ('BARRA FUNDA', 'JULIO PRESTES'),\n",
       " ('JULIO PRESTES', 'JULIO PRESTES'),\n",
       " ('GRAJAU', 'PRIMAVERA INTERLAGOS'),\n",
       " ('PRIMAVERA INTERLAGOS', 'AUTODROMO'),\n",
       " ('AUTODROMO', 'JURUBATUBA'),\n",
       " ('JURUBATUBA', 'SOCORRO'),\n",
       " ('SOCORRO', 'SANTO AMARO'),\n",
       " ('SANTO AMARO', 'GRANJA JULIETA'),\n",
       " ('GRANJA JULIETA', 'MORUMBI'),\n",
       " ('MORUMBI', 'BERRINI'),\n",
       " ('BERRINI', 'VILA OLIMPIA'),\n",
       " ('VILA OLIMPIA', 'CIDADE JARDIM'),\n",
       " ('CIDADE JARDIM', 'HEBRAICA REBOUCAS'),\n",
       " ('HEBRAICA REBOUCAS', 'PINHEIROS'),\n",
       " ('PINHEIROS', 'CIDADE UNIVERSITARIA'),\n",
       " ('CIDADE UNIVERSITARIA', 'VILLA LOBOS JAGUARE'),\n",
       " ('VILLA LOBOS JAGUARE', 'CEASA'),\n",
       " ('CEASA', 'PRESIDENTE ALTINO'),\n",
       " ('PRESIDENTE ALTINO', 'OSASCO'),\n",
       " ('OSASCO', 'OSASCO'),\n",
       " ('ENGENHEIRO GOULART', 'GUARULHOS CECAP'),\n",
       " ('GUARULHOS CECAP', 'AEROPORTO GUARULHOS'),\n",
       " ('AEROPORTO GUARULHOS', 'AEROPORTO GUARULHOS'),\n",
       " ('CAPAO REDONDO', 'CAMPO LIMPO'),\n",
       " ('CAMPO LIMPO', 'VILA DAS BELEZAS'),\n",
       " ('VILA DAS BELEZAS', 'GIOVANNI GRONCHI'),\n",
       " ('GIOVANNI GRONCHI', 'SANTO AMARO'),\n",
       " ('SANTO AMARO', 'LARGO TREZE'),\n",
       " ('LARGO TREZE', 'ADOLFO PINHEIRO'),\n",
       " ('ADOLFO PINHEIRO', 'ALTO DA BOA VISTA'),\n",
       " ('ALTO DA BOA VISTA', 'BORBA GATO'),\n",
       " ('BORBA GATO', 'BROOKLIN'),\n",
       " ('BROOKLIN', 'CAMPO BELO'),\n",
       " ('CAMPO BELO', 'EUCALIPTOS'),\n",
       " ('EUCALIPTOS', 'MOEMA'),\n",
       " ('MOEMA', 'AACD SERVIDOR'),\n",
       " ('AACD SERVIDOR', 'HOSPITAL SAO PAULO'),\n",
       " ('HOSPITAL SAO PAULO', 'SANTA CRUZ'),\n",
       " ('SANTA CRUZ', 'CHACARA KLABIN'),\n",
       " ('CHACARA KLABIN', 'CHACARA KLABIN'),\n",
       " ('VILA PRUDENTE', 'ORATORIO'),\n",
       " ('ORATORIO', 'SAO LUCAS'),\n",
       " ('SAO LUCAS', 'CAMILO HADDAD'),\n",
       " ('CAMILO HADDAD', 'VILA TOLSTOI'),\n",
       " ('VILA TOLSTOI', 'VILA UNIAO'),\n",
       " ('VILA UNIAO', 'JARDIM PLANALTO'),\n",
       " ('JARDIM PLANALTO', 'SAPOPEMBA'),\n",
       " ('SAPOPEMBA', 'FAZENDA DA JUTA'),\n",
       " ('FAZENDA DA JUTA', 'SAO MATEUS'),\n",
       " ('SAO MATEUS', 'SAO MATEUS'),\n",
       " ('JUNDIAI', 'VARZEA PAULISTA'),\n",
       " ('VARZEA PAULISTA', 'CAMPO LIMPO PAULISTA'),\n",
       " ('CAMPO LIMPO PAULISTA', 'BOTUJURU'),\n",
       " ('BOTUJURU', 'FRANCISCO MORATO'),\n",
       " ('FRANCISCO MORATO', 'BALTAZAR FIDELIS'),\n",
       " ('BALTAZAR FIDELIS', 'FRANCO DA ROCHA'),\n",
       " ('FRANCO DA ROCHA', 'CAIEIRAS'),\n",
       " ('CAIEIRAS', 'PERUS'),\n",
       " ('PERUS', 'VILA AURORA'),\n",
       " ('VILA AURORA', 'JARAGUA'),\n",
       " ('JARAGUA', 'VILA CLARICE'),\n",
       " ('VILA CLARICE', 'PIRITUBA'),\n",
       " ('PIRITUBA', 'PIQUERI'),\n",
       " ('PIQUERI', 'LAPA RUBI'),\n",
       " ('LAPA RUBI', 'AGUA BRANCA'),\n",
       " ('AGUA BRANCA', 'BARRA FUNDA'),\n",
       " ('BARRA FUNDA', 'LUZ'),\n",
       " ('LUZ', 'BRAS'),\n",
       " ('BRAS', 'BRAS'),\n",
       " ('BRAS', 'TATUAPE'),\n",
       " ('TATUAPE', 'ENGENHEIRO GOULART'),\n",
       " ('ENGENHEIRO GOULART', 'USP LESTE'),\n",
       " ('USP LESTE', 'COMENDADOR ERMELINO'),\n",
       " ('COMENDADOR ERMELINO', 'SAO MIGUEL PAULISTA'),\n",
       " ('SAO MIGUEL PAULISTA', 'JARDIM HELENA VILA MARA'),\n",
       " ('JARDIM HELENA VILA MARA', 'ITAIM PAULISTA'),\n",
       " ('ITAIM PAULISTA', 'JARDIM ROMANO'),\n",
       " ('JARDIM ROMANO', 'ENGENHEIRO MANUEL FEIO'),\n",
       " ('ENGENHEIRO MANUEL FEIO', 'ITAQUACETUBA'),\n",
       " ('ITAQUACETUBA', 'ARACARE'),\n",
       " ('ARACARE', 'CALMON VIANA'),\n",
       " ('CALMON VIANA', 'CALMON VIANA'),\n",
       " ('BRAS', 'JUVENTUS MOOCA'),\n",
       " ('JUVENTUS MOOCA', 'IPIRANGA'),\n",
       " ('IPIRANGA', 'TAMANDUATEI'),\n",
       " ('TAMANDUATEI', 'SAO CAETANO DO SUL PREFEITO WALTER BRAIDO'),\n",
       " ('SAO CAETANO DO SUL PREFEITO WALTER BRAIDO', 'UTINGA'),\n",
       " ('UTINGA', 'PREFEITO SALADINO'),\n",
       " ('PREFEITO SALADINO', 'PREFEITO CELSO DANIEL SANTO ANDRE'),\n",
       " ('PREFEITO CELSO DANIEL SANTO ANDRE', 'CAPUAVA'),\n",
       " ('CAPUAVA', 'MAUA'),\n",
       " ('MAUA', 'GUAPITUBA'),\n",
       " ('GUAPITUBA', 'ANTONIO BESPALEC RIBEIRAO PIRES'),\n",
       " ('ANTONIO BESPALEC RIBEIRAO PIRES', 'RIO GRANDE DA SERRA'),\n",
       " ('RIO GRANDE DA SERRA', 'RIO GRANDE DA SERRA'),\n",
       " ('VILA MADALENA', 'SANTUARIO NOSSA SENHORA DE FATIMA SUMARE'),\n",
       " ('SANTUARIO NOSSA SENHORA DE FATIMA SUMARE', 'CLINICAS'),\n",
       " ('CLINICAS', 'CONSOLACAO'),\n",
       " ('CONSOLACAO', 'TRIANON MASP'),\n",
       " ('TRIANON MASP', 'BRIGADEIRO'),\n",
       " ('BRIGADEIRO', 'PARAISO'),\n",
       " ('PARAISO', 'ANA ROSA')]"
      ]
     },
     "execution_count": 6,
     "metadata": {},
     "output_type": "execute_result"
    }
   ],
   "source": [
    "# Listagem das Estações visando serem usadas\n",
    "# como os vertices da busca pelo caminho mais curto\n",
    "# e grafo com as estações a serem utilizadas\n",
    "\n",
    "lista_vertices = []\n",
    "for i in range(0, 171):\n",
    "  lista_vertices += [(df.estacao_origem\t[i], df.estacao_conectada[i])]\n",
    "  i += 1\n",
    "lista_vertices"
   ]
  },
  {
   "cell_type": "code",
   "execution_count": 7,
   "metadata": {},
   "outputs": [
    {
     "name": "stdout",
     "output_type": "stream",
     "text": [
      "defaultdict(<class 'list'>, {'SAO PAULO MORUMBI': ['BUTANTA'], 'BUTANTA': ['SAO PAULO MORUMBI', 'PINHEIROS'], 'PINHEIROS': ['BUTANTA', 'FARIA LIMA', 'HEBRAICA REBOUCAS', 'CIDADE UNIVERSITARIA'], 'FARIA LIMA': ['PINHEIROS', 'FRADIQUE COUTINHO'], 'FRADIQUE COUTINHO': ['FARIA LIMA', 'OSCAR FREIRE'], 'OSCAR FREIRE': ['FRADIQUE COUTINHO', 'PAULISTA'], 'PAULISTA': ['OSCAR FREIRE', 'HIGIENOPOLIS MACKENZIE'], 'HIGIENOPOLIS MACKENZIE': ['PAULISTA', 'REPUBLICA'], 'REPUBLICA': ['HIGIENOPOLIS MACKENZIE', 'LUZ'], 'LUZ': ['REPUBLICA', 'LUZ', 'LUZ', 'SAO BENTO', 'TIRADENTES', 'BRAS', 'BARRA FUNDA', 'BRAS'], 'JABAQUARA': ['CONCEICAO'], 'CONCEICAO': ['JABAQUARA', 'SAO JUDAS'], 'SAO JUDAS': ['CONCEICAO', 'SAUDE'], 'SAUDE': ['SAO JUDAS', 'PRACA DA ARVORE'], 'PRACA DA ARVORE': ['SAUDE', 'SANTA CRUZ'], 'SANTA CRUZ': ['PRACA DA ARVORE', 'VILA MARIANA', 'HOSPITAL SAO PAULO', 'CHACARA KLABIN'], 'VILA MARIANA': ['SANTA CRUZ', 'ANA ROSA'], 'ANA ROSA': ['VILA MARIANA', 'PARAISO', 'PARAISO'], 'PARAISO': ['ANA ROSA', 'VERGUEIRO', 'BRIGADEIRO', 'ANA ROSA'], 'VERGUEIRO': ['PARAISO', 'SAO JOAQUIM'], 'SAO JOAQUIM': ['VERGUEIRO', 'JAPAO LIBERDADE'], 'JAPAO LIBERDADE': ['SAO JOAQUIM', 'SE'], 'SE': ['JAPAO LIBERDADE', 'SAO BENTO'], 'SAO BENTO': ['SE', 'LUZ'], 'TIRADENTES': ['LUZ', 'ARMENIA'], 'ARMENIA': ['TIRADENTES', 'PORTUGUESA TIETE'], 'PORTUGUESA TIETE': ['ARMENIA', 'CARANDIRU'], 'CARANDIRU': ['PORTUGUESA TIETE', 'SANTANA'], 'SANTANA': ['CARANDIRU', 'JARDIM SAO PAULO AYRTON SENNA'], 'JARDIM SAO PAULO AYRTON SENNA': ['SANTANA', 'PARADA INGLESA'], 'PARADA INGLESA': ['JARDIM SAO PAULO AYRTON SENNA', 'TUCURUVI'], 'TUCURUVI': ['PARADA INGLESA', 'TUCURUVI', 'TUCURUVI'], 'BRAS': ['LUZ', 'TATUAPE', 'LUZ', 'BRAS', 'BRAS', 'TATUAPE', 'JUVENTUS MOOCA'], 'TATUAPE': ['BRAS', 'CORINTHIANS ITAQUERA', 'BRAS', 'ENGENHEIRO GOULART'], 'CORINTHIANS ITAQUERA': ['TATUAPE', 'DOM BOSCO'], 'DOM BOSCO': ['CORINTHIANS ITAQUERA', 'JOSE BONIFACIO'], 'JOSE BONIFACIO': ['DOM BOSCO', 'GUAIANASES'], 'GUAIANASES': ['JOSE BONIFACIO', 'ANTONIO GIANETTI NETO'], 'ANTONIO GIANETTI NETO': ['GUAIANASES', 'FERRAZ DE VASCONCELOS'], 'FERRAZ DE VASCONCELOS': ['ANTONIO GIANETTI NETO', 'POA'], 'POA': ['FERRAZ DE VASCONCELOS', 'CALMON VIANA'], 'CALMON VIANA': ['POA', 'SUZANO', 'ARACARE', 'CALMON VIANA', 'CALMON VIANA'], 'SUZANO': ['CALMON VIANA', 'JUNDIAPEBA'], 'JUNDIAPEBA': ['SUZANO', 'BRAS CUBAS'], 'BRAS CUBAS': ['JUNDIAPEBA', 'MOGI DAS CRUZES'], 'MOGI DAS CRUZES': ['BRAS CUBAS', 'ESTUDANTES'], 'ESTUDANTES': ['MOGI DAS CRUZES', 'ESTUDANTES', 'ESTUDANTES'], 'AMADOR BUENO': ['SANTA RITA'], 'SANTA RITA': ['AMADOR BUENO', 'ITAPEVI'], 'ITAPEVI': ['SANTA RITA', 'ENGENHEIRO CARDOSO'], 'ENGENHEIRO CARDOSO': ['ITAPEVI', 'SAGRADO CORACAO'], 'SAGRADO CORACAO': ['ENGENHEIRO CARDOSO', 'JANDIRA'], 'JANDIRA': ['SAGRADO CORACAO', 'JARDIM SILVEIRA'], 'JARDIM SILVEIRA': ['JANDIRA', 'JARDIM BELVAL'], 'JARDIM BELVAL': ['JARDIM SILVEIRA', 'BARUERI'], 'BARUERI': ['JARDIM BELVAL', 'ANTONIO JOAO'], 'ANTONIO JOAO': ['BARUERI', 'SANTA TERESINHA'], 'SANTA TERESINHA': ['ANTONIO JOAO', 'CARAPICUIBA'], 'CARAPICUIBA': ['SANTA TERESINHA', 'GENERAL MIGUEL COSTA'], 'GENERAL MIGUEL COSTA': ['CARAPICUIBA', 'QUITAUNA'], 'QUITAUNA': ['GENERAL MIGUEL COSTA', 'COMANDANTE SAMPAIO'], 'COMANDANTE SAMPAIO': ['QUITAUNA', 'OSASCO'], 'OSASCO': ['COMANDANTE SAMPAIO', 'PRESIDENTE ALTINO', 'PRESIDENTE ALTINO', 'OSASCO', 'OSASCO'], 'PRESIDENTE ALTINO': ['OSASCO', 'IMPERATRIZ LEOPOLDINA', 'CEASA', 'OSASCO'], 'IMPERATRIZ LEOPOLDINA': ['PRESIDENTE ALTINO', 'DOMINGOS DE MORAIS'], 'DOMINGOS DE MORAIS': ['IMPERATRIZ LEOPOLDINA', 'LAPA DIAMANTE'], 'LAPA DIAMANTE': ['DOMINGOS DE MORAIS', 'BARRA FUNDA'], 'BARRA FUNDA': ['LAPA DIAMANTE', 'JULIO PRESTES', 'AGUA BRANCA', 'LUZ'], 'JULIO PRESTES': ['BARRA FUNDA', 'JULIO PRESTES', 'JULIO PRESTES'], 'GRAJAU': ['PRIMAVERA INTERLAGOS'], 'PRIMAVERA INTERLAGOS': ['GRAJAU', 'AUTODROMO'], 'AUTODROMO': ['PRIMAVERA INTERLAGOS', 'JURUBATUBA'], 'JURUBATUBA': ['AUTODROMO', 'SOCORRO'], 'SOCORRO': ['JURUBATUBA', 'SANTO AMARO'], 'SANTO AMARO': ['SOCORRO', 'GRANJA JULIETA', 'GIOVANNI GRONCHI', 'LARGO TREZE'], 'GRANJA JULIETA': ['SANTO AMARO', 'MORUMBI'], 'MORUMBI': ['GRANJA JULIETA', 'BERRINI'], 'BERRINI': ['MORUMBI', 'VILA OLIMPIA'], 'VILA OLIMPIA': ['BERRINI', 'CIDADE JARDIM'], 'CIDADE JARDIM': ['VILA OLIMPIA', 'HEBRAICA REBOUCAS'], 'HEBRAICA REBOUCAS': ['CIDADE JARDIM', 'PINHEIROS'], 'CIDADE UNIVERSITARIA': ['PINHEIROS', 'VILLA LOBOS JAGUARE'], 'VILLA LOBOS JAGUARE': ['CIDADE UNIVERSITARIA', 'CEASA'], 'CEASA': ['VILLA LOBOS JAGUARE', 'PRESIDENTE ALTINO'], 'ENGENHEIRO GOULART': ['GUARULHOS CECAP', 'TATUAPE', 'USP LESTE'], 'GUARULHOS CECAP': ['ENGENHEIRO GOULART', 'AEROPORTO GUARULHOS'], 'AEROPORTO GUARULHOS': ['GUARULHOS CECAP', 'AEROPORTO GUARULHOS', 'AEROPORTO GUARULHOS'], 'CAPAO REDONDO': ['CAMPO LIMPO'], 'CAMPO LIMPO': ['CAPAO REDONDO', 'VILA DAS BELEZAS'], 'VILA DAS BELEZAS': ['CAMPO LIMPO', 'GIOVANNI GRONCHI'], 'GIOVANNI GRONCHI': ['VILA DAS BELEZAS', 'SANTO AMARO'], 'LARGO TREZE': ['SANTO AMARO', 'ADOLFO PINHEIRO'], 'ADOLFO PINHEIRO': ['LARGO TREZE', 'ALTO DA BOA VISTA'], 'ALTO DA BOA VISTA': ['ADOLFO PINHEIRO', 'BORBA GATO'], 'BORBA GATO': ['ALTO DA BOA VISTA', 'BROOKLIN'], 'BROOKLIN': ['BORBA GATO', 'CAMPO BELO'], 'CAMPO BELO': ['BROOKLIN', 'EUCALIPTOS'], 'EUCALIPTOS': ['CAMPO BELO', 'MOEMA'], 'MOEMA': ['EUCALIPTOS', 'AACD SERVIDOR'], 'AACD SERVIDOR': ['MOEMA', 'HOSPITAL SAO PAULO'], 'HOSPITAL SAO PAULO': ['AACD SERVIDOR', 'SANTA CRUZ'], 'CHACARA KLABIN': ['SANTA CRUZ', 'CHACARA KLABIN', 'CHACARA KLABIN'], 'VILA PRUDENTE': ['ORATORIO'], 'ORATORIO': ['VILA PRUDENTE', 'SAO LUCAS'], 'SAO LUCAS': ['ORATORIO', 'CAMILO HADDAD'], 'CAMILO HADDAD': ['SAO LUCAS', 'VILA TOLSTOI'], 'VILA TOLSTOI': ['CAMILO HADDAD', 'VILA UNIAO'], 'VILA UNIAO': ['VILA TOLSTOI', 'JARDIM PLANALTO'], 'JARDIM PLANALTO': ['VILA UNIAO', 'SAPOPEMBA'], 'SAPOPEMBA': ['JARDIM PLANALTO', 'FAZENDA DA JUTA'], 'FAZENDA DA JUTA': ['SAPOPEMBA', 'SAO MATEUS'], 'SAO MATEUS': ['FAZENDA DA JUTA', 'SAO MATEUS', 'SAO MATEUS'], 'JUNDIAI': ['VARZEA PAULISTA'], 'VARZEA PAULISTA': ['JUNDIAI', 'CAMPO LIMPO PAULISTA'], 'CAMPO LIMPO PAULISTA': ['VARZEA PAULISTA', 'BOTUJURU'], 'BOTUJURU': ['CAMPO LIMPO PAULISTA', 'FRANCISCO MORATO'], 'FRANCISCO MORATO': ['BOTUJURU', 'BALTAZAR FIDELIS'], 'BALTAZAR FIDELIS': ['FRANCISCO MORATO', 'FRANCO DA ROCHA'], 'FRANCO DA ROCHA': ['BALTAZAR FIDELIS', 'CAIEIRAS'], 'CAIEIRAS': ['FRANCO DA ROCHA', 'PERUS'], 'PERUS': ['CAIEIRAS', 'VILA AURORA'], 'VILA AURORA': ['PERUS', 'JARAGUA'], 'JARAGUA': ['VILA AURORA', 'VILA CLARICE'], 'VILA CLARICE': ['JARAGUA', 'PIRITUBA'], 'PIRITUBA': ['VILA CLARICE', 'PIQUERI'], 'PIQUERI': ['PIRITUBA', 'LAPA RUBI'], 'LAPA RUBI': ['PIQUERI', 'AGUA BRANCA'], 'AGUA BRANCA': ['LAPA RUBI', 'BARRA FUNDA'], 'USP LESTE': ['ENGENHEIRO GOULART', 'COMENDADOR ERMELINO'], 'COMENDADOR ERMELINO': ['USP LESTE', 'SAO MIGUEL PAULISTA'], 'SAO MIGUEL PAULISTA': ['COMENDADOR ERMELINO', 'JARDIM HELENA VILA MARA'], 'JARDIM HELENA VILA MARA': ['SAO MIGUEL PAULISTA', 'ITAIM PAULISTA'], 'ITAIM PAULISTA': ['JARDIM HELENA VILA MARA', 'JARDIM ROMANO'], 'JARDIM ROMANO': ['ITAIM PAULISTA', 'ENGENHEIRO MANUEL FEIO'], 'ENGENHEIRO MANUEL FEIO': ['JARDIM ROMANO', 'ITAQUACETUBA'], 'ITAQUACETUBA': ['ENGENHEIRO MANUEL FEIO', 'ARACARE'], 'ARACARE': ['ITAQUACETUBA', 'CALMON VIANA'], 'JUVENTUS MOOCA': ['BRAS', 'IPIRANGA'], 'IPIRANGA': ['JUVENTUS MOOCA', 'TAMANDUATEI'], 'TAMANDUATEI': ['IPIRANGA', 'SAO CAETANO DO SUL PREFEITO WALTER BRAIDO'], 'SAO CAETANO DO SUL PREFEITO WALTER BRAIDO': ['TAMANDUATEI', 'UTINGA'], 'UTINGA': ['SAO CAETANO DO SUL PREFEITO WALTER BRAIDO', 'PREFEITO SALADINO'], 'PREFEITO SALADINO': ['UTINGA', 'PREFEITO CELSO DANIEL SANTO ANDRE'], 'PREFEITO CELSO DANIEL SANTO ANDRE': ['PREFEITO SALADINO', 'CAPUAVA'], 'CAPUAVA': ['PREFEITO CELSO DANIEL SANTO ANDRE', 'MAUA'], 'MAUA': ['CAPUAVA', 'GUAPITUBA'], 'GUAPITUBA': ['MAUA', 'ANTONIO BESPALEC RIBEIRAO PIRES'], 'ANTONIO BESPALEC RIBEIRAO PIRES': ['GUAPITUBA', 'RIO GRANDE DA SERRA'], 'RIO GRANDE DA SERRA': ['ANTONIO BESPALEC RIBEIRAO PIRES', 'RIO GRANDE DA SERRA', 'RIO GRANDE DA SERRA'], 'VILA MADALENA': ['SANTUARIO NOSSA SENHORA DE FATIMA SUMARE'], 'SANTUARIO NOSSA SENHORA DE FATIMA SUMARE': ['VILA MADALENA', 'CLINICAS'], 'CLINICAS': ['SANTUARIO NOSSA SENHORA DE FATIMA SUMARE', 'CONSOLACAO'], 'CONSOLACAO': ['CLINICAS', 'TRIANON MASP'], 'TRIANON MASP': ['CONSOLACAO', 'BRIGADEIRO'], 'BRIGADEIRO': ['TRIANON MASP', 'PARAISO']})\n"
     ]
    }
   ],
   "source": [
    "from collections import defaultdict\n",
    " \n",
    "# Criação Função Base dos Relacionamentos Intra-Estações\n",
    "def chavemaneto_relacoes():\n",
    "    vertices = lista_vertices\n",
    "    \n",
    "    grafo = defaultdict(list)\n",
    "     \n",
    "    # Loop to iterate over every\n",
    "    # edge of the grafo\n",
    "    for vertice in vertices:\n",
    "        a, b = vertice[0], vertice[1]\n",
    "         \n",
    "        # Creating the grafo\n",
    "        # as adjacency list\n",
    "        grafo[a].append(b)\n",
    "        grafo[b].append(a)\n",
    "    return grafo\n",
    " \n",
    "grafo = chavemaneto_relacoes()\n",
    "     \n",
    "print(grafo)"
   ]
  },
  {
   "cell_type": "code",
   "execution_count": 8,
   "metadata": {},
   "outputs": [
    {
     "data": {
      "text/html": [
       "<div>\n",
       "<style scoped>\n",
       "    .dataframe tbody tr th:only-of-type {\n",
       "        vertical-align: middle;\n",
       "    }\n",
       "\n",
       "    .dataframe tbody tr th {\n",
       "        vertical-align: top;\n",
       "    }\n",
       "\n",
       "    .dataframe thead th {\n",
       "        text-align: right;\n",
       "    }\n",
       "</style>\n",
       "<table border=\"1\" class=\"dataframe\">\n",
       "  <thead>\n",
       "    <tr style=\"text-align: right;\">\n",
       "      <th></th>\n",
       "      <th>numero_linha</th>\n",
       "      <th>linha</th>\n",
       "      <th>long</th>\n",
       "      <th>lat</th>\n",
       "      <th>estacao_origem</th>\n",
       "      <th>numero_estacao_origem</th>\n",
       "      <th>estacao_baldeacao_origem</th>\n",
       "      <th>estacao_conectada</th>\n",
       "      <th>numero_estacao_conectada</th>\n",
       "      <th>estacao_baldeacao_conectada</th>\n",
       "    </tr>\n",
       "  </thead>\n",
       "  <tbody>\n",
       "    <tr>\n",
       "      <th>0</th>\n",
       "      <td>4</td>\n",
       "      <td>AMARELA</td>\n",
       "      <td>-46.723768</td>\n",
       "      <td>-23.58644</td>\n",
       "      <td>SAO PAULO MORUMBI</td>\n",
       "      <td>37</td>\n",
       "      <td>nao</td>\n",
       "      <td>BUTANTA</td>\n",
       "      <td>1</td>\n",
       "      <td>sim</td>\n",
       "    </tr>\n",
       "  </tbody>\n",
       "</table>\n",
       "</div>"
      ],
      "text/plain": [
       "   numero_linha    linha       long       lat     estacao_origem  \\\n",
       "0             4  AMARELA -46.723768 -23.58644  SAO PAULO MORUMBI   \n",
       "\n",
       "   numero_estacao_origem estacao_baldeacao_origem estacao_conectada  \\\n",
       "0                     37                      nao           BUTANTA   \n",
       "\n",
       "   numero_estacao_conectada estacao_baldeacao_conectada  \n",
       "0                         1                         sim  "
      ]
     },
     "execution_count": 8,
     "metadata": {},
     "output_type": "execute_result"
    }
   ],
   "source": [
    "df.head(1)"
   ]
  },
  {
   "cell_type": "code",
   "execution_count": 9,
   "metadata": {},
   "outputs": [],
   "source": [
    "# Python implementation to find the\n",
    "# shortest path in the graph using\n",
    "# dictionaries\n",
    " \n",
    "# Function to find the shortest\n",
    "# path between two nodes of a graph\n",
    "def BFS_SP(graph, start, goal):\n",
    "    explored = []\n",
    "     \n",
    "    # Queue for traversing the\n",
    "    # graph in the BFS\n",
    "    queue = [[start]]\n",
    "     \n",
    "    # If the desired node is\n",
    "    # reached\n",
    "    if start == goal:\n",
    "        print(\"Same Node\")\n",
    "        return\n",
    "     \n",
    "    # Loop to traverse the graph\n",
    "    # with the help of the queue\n",
    "    while queue:\n",
    "        path = queue.pop(0)\n",
    "        node = path[-1]\n",
    "         \n",
    "        # Condition to check if the\n",
    "        # current node is not visited\n",
    "        if node not in explored:\n",
    "            neighbours = graph[node]\n",
    "             \n",
    "            # Loop to iterate over the\n",
    "            # neighbours of the node\n",
    "            for neighbour in neighbours:\n",
    "                new_path = list(path)\n",
    "                new_path.append(neighbour)\n",
    "                queue.append(new_path)\n",
    "                 \n",
    "                # Condition to check if the\n",
    "                # neighbour node is the goal\n",
    "                if neighbour == goal:\n",
    "                    return new_path\n",
    "            explored.append(node)\n",
    " \n",
    "    # Condition when the nodes\n",
    "    # are not connected\n",
    "    print(\"So sorry, but a connecting\"\\\n",
    "                \"path doesn't exist :(\")\n",
    "    return\n",
    " \n",
    "\n",
    "     \n",
    "# Graph using dictionaries\n",
    "graph = {'SAO PAULO MORUMBI': ['BUTANTA'], 'BUTANTA': ['SAO PAULO MORUMBI', 'PINHEIROS'], 'PINHEIROS': ['BUTANTA', 'FARIA LIMA', 'HEBRAICA REBOUCAS', 'CIDADE UNIVERSITARIA'], 'FARIA LIMA': ['PINHEIROS', 'FRADIQUE COUTINHO'], 'FRADIQUE COUTINHO': ['FARIA LIMA', 'OSCAR FREIRE'], 'OSCAR FREIRE': ['FRADIQUE COUTINHO', 'PAULISTA'], 'PAULISTA': ['OSCAR FREIRE', 'HIGIENOPOLIS MACKENZIE'], 'HIGIENOPOLIS MACKENZIE': ['PAULISTA', 'REPUBLICA'], 'REPUBLICA': ['HIGIENOPOLIS MACKENZIE', 'LUZ'], 'LUZ': ['REPUBLICA', 'LUZ', 'LUZ', 'SAO BENTO', 'TIRADENTES', 'BRAS', 'BARRA FUNDA', 'BRAS'], 'JABAQUARA': ['CONCEICAO'], 'CONCEICAO': ['JABAQUARA', 'SAO JUDAS'], 'SAO JUDAS': ['CONCEICAO', 'SAUDE'], 'SAUDE': ['SAO JUDAS', 'PRACA DA ARVORE'], 'PRACA DA ARVORE': ['SAUDE', 'SANTA CRUZ'], 'SANTA CRUZ': ['PRACA DA ARVORE', 'VILA MARIANA', 'HOSPITAL SAO PAULO', 'CHACARA KLABIN'], 'VILA MARIANA': ['SANTA CRUZ', 'ANA ROSA'], 'ANA ROSA': ['VILA MARIANA', 'PARAISO', 'PARAISO'], 'PARAISO': ['ANA ROSA', 'VERGUEIRO', 'BRIGADEIRO', 'ANA ROSA'], 'VERGUEIRO': ['PARAISO', 'SAO JOAQUIM'], 'SAO JOAQUIM': ['VERGUEIRO', 'JAPAO LIBERDADE'], 'JAPAO LIBERDADE': ['SAO JOAQUIM', 'SE'], 'SE': ['JAPAO LIBERDADE', 'SAO BENTO'], 'SAO BENTO': ['SE', 'LUZ'], 'TIRADENTES': ['LUZ', 'ARMENIA'], 'ARMENIA': ['TIRADENTES', 'PORTUGUESA TIETE'], 'PORTUGUESA TIETE': ['ARMENIA', 'CARANDIRU'], 'CARANDIRU': ['PORTUGUESA TIETE', 'SANTANA'], 'SANTANA': ['CARANDIRU', 'JARDIM SAO PAULO AYRTON SENNA'], 'JARDIM SAO PAULO AYRTON SENNA': ['SANTANA', 'PARADA INGLESA'], 'PARADA INGLESA': ['JARDIM SAO PAULO AYRTON SENNA', 'TUCURUVI'], 'TUCURUVI': ['PARADA INGLESA', 'TUCURUVI', 'TUCURUVI'], 'BRAS': ['LUZ', 'TATUAPE', 'LUZ', 'BRAS', 'BRAS', 'TATUAPE', 'JUVENTUS MOOCA'], 'TATUAPE': ['BRAS', 'CORINTHIANS ITAQUERA', 'BRAS', 'ENGENHEIRO GOULART'], 'CORINTHIANS ITAQUERA': ['TATUAPE', 'DOM BOSCO'], 'DOM BOSCO': ['CORINTHIANS ITAQUERA', 'JOSE BONIFACIO'], 'JOSE BONIFACIO': ['DOM BOSCO', 'GUAIANASES'], 'GUAIANASES': ['JOSE BONIFACIO', 'ANTONIO GIANETTI NETO'], 'ANTONIO GIANETTI NETO': ['GUAIANASES', 'FERRAZ DE VASCONCELOS'], 'FERRAZ DE VASCONCELOS': ['ANTONIO GIANETTI NETO', 'POA'], 'POA': ['FERRAZ DE VASCONCELOS', 'CALMON VIANA'], 'CALMON VIANA': ['POA', 'SUZANO', 'ARACARE', 'CALMON VIANA', 'CALMON VIANA'], 'SUZANO': ['CALMON VIANA', 'JUNDIAPEBA'], 'JUNDIAPEBA': ['SUZANO', 'BRAS CUBAS'], 'BRAS CUBAS': ['JUNDIAPEBA', 'MOGI DAS CRUZES'], 'MOGI DAS CRUZES': ['BRAS CUBAS', 'ESTUDANTES'], 'ESTUDANTES': ['MOGI DAS CRUZES', 'ESTUDANTES', 'ESTUDANTES'], 'AMADOR BUENO': ['SANTA RITA'], 'SANTA RITA': ['AMADOR BUENO', 'ITAPEVI'], 'ITAPEVI': ['SANTA RITA', 'ENGENHEIRO CARDOSO'], 'ENGENHEIRO CARDOSO': ['ITAPEVI', 'SAGRADO CORACAO'], 'SAGRADO CORACAO': ['ENGENHEIRO CARDOSO', 'JANDIRA'], 'JANDIRA': ['SAGRADO CORACAO', 'JARDIM SILVEIRA'], 'JARDIM SILVEIRA': ['JANDIRA', 'JARDIM BELVAL'], 'JARDIM BELVAL': ['JARDIM SILVEIRA', 'BARUERI'], 'BARUERI': ['JARDIM BELVAL', 'ANTONIO JOAO'], 'ANTONIO JOAO': ['BARUERI', 'SANTA TERESINHA'], 'SANTA TERESINHA': ['ANTONIO JOAO', 'CARAPICUIBA'], 'CARAPICUIBA': ['SANTA TERESINHA', 'GENERAL MIGUEL COSTA'], 'GENERAL MIGUEL COSTA': ['CARAPICUIBA', 'QUITAUNA'], 'QUITAUNA': ['GENERAL MIGUEL COSTA', 'COMANDANTE SAMPAIO'], 'COMANDANTE SAMPAIO': ['QUITAUNA', 'OSASCO'], 'OSASCO': ['COMANDANTE SAMPAIO', 'PRESIDENTE ALTINO', 'PRESIDENTE ALTINO', 'OSASCO', 'OSASCO'], 'PRESIDENTE ALTINO': ['OSASCO', 'IMPERATRIZ LEOPOLDINA', 'CEASA', 'OSASCO'], 'IMPERATRIZ LEOPOLDINA': ['PRESIDENTE ALTINO', 'DOMINGOS DE MORAIS'], 'DOMINGOS DE MORAIS': ['IMPERATRIZ LEOPOLDINA', 'LAPA DIAMANTE'], 'LAPA DIAMANTE': ['DOMINGOS DE MORAIS', 'BARRA FUNDA'], 'BARRA FUNDA': ['LAPA DIAMANTE', 'JULIO PRESTES', 'AGUA BRANCA', 'LUZ'], 'JULIO PRESTES': ['BARRA FUNDA', 'JULIO PRESTES', 'JULIO PRESTES'], 'GRAJAU': ['PRIMAVERA INTERLAGOS'], 'PRIMAVERA INTERLAGOS': ['GRAJAU', 'AUTODROMO'], 'AUTODROMO': ['PRIMAVERA INTERLAGOS', 'JURUBATUBA'], 'JURUBATUBA': ['AUTODROMO', 'SOCORRO'], 'SOCORRO': ['JURUBATUBA', 'SANTO AMARO'], 'SANTO AMARO': ['SOCORRO', 'GRANJA JULIETA', 'GIOVANNI GRONCHI', 'LARGO TREZE'], 'GRANJA JULIETA': ['SANTO AMARO', 'MORUMBI'], 'MORUMBI': ['GRANJA JULIETA', 'BERRINI'], 'BERRINI': ['MORUMBI', 'VILA OLIMPIA'], 'VILA OLIMPIA': ['BERRINI', 'CIDADE JARDIM'], 'CIDADE JARDIM': ['VILA OLIMPIA', 'HEBRAICA REBOUCAS'], 'HEBRAICA REBOUCAS': ['CIDADE JARDIM', 'PINHEIROS'], 'CIDADE UNIVERSITARIA': ['PINHEIROS', 'VILLA LOBOS JAGUARE'], 'VILLA LOBOS JAGUARE': ['CIDADE UNIVERSITARIA', 'CEASA'], 'CEASA': ['VILLA LOBOS JAGUARE', 'PRESIDENTE ALTINO'], 'ENGENHEIRO GOULART': ['GUARULHOS CECAP', 'TATUAPE', 'USP LESTE'], 'GUARULHOS CECAP': ['ENGENHEIRO GOULART', 'AEROPORTO GUARULHOS'], 'AEROPORTO GUARULHOS': ['GUARULHOS CECAP', 'AEROPORTO GUARULHOS', 'AEROPORTO GUARULHOS'], 'CAPAO REDONDO': ['CAMPO LIMPO'], 'CAMPO LIMPO': ['CAPAO REDONDO', 'VILA DAS BELEZAS'], 'VILA DAS BELEZAS': ['CAMPO LIMPO', 'GIOVANNI GRONCHI'], 'GIOVANNI GRONCHI': ['VILA DAS BELEZAS', 'SANTO AMARO'], 'LARGO TREZE': ['SANTO AMARO', 'ADOLFO PINHEIRO'], 'ADOLFO PINHEIRO': ['LARGO TREZE', 'ALTO DA BOA VISTA'], 'ALTO DA BOA VISTA': ['ADOLFO PINHEIRO', 'BORBA GATO'], 'BORBA GATO': ['ALTO DA BOA VISTA', 'BROOKLIN'], 'BROOKLIN': ['BORBA GATO', 'CAMPO BELO'], 'CAMPO BELO': ['BROOKLIN', 'EUCALIPTOS'], 'EUCALIPTOS': ['CAMPO BELO', 'MOEMA'], 'MOEMA': ['EUCALIPTOS', 'AACD SERVIDOR'], 'AACD SERVIDOR': ['MOEMA', 'HOSPITAL SAO PAULO'], 'HOSPITAL SAO PAULO': ['AACD SERVIDOR', 'SANTA CRUZ'], 'CHACARA KLABIN': ['SANTA CRUZ', 'CHACARA KLABIN', 'CHACARA KLABIN'], 'VILA PRUDENTE': ['ORATORIO'], 'ORATORIO': ['VILA PRUDENTE', 'SAO LUCAS'], 'SAO LUCAS': ['ORATORIO', 'CAMILO HADDAD'], 'CAMILO HADDAD': ['SAO LUCAS', 'VILA TOLSTOI'], 'VILA TOLSTOI': ['CAMILO HADDAD', 'VILA UNIAO'], 'VILA UNIAO': ['VILA TOLSTOI', 'JARDIM PLANALTO'], 'JARDIM PLANALTO': ['VILA UNIAO', 'SAPOPEMBA'], 'SAPOPEMBA': ['JARDIM PLANALTO', 'FAZENDA DA JUTA'], 'FAZENDA DA JUTA': ['SAPOPEMBA', 'SAO MATEUS'], 'SAO MATEUS': ['FAZENDA DA JUTA', 'SAO MATEUS', 'SAO MATEUS'], 'JUNDIAI': ['VARZEA PAULISTA'], 'VARZEA PAULISTA': ['JUNDIAI', 'CAMPO LIMPO PAULISTA'], 'CAMPO LIMPO PAULISTA': ['VARZEA PAULISTA', 'BOTUJURU'], 'BOTUJURU': ['CAMPO LIMPO PAULISTA', 'FRANCISCO MORATO'], 'FRANCISCO MORATO': ['BOTUJURU', 'BALTAZAR FIDELIS'], 'BALTAZAR FIDELIS': ['FRANCISCO MORATO', 'FRANCO DA ROCHA'], 'FRANCO DA ROCHA': ['BALTAZAR FIDELIS', 'CAIEIRAS'], 'CAIEIRAS': ['FRANCO DA ROCHA', 'PERUS'], 'PERUS': ['CAIEIRAS', 'VILA AURORA'], 'VILA AURORA': ['PERUS', 'JARAGUA'], 'JARAGUA': ['VILA AURORA', 'VILA CLARICE'], 'VILA CLARICE': ['JARAGUA', 'PIRITUBA'], 'PIRITUBA': ['VILA CLARICE', 'PIQUERI'], 'PIQUERI': ['PIRITUBA', 'LAPA RUBI'], 'LAPA RUBI': ['PIQUERI', 'AGUA BRANCA'], 'AGUA BRANCA': ['LAPA RUBI', 'BARRA FUNDA'], 'USP LESTE': ['ENGENHEIRO GOULART', 'COMENDADOR ERMELINO'], 'COMENDADOR ERMELINO': ['USP LESTE', 'SAO MIGUEL PAULISTA'], 'SAO MIGUEL PAULISTA': ['COMENDADOR ERMELINO', 'JARDIM HELENA VILA MARA'], 'JARDIM HELENA VILA MARA': ['SAO MIGUEL PAULISTA', 'ITAIM PAULISTA'], 'ITAIM PAULISTA': ['JARDIM HELENA VILA MARA', 'JARDIM ROMANO'], 'JARDIM ROMANO': ['ITAIM PAULISTA', 'ENGENHEIRO MANUEL FEIO'], 'ENGENHEIRO MANUEL FEIO': ['JARDIM ROMANO', 'ITAQUACETUBA'], 'ITAQUACETUBA': ['ENGENHEIRO MANUEL FEIO', 'ARACARE'], 'ARACARE': ['ITAQUACETUBA', 'CALMON VIANA'], 'JUVENTUS MOOCA': ['BRAS', 'IPIRANGA'], 'IPIRANGA': ['JUVENTUS MOOCA', 'TAMANDUATEI'], 'TAMANDUATEI': ['IPIRANGA', 'SAO CAETANO DO SUL PREFEITO WALTER BRAIDO'], 'SAO CAETANO DO SUL PREFEITO WALTER BRAIDO': ['TAMANDUATEI', 'UTINGA'], 'UTINGA': ['SAO CAETANO DO SUL PREFEITO WALTER BRAIDO', 'PREFEITO SALADINO'], 'PREFEITO SALADINO': ['UTINGA', 'PREFEITO CELSO DANIEL SANTO ANDRE'], 'PREFEITO CELSO DANIEL SANTO ANDRE': ['PREFEITO SALADINO', 'CAPUAVA'], 'CAPUAVA': ['PREFEITO CELSO DANIEL SANTO ANDRE', 'MAUA'], 'MAUA': ['CAPUAVA', 'GUAPITUBA'], 'GUAPITUBA': ['MAUA', 'ANTONIO BESPALEC RIBEIRAO PIRES'], 'ANTONIO BESPALEC RIBEIRAO PIRES': ['GUAPITUBA', 'RIO GRANDE DA SERRA'], 'RIO GRANDE DA SERRA': ['ANTONIO BESPALEC RIBEIRAO PIRES', 'RIO GRANDE DA SERRA', 'RIO GRANDE DA SERRA'], 'VILA MADALENA': ['SANTUARIO NOSSA SENHORA DE FATIMA SUMARE'], 'SANTUARIO NOSSA SENHORA DE FATIMA SUMARE': ['VILA MADALENA', 'CLINICAS'], 'CLINICAS': ['SANTUARIO NOSSA SENHORA DE FATIMA SUMARE', 'CONSOLACAO'], 'CONSOLACAO': ['CLINICAS', 'TRIANON MASP'], 'TRIANON MASP': ['CONSOLACAO', 'BRIGADEIRO'], 'BRIGADEIRO': ['TRIANON MASP', 'PARAISO']}\n",
    "     \n",
    "# Function Call\n",
    "retorno_funcao = BFS_SP(graph, 'JUNDIAI', 'RIO GRANDE DA SERRA')"
   ]
  },
  {
   "cell_type": "code",
   "execution_count": 11,
   "metadata": {},
   "outputs": [],
   "source": [
    "def descricao_grafica():\n",
    "    # Indicação das Estações que Suportavam Baldeações\n",
    "    baldeacoes = list(df['estacao_origem'].loc[(df.estacao_baldeacao_conectada == 'sim')].unique())\n",
    "\n",
    "    # Transformação do retorno da função em DataFrame\n",
    "    estacoes_usadas = pd.DataFrame(retorno_funcao, columns=['estacao_origem'])\n",
    "\n",
    "    # Criação DataFrame Apartir do Original filtrando dados especificos\n",
    "    df_estacoes_unicas = df[[ 'estacao_origem' ,'lat', 'long', 'linha', 'numero_estacao_origem']].reset_index(drop=True)\n",
    "\n",
    "    # Teste da existencia de duplicados, porém apenas testei, não apliquei\n",
    "    df_estacoes_unicas.drop_duplicates('estacao_origem').reset_index(drop=True)\n",
    "\n",
    "    # Cruzamento entre o DataFrame Original e Retorno da Função Buscando Enriquece-lo\n",
    "    enriquecimento_estacoes_usadas = pd.merge(estacoes_usadas, df_estacoes_unicas, on='estacao_origem', how='inner')\n",
    "\n",
    "    # Verificação e eliminação de eventuais nomes de estações duplicados\n",
    "    enriquecimento_estacoes_usadas.drop_duplicates('estacao_origem', inplace=True)\n",
    "\n",
    "    # Visando melhorar a experiencia do usuário, a coluna abaixo foi criada\n",
    "    # servindo como parametro que define o tamanho dos icones\n",
    "    # que representam as estações\n",
    "    enriquecimento_estacoes_usadas['tamanho'] = 5\n",
    "\n",
    "    # Criação de Gráfico com as Estações que Serão Utilizadas\n",
    "    # map\n",
    "    houses = enriquecimento_estacoes_usadas[['lat', 'long', 'estacao_origem', 'linha',\n",
    "                                            'numero_estacao_origem', 'tamanho']].copy()\n",
    "    fig = px.scatter_mapbox( houses,\n",
    "                            lat=\"lat\",\n",
    "                            lon=\"long\",\n",
    "                            color=\"linha\",\n",
    "                            size='tamanho',\n",
    "                            hover_name=\"estacao_origem\",\n",
    "                            color_discrete_sequence=[\"#a20404\", \"#c0b0b0\", \"yellow\", \"#ffba94\", '#00d3c2'],\n",
    "                            size_max=10,\n",
    "                            zoom=9)\n",
    "    fig.update_layout(mapbox_style=\"carto-positron\")\n",
    "    fig.update_layout(height=600, margin={\"r\":0,\"t\":0,\"l\":0,\"b\":0})\n",
    "    fig.show()"
   ]
  },
  {
   "cell_type": "code",
   "execution_count": 12,
   "metadata": {},
   "outputs": [
    {
     "data": {
      "application/vnd.plotly.v1+json": {
       "config": {
        "plotlyServerURL": "https://plot.ly"
       },
       "data": [
        {
         "hovertemplate": "<b>%{hovertext}</b><br><br>linha=RUBI<br>tamanho=%{marker.size}<br>lat=%{lat}<br>long=%{lon}<extra></extra>",
         "hovertext": [
          "JUNDIAI",
          "VARZEA PAULISTA",
          "CAMPO LIMPO PAULISTA",
          "BOTUJURU",
          "FRANCISCO MORATO",
          "BALTAZAR FIDELIS",
          "FRANCO DA ROCHA",
          "CAIEIRAS",
          "PERUS",
          "VILA AURORA",
          "JARAGUA",
          "VILA CLARICE",
          "PIRITUBA",
          "PIQUERI",
          "LAPA RUBI",
          "AGUA BRANCA"
         ],
         "lat": [
          -23.195382,
          -23.208851,
          -23.206636,
          -23.236393,
          -23.282476,
          -23.310132,
          -23.329607,
          -23.366166,
          -23.404975,
          -23.437763,
          -23.455415,
          -23.469907,
          -23.488457,
          -23.503587,
          -23.517676,
          -23.521372
         ],
         "legendgroup": "RUBI",
         "lon": [
          -46.872035,
          -46.828941,
          -46.785489,
          -46.767223,
          -46.74259,
          -46.723407,
          -46.72634,
          -46.751528,
          -46.753656,
          -46.747258,
          -46.73854,
          -46.744437,
          -46.726116,
          -46.715044,
          -46.703923,
          -46.68855
         ],
         "marker": {
          "color": "#a20404",
          "size": [
           5,
           5,
           5,
           5,
           5,
           5,
           5,
           5,
           5,
           5,
           5,
           5,
           5,
           5,
           5,
           5
          ],
          "sizemode": "area",
          "sizeref": 0.05
         },
         "mode": "markers",
         "name": "RUBI",
         "showlegend": true,
         "subplot": "mapbox",
         "type": "scattermapbox"
        },
        {
         "hovertemplate": "<b>%{hovertext}</b><br><br>linha=DIAMANTE<br>tamanho=%{marker.size}<br>lat=%{lat}<br>long=%{lon}<extra></extra>",
         "hovertext": [
          "BARRA FUNDA"
         ],
         "lat": [
          -23.525683
         ],
         "legendgroup": "DIAMANTE",
         "lon": [
          -46.667363
         ],
         "marker": {
          "color": "#c0b0b0",
          "size": [
           5
          ],
          "sizemode": "area",
          "sizeref": 0.05
         },
         "mode": "markers",
         "name": "DIAMANTE",
         "showlegend": true,
         "subplot": "mapbox",
         "type": "scattermapbox"
        },
        {
         "hovertemplate": "<b>%{hovertext}</b><br><br>linha=AMARELA<br>tamanho=%{marker.size}<br>lat=%{lat}<br>long=%{lon}<extra></extra>",
         "hovertext": [
          "LUZ"
         ],
         "lat": [
          -23.536259
         ],
         "legendgroup": "AMARELA",
         "lon": [
          -46.634499
         ],
         "marker": {
          "color": "yellow",
          "size": [
           5
          ],
          "sizemode": "area",
          "sizeref": 0.05
         },
         "mode": "markers",
         "name": "AMARELA",
         "showlegend": true,
         "subplot": "mapbox",
         "type": "scattermapbox"
        },
        {
         "hovertemplate": "<b>%{hovertext}</b><br><br>linha=CORAL<br>tamanho=%{marker.size}<br>lat=%{lat}<br>long=%{lon}<extra></extra>",
         "hovertext": [
          "BRAS"
         ],
         "lat": [
          -23.545184
         ],
         "legendgroup": "CORAL",
         "lon": [
          -46.616498
         ],
         "marker": {
          "color": "#ffba94",
          "size": [
           5
          ],
          "sizemode": "area",
          "sizeref": 0.05
         },
         "mode": "markers",
         "name": "CORAL",
         "showlegend": true,
         "subplot": "mapbox",
         "type": "scattermapbox"
        },
        {
         "hovertemplate": "<b>%{hovertext}</b><br><br>linha=TURQUESA<br>tamanho=%{marker.size}<br>lat=%{lat}<br>long=%{lon}<extra></extra>",
         "hovertext": [
          "JUVENTUS MOOCA",
          "IPIRANGA",
          "TAMANDUATEI",
          "SAO CAETANO DO SUL PREFEITO WALTER BRAIDO",
          "UTINGA",
          "PREFEITO SALADINO",
          "PREFEITO CELSO DANIEL SANTO ANDRE",
          "CAPUAVA",
          "MAUA",
          "GUAPITUBA",
          "ANTONIO BESPALEC RIBEIRAO PIRES",
          "RIO GRANDE DA SERRA"
         ],
         "lat": [
          -23.55868,
          -23.582225,
          -23.592847,
          -23.610032,
          -23.626138,
          -23.638327,
          -23.652324,
          -23.658304,
          -23.668169,
          -23.692169,
          -23.713632,
          -23.743306
         ],
         "legendgroup": "TURQUESA",
         "lon": [
          -46.60794,
          -46.596701,
          -46.589289,
          -46.57007,
          -46.544146,
          -46.536754,
          -46.528212,
          -46.490103,
          -46.461611,
          -46.448673,
          -46.414767,
          -46.391864
         ],
         "marker": {
          "color": "#00d3c2",
          "size": [
           5,
           5,
           5,
           5,
           5,
           5,
           5,
           5,
           5,
           5,
           5,
           5
          ],
          "sizemode": "area",
          "sizeref": 0.05
         },
         "mode": "markers",
         "name": "TURQUESA",
         "showlegend": true,
         "subplot": "mapbox",
         "type": "scattermapbox"
        }
       ],
       "layout": {
        "height": 600,
        "legend": {
         "itemsizing": "constant",
         "title": {
          "text": "linha"
         },
         "tracegroupgap": 0
        },
        "mapbox": {
         "center": {
          "lat": -23.492841096774193,
          "lon": -46.64882474193548
         },
         "domain": {
          "x": [
           0,
           1
          ],
          "y": [
           0,
           1
          ]
         },
         "style": "carto-positron",
         "zoom": 9
        },
        "margin": {
         "b": 0,
         "l": 0,
         "r": 0,
         "t": 0
        },
        "template": {
         "data": {
          "bar": [
           {
            "error_x": {
             "color": "#2a3f5f"
            },
            "error_y": {
             "color": "#2a3f5f"
            },
            "marker": {
             "line": {
              "color": "#E5ECF6",
              "width": 0.5
             },
             "pattern": {
              "fillmode": "overlay",
              "size": 10,
              "solidity": 0.2
             }
            },
            "type": "bar"
           }
          ],
          "barpolar": [
           {
            "marker": {
             "line": {
              "color": "#E5ECF6",
              "width": 0.5
             },
             "pattern": {
              "fillmode": "overlay",
              "size": 10,
              "solidity": 0.2
             }
            },
            "type": "barpolar"
           }
          ],
          "carpet": [
           {
            "aaxis": {
             "endlinecolor": "#2a3f5f",
             "gridcolor": "white",
             "linecolor": "white",
             "minorgridcolor": "white",
             "startlinecolor": "#2a3f5f"
            },
            "baxis": {
             "endlinecolor": "#2a3f5f",
             "gridcolor": "white",
             "linecolor": "white",
             "minorgridcolor": "white",
             "startlinecolor": "#2a3f5f"
            },
            "type": "carpet"
           }
          ],
          "choropleth": [
           {
            "colorbar": {
             "outlinewidth": 0,
             "ticks": ""
            },
            "type": "choropleth"
           }
          ],
          "contour": [
           {
            "colorbar": {
             "outlinewidth": 0,
             "ticks": ""
            },
            "colorscale": [
             [
              0,
              "#0d0887"
             ],
             [
              0.1111111111111111,
              "#46039f"
             ],
             [
              0.2222222222222222,
              "#7201a8"
             ],
             [
              0.3333333333333333,
              "#9c179e"
             ],
             [
              0.4444444444444444,
              "#bd3786"
             ],
             [
              0.5555555555555556,
              "#d8576b"
             ],
             [
              0.6666666666666666,
              "#ed7953"
             ],
             [
              0.7777777777777778,
              "#fb9f3a"
             ],
             [
              0.8888888888888888,
              "#fdca26"
             ],
             [
              1,
              "#f0f921"
             ]
            ],
            "type": "contour"
           }
          ],
          "contourcarpet": [
           {
            "colorbar": {
             "outlinewidth": 0,
             "ticks": ""
            },
            "type": "contourcarpet"
           }
          ],
          "heatmap": [
           {
            "colorbar": {
             "outlinewidth": 0,
             "ticks": ""
            },
            "colorscale": [
             [
              0,
              "#0d0887"
             ],
             [
              0.1111111111111111,
              "#46039f"
             ],
             [
              0.2222222222222222,
              "#7201a8"
             ],
             [
              0.3333333333333333,
              "#9c179e"
             ],
             [
              0.4444444444444444,
              "#bd3786"
             ],
             [
              0.5555555555555556,
              "#d8576b"
             ],
             [
              0.6666666666666666,
              "#ed7953"
             ],
             [
              0.7777777777777778,
              "#fb9f3a"
             ],
             [
              0.8888888888888888,
              "#fdca26"
             ],
             [
              1,
              "#f0f921"
             ]
            ],
            "type": "heatmap"
           }
          ],
          "heatmapgl": [
           {
            "colorbar": {
             "outlinewidth": 0,
             "ticks": ""
            },
            "colorscale": [
             [
              0,
              "#0d0887"
             ],
             [
              0.1111111111111111,
              "#46039f"
             ],
             [
              0.2222222222222222,
              "#7201a8"
             ],
             [
              0.3333333333333333,
              "#9c179e"
             ],
             [
              0.4444444444444444,
              "#bd3786"
             ],
             [
              0.5555555555555556,
              "#d8576b"
             ],
             [
              0.6666666666666666,
              "#ed7953"
             ],
             [
              0.7777777777777778,
              "#fb9f3a"
             ],
             [
              0.8888888888888888,
              "#fdca26"
             ],
             [
              1,
              "#f0f921"
             ]
            ],
            "type": "heatmapgl"
           }
          ],
          "histogram": [
           {
            "marker": {
             "pattern": {
              "fillmode": "overlay",
              "size": 10,
              "solidity": 0.2
             }
            },
            "type": "histogram"
           }
          ],
          "histogram2d": [
           {
            "colorbar": {
             "outlinewidth": 0,
             "ticks": ""
            },
            "colorscale": [
             [
              0,
              "#0d0887"
             ],
             [
              0.1111111111111111,
              "#46039f"
             ],
             [
              0.2222222222222222,
              "#7201a8"
             ],
             [
              0.3333333333333333,
              "#9c179e"
             ],
             [
              0.4444444444444444,
              "#bd3786"
             ],
             [
              0.5555555555555556,
              "#d8576b"
             ],
             [
              0.6666666666666666,
              "#ed7953"
             ],
             [
              0.7777777777777778,
              "#fb9f3a"
             ],
             [
              0.8888888888888888,
              "#fdca26"
             ],
             [
              1,
              "#f0f921"
             ]
            ],
            "type": "histogram2d"
           }
          ],
          "histogram2dcontour": [
           {
            "colorbar": {
             "outlinewidth": 0,
             "ticks": ""
            },
            "colorscale": [
             [
              0,
              "#0d0887"
             ],
             [
              0.1111111111111111,
              "#46039f"
             ],
             [
              0.2222222222222222,
              "#7201a8"
             ],
             [
              0.3333333333333333,
              "#9c179e"
             ],
             [
              0.4444444444444444,
              "#bd3786"
             ],
             [
              0.5555555555555556,
              "#d8576b"
             ],
             [
              0.6666666666666666,
              "#ed7953"
             ],
             [
              0.7777777777777778,
              "#fb9f3a"
             ],
             [
              0.8888888888888888,
              "#fdca26"
             ],
             [
              1,
              "#f0f921"
             ]
            ],
            "type": "histogram2dcontour"
           }
          ],
          "mesh3d": [
           {
            "colorbar": {
             "outlinewidth": 0,
             "ticks": ""
            },
            "type": "mesh3d"
           }
          ],
          "parcoords": [
           {
            "line": {
             "colorbar": {
              "outlinewidth": 0,
              "ticks": ""
             }
            },
            "type": "parcoords"
           }
          ],
          "pie": [
           {
            "automargin": true,
            "type": "pie"
           }
          ],
          "scatter": [
           {
            "fillpattern": {
             "fillmode": "overlay",
             "size": 10,
             "solidity": 0.2
            },
            "type": "scatter"
           }
          ],
          "scatter3d": [
           {
            "line": {
             "colorbar": {
              "outlinewidth": 0,
              "ticks": ""
             }
            },
            "marker": {
             "colorbar": {
              "outlinewidth": 0,
              "ticks": ""
             }
            },
            "type": "scatter3d"
           }
          ],
          "scattercarpet": [
           {
            "marker": {
             "colorbar": {
              "outlinewidth": 0,
              "ticks": ""
             }
            },
            "type": "scattercarpet"
           }
          ],
          "scattergeo": [
           {
            "marker": {
             "colorbar": {
              "outlinewidth": 0,
              "ticks": ""
             }
            },
            "type": "scattergeo"
           }
          ],
          "scattergl": [
           {
            "marker": {
             "colorbar": {
              "outlinewidth": 0,
              "ticks": ""
             }
            },
            "type": "scattergl"
           }
          ],
          "scattermapbox": [
           {
            "marker": {
             "colorbar": {
              "outlinewidth": 0,
              "ticks": ""
             }
            },
            "type": "scattermapbox"
           }
          ],
          "scatterpolar": [
           {
            "marker": {
             "colorbar": {
              "outlinewidth": 0,
              "ticks": ""
             }
            },
            "type": "scatterpolar"
           }
          ],
          "scatterpolargl": [
           {
            "marker": {
             "colorbar": {
              "outlinewidth": 0,
              "ticks": ""
             }
            },
            "type": "scatterpolargl"
           }
          ],
          "scatterternary": [
           {
            "marker": {
             "colorbar": {
              "outlinewidth": 0,
              "ticks": ""
             }
            },
            "type": "scatterternary"
           }
          ],
          "surface": [
           {
            "colorbar": {
             "outlinewidth": 0,
             "ticks": ""
            },
            "colorscale": [
             [
              0,
              "#0d0887"
             ],
             [
              0.1111111111111111,
              "#46039f"
             ],
             [
              0.2222222222222222,
              "#7201a8"
             ],
             [
              0.3333333333333333,
              "#9c179e"
             ],
             [
              0.4444444444444444,
              "#bd3786"
             ],
             [
              0.5555555555555556,
              "#d8576b"
             ],
             [
              0.6666666666666666,
              "#ed7953"
             ],
             [
              0.7777777777777778,
              "#fb9f3a"
             ],
             [
              0.8888888888888888,
              "#fdca26"
             ],
             [
              1,
              "#f0f921"
             ]
            ],
            "type": "surface"
           }
          ],
          "table": [
           {
            "cells": {
             "fill": {
              "color": "#EBF0F8"
             },
             "line": {
              "color": "white"
             }
            },
            "header": {
             "fill": {
              "color": "#C8D4E3"
             },
             "line": {
              "color": "white"
             }
            },
            "type": "table"
           }
          ]
         },
         "layout": {
          "annotationdefaults": {
           "arrowcolor": "#2a3f5f",
           "arrowhead": 0,
           "arrowwidth": 1
          },
          "autotypenumbers": "strict",
          "coloraxis": {
           "colorbar": {
            "outlinewidth": 0,
            "ticks": ""
           }
          },
          "colorscale": {
           "diverging": [
            [
             0,
             "#8e0152"
            ],
            [
             0.1,
             "#c51b7d"
            ],
            [
             0.2,
             "#de77ae"
            ],
            [
             0.3,
             "#f1b6da"
            ],
            [
             0.4,
             "#fde0ef"
            ],
            [
             0.5,
             "#f7f7f7"
            ],
            [
             0.6,
             "#e6f5d0"
            ],
            [
             0.7,
             "#b8e186"
            ],
            [
             0.8,
             "#7fbc41"
            ],
            [
             0.9,
             "#4d9221"
            ],
            [
             1,
             "#276419"
            ]
           ],
           "sequential": [
            [
             0,
             "#0d0887"
            ],
            [
             0.1111111111111111,
             "#46039f"
            ],
            [
             0.2222222222222222,
             "#7201a8"
            ],
            [
             0.3333333333333333,
             "#9c179e"
            ],
            [
             0.4444444444444444,
             "#bd3786"
            ],
            [
             0.5555555555555556,
             "#d8576b"
            ],
            [
             0.6666666666666666,
             "#ed7953"
            ],
            [
             0.7777777777777778,
             "#fb9f3a"
            ],
            [
             0.8888888888888888,
             "#fdca26"
            ],
            [
             1,
             "#f0f921"
            ]
           ],
           "sequentialminus": [
            [
             0,
             "#0d0887"
            ],
            [
             0.1111111111111111,
             "#46039f"
            ],
            [
             0.2222222222222222,
             "#7201a8"
            ],
            [
             0.3333333333333333,
             "#9c179e"
            ],
            [
             0.4444444444444444,
             "#bd3786"
            ],
            [
             0.5555555555555556,
             "#d8576b"
            ],
            [
             0.6666666666666666,
             "#ed7953"
            ],
            [
             0.7777777777777778,
             "#fb9f3a"
            ],
            [
             0.8888888888888888,
             "#fdca26"
            ],
            [
             1,
             "#f0f921"
            ]
           ]
          },
          "colorway": [
           "#636efa",
           "#EF553B",
           "#00cc96",
           "#ab63fa",
           "#FFA15A",
           "#19d3f3",
           "#FF6692",
           "#B6E880",
           "#FF97FF",
           "#FECB52"
          ],
          "font": {
           "color": "#2a3f5f"
          },
          "geo": {
           "bgcolor": "white",
           "lakecolor": "white",
           "landcolor": "#E5ECF6",
           "showlakes": true,
           "showland": true,
           "subunitcolor": "white"
          },
          "hoverlabel": {
           "align": "left"
          },
          "hovermode": "closest",
          "mapbox": {
           "style": "light"
          },
          "paper_bgcolor": "white",
          "plot_bgcolor": "#E5ECF6",
          "polar": {
           "angularaxis": {
            "gridcolor": "white",
            "linecolor": "white",
            "ticks": ""
           },
           "bgcolor": "#E5ECF6",
           "radialaxis": {
            "gridcolor": "white",
            "linecolor": "white",
            "ticks": ""
           }
          },
          "scene": {
           "xaxis": {
            "backgroundcolor": "#E5ECF6",
            "gridcolor": "white",
            "gridwidth": 2,
            "linecolor": "white",
            "showbackground": true,
            "ticks": "",
            "zerolinecolor": "white"
           },
           "yaxis": {
            "backgroundcolor": "#E5ECF6",
            "gridcolor": "white",
            "gridwidth": 2,
            "linecolor": "white",
            "showbackground": true,
            "ticks": "",
            "zerolinecolor": "white"
           },
           "zaxis": {
            "backgroundcolor": "#E5ECF6",
            "gridcolor": "white",
            "gridwidth": 2,
            "linecolor": "white",
            "showbackground": true,
            "ticks": "",
            "zerolinecolor": "white"
           }
          },
          "shapedefaults": {
           "line": {
            "color": "#2a3f5f"
           }
          },
          "ternary": {
           "aaxis": {
            "gridcolor": "white",
            "linecolor": "white",
            "ticks": ""
           },
           "baxis": {
            "gridcolor": "white",
            "linecolor": "white",
            "ticks": ""
           },
           "bgcolor": "#E5ECF6",
           "caxis": {
            "gridcolor": "white",
            "linecolor": "white",
            "ticks": ""
           }
          },
          "title": {
           "x": 0.05
          },
          "xaxis": {
           "automargin": true,
           "gridcolor": "white",
           "linecolor": "white",
           "ticks": "",
           "title": {
            "standoff": 15
           },
           "zerolinecolor": "white",
           "zerolinewidth": 2
          },
          "yaxis": {
           "automargin": true,
           "gridcolor": "white",
           "linecolor": "white",
           "ticks": "",
           "title": {
            "standoff": 15
           },
           "zerolinecolor": "white",
           "zerolinewidth": 2
          }
         }
        }
       }
      }
     },
     "metadata": {},
     "output_type": "display_data"
    }
   ],
   "source": [
    "descricao_grafica()"
   ]
  },
  {
   "cell_type": "code",
   "execution_count": 29,
   "metadata": {},
   "outputs": [
    {
     "data": {
      "text/html": [
       "<div>\n",
       "<style scoped>\n",
       "    .dataframe tbody tr th:only-of-type {\n",
       "        vertical-align: middle;\n",
       "    }\n",
       "\n",
       "    .dataframe tbody tr th {\n",
       "        vertical-align: top;\n",
       "    }\n",
       "\n",
       "    .dataframe thead th {\n",
       "        text-align: right;\n",
       "    }\n",
       "</style>\n",
       "<table border=\"1\" class=\"dataframe\">\n",
       "  <thead>\n",
       "    <tr style=\"text-align: right;\">\n",
       "      <th></th>\n",
       "      <th>estacao_origem</th>\n",
       "      <th>lat</th>\n",
       "      <th>long</th>\n",
       "      <th>linha</th>\n",
       "      <th>numero_estacao_origem</th>\n",
       "    </tr>\n",
       "  </thead>\n",
       "  <tbody>\n",
       "    <tr>\n",
       "      <th>0</th>\n",
       "      <td>JUNDIAI</td>\n",
       "      <td>-23.195382</td>\n",
       "      <td>-46.872035</td>\n",
       "      <td>RUBI</td>\n",
       "      <td>118</td>\n",
       "    </tr>\n",
       "    <tr>\n",
       "      <th>1</th>\n",
       "      <td>VARZEA PAULISTA</td>\n",
       "      <td>-23.208851</td>\n",
       "      <td>-46.828941</td>\n",
       "      <td>RUBI</td>\n",
       "      <td>119</td>\n",
       "    </tr>\n",
       "    <tr>\n",
       "      <th>2</th>\n",
       "      <td>CAMPO LIMPO PAULISTA</td>\n",
       "      <td>-23.206636</td>\n",
       "      <td>-46.785489</td>\n",
       "      <td>RUBI</td>\n",
       "      <td>120</td>\n",
       "    </tr>\n",
       "    <tr>\n",
       "      <th>3</th>\n",
       "      <td>BOTUJURU</td>\n",
       "      <td>-23.236393</td>\n",
       "      <td>-46.767223</td>\n",
       "      <td>RUBI</td>\n",
       "      <td>121</td>\n",
       "    </tr>\n",
       "    <tr>\n",
       "      <th>4</th>\n",
       "      <td>FRANCISCO MORATO</td>\n",
       "      <td>-23.282476</td>\n",
       "      <td>-46.742590</td>\n",
       "      <td>RUBI</td>\n",
       "      <td>122</td>\n",
       "    </tr>\n",
       "  </tbody>\n",
       "</table>\n",
       "</div>"
      ],
      "text/plain": [
       "         estacao_origem        lat       long linha  numero_estacao_origem\n",
       "0               JUNDIAI -23.195382 -46.872035  RUBI                    118\n",
       "1       VARZEA PAULISTA -23.208851 -46.828941  RUBI                    119\n",
       "2  CAMPO LIMPO PAULISTA -23.206636 -46.785489  RUBI                    120\n",
       "3              BOTUJURU -23.236393 -46.767223  RUBI                    121\n",
       "4      FRANCISCO MORATO -23.282476 -46.742590  RUBI                    122"
      ]
     },
     "execution_count": 29,
     "metadata": {},
     "output_type": "execute_result"
    }
   ],
   "source": [
    "enriquecimento_estacoes_usadas.head()"
   ]
  },
  {
   "cell_type": "code",
   "execution_count": 30,
   "metadata": {},
   "outputs": [],
   "source": [
    "# Visando melhorar a experiencia do usuário, a coluna abaixo foi criada\n",
    "# servindo como parametro que define o tamanho dos icones\n",
    "# que representam as estações\n",
    "enriquecimento_estacoes_usadas['tamanho'] = 5"
   ]
  },
  {
   "cell_type": "code",
   "execution_count": 31,
   "metadata": {},
   "outputs": [
    {
     "data": {
      "application/vnd.plotly.v1+json": {
       "config": {
        "plotlyServerURL": "https://plot.ly"
       },
       "data": [
        {
         "hovertemplate": "<b>%{hovertext}</b><br><br>linha=RUBI<br>tamanho=%{marker.size}<br>lat=%{lat}<br>long=%{lon}<extra></extra>",
         "hovertext": [
          "JUNDIAI",
          "VARZEA PAULISTA",
          "CAMPO LIMPO PAULISTA",
          "BOTUJURU",
          "FRANCISCO MORATO",
          "BALTAZAR FIDELIS",
          "FRANCO DA ROCHA",
          "CAIEIRAS",
          "PERUS",
          "VILA AURORA",
          "JARAGUA",
          "VILA CLARICE",
          "PIRITUBA",
          "PIQUERI",
          "LAPA RUBI",
          "AGUA BRANCA"
         ],
         "lat": [
          -23.195382,
          -23.208851,
          -23.206636,
          -23.236393,
          -23.282476,
          -23.310132,
          -23.329607,
          -23.366166,
          -23.404975,
          -23.437763,
          -23.455415,
          -23.469907,
          -23.488457,
          -23.503587,
          -23.517676,
          -23.521372
         ],
         "legendgroup": "RUBI",
         "lon": [
          -46.872035,
          -46.828941,
          -46.785489,
          -46.767223,
          -46.74259,
          -46.723407,
          -46.72634,
          -46.751528,
          -46.753656,
          -46.747258,
          -46.73854,
          -46.744437,
          -46.726116,
          -46.715044,
          -46.703923,
          -46.68855
         ],
         "marker": {
          "color": "#a20404",
          "size": [
           5,
           5,
           5,
           5,
           5,
           5,
           5,
           5,
           5,
           5,
           5,
           5,
           5,
           5,
           5,
           5
          ],
          "sizemode": "area",
          "sizeref": 0.05
         },
         "mode": "markers",
         "name": "RUBI",
         "showlegend": true,
         "subplot": "mapbox",
         "type": "scattermapbox"
        },
        {
         "hovertemplate": "<b>%{hovertext}</b><br><br>linha=DIAMANTE<br>tamanho=%{marker.size}<br>lat=%{lat}<br>long=%{lon}<extra></extra>",
         "hovertext": [
          "BARRA FUNDA"
         ],
         "lat": [
          -23.525683
         ],
         "legendgroup": "DIAMANTE",
         "lon": [
          -46.667363
         ],
         "marker": {
          "color": "#c0b0b0",
          "size": [
           5
          ],
          "sizemode": "area",
          "sizeref": 0.05
         },
         "mode": "markers",
         "name": "DIAMANTE",
         "showlegend": true,
         "subplot": "mapbox",
         "type": "scattermapbox"
        },
        {
         "hovertemplate": "<b>%{hovertext}</b><br><br>linha=AMARELA<br>tamanho=%{marker.size}<br>lat=%{lat}<br>long=%{lon}<extra></extra>",
         "hovertext": [
          "LUZ"
         ],
         "lat": [
          -23.536259
         ],
         "legendgroup": "AMARELA",
         "lon": [
          -46.634499
         ],
         "marker": {
          "color": "yellow",
          "size": [
           5
          ],
          "sizemode": "area",
          "sizeref": 0.05
         },
         "mode": "markers",
         "name": "AMARELA",
         "showlegend": true,
         "subplot": "mapbox",
         "type": "scattermapbox"
        },
        {
         "hovertemplate": "<b>%{hovertext}</b><br><br>linha=CORAL<br>tamanho=%{marker.size}<br>lat=%{lat}<br>long=%{lon}<extra></extra>",
         "hovertext": [
          "BRAS"
         ],
         "lat": [
          -23.545184
         ],
         "legendgroup": "CORAL",
         "lon": [
          -46.616498
         ],
         "marker": {
          "color": "#ffba94",
          "size": [
           5
          ],
          "sizemode": "area",
          "sizeref": 0.05
         },
         "mode": "markers",
         "name": "CORAL",
         "showlegend": true,
         "subplot": "mapbox",
         "type": "scattermapbox"
        },
        {
         "hovertemplate": "<b>%{hovertext}</b><br><br>linha=TURQUESA<br>tamanho=%{marker.size}<br>lat=%{lat}<br>long=%{lon}<extra></extra>",
         "hovertext": [
          "JUVENTUS MOOCA",
          "IPIRANGA",
          "TAMANDUATEI",
          "SAO CAETANO DO SUL PREFEITO WALTER BRAIDO",
          "UTINGA",
          "PREFEITO SALADINO",
          "PREFEITO CELSO DANIEL SANTO ANDRE",
          "CAPUAVA",
          "MAUA",
          "GUAPITUBA",
          "ANTONIO BESPALEC RIBEIRAO PIRES",
          "RIO GRANDE DA SERRA"
         ],
         "lat": [
          -23.55868,
          -23.582225,
          -23.592847,
          -23.610032,
          -23.626138,
          -23.638327,
          -23.652324,
          -23.658304,
          -23.668169,
          -23.692169,
          -23.713632,
          -23.743306
         ],
         "legendgroup": "TURQUESA",
         "lon": [
          -46.60794,
          -46.596701,
          -46.589289,
          -46.57007,
          -46.544146,
          -46.536754,
          -46.528212,
          -46.490103,
          -46.461611,
          -46.448673,
          -46.414767,
          -46.391864
         ],
         "marker": {
          "color": "#00d3c2",
          "size": [
           5,
           5,
           5,
           5,
           5,
           5,
           5,
           5,
           5,
           5,
           5,
           5
          ],
          "sizemode": "area",
          "sizeref": 0.05
         },
         "mode": "markers",
         "name": "TURQUESA",
         "showlegend": true,
         "subplot": "mapbox",
         "type": "scattermapbox"
        }
       ],
       "layout": {
        "height": 600,
        "legend": {
         "itemsizing": "constant",
         "title": {
          "text": "linha"
         },
         "tracegroupgap": 0
        },
        "mapbox": {
         "center": {
          "lat": -23.492841096774193,
          "lon": -46.64882474193548
         },
         "domain": {
          "x": [
           0,
           1
          ],
          "y": [
           0,
           1
          ]
         },
         "style": "carto-positron",
         "zoom": 9
        },
        "margin": {
         "b": 0,
         "l": 0,
         "r": 0,
         "t": 0
        },
        "template": {
         "data": {
          "bar": [
           {
            "error_x": {
             "color": "#2a3f5f"
            },
            "error_y": {
             "color": "#2a3f5f"
            },
            "marker": {
             "line": {
              "color": "#E5ECF6",
              "width": 0.5
             },
             "pattern": {
              "fillmode": "overlay",
              "size": 10,
              "solidity": 0.2
             }
            },
            "type": "bar"
           }
          ],
          "barpolar": [
           {
            "marker": {
             "line": {
              "color": "#E5ECF6",
              "width": 0.5
             },
             "pattern": {
              "fillmode": "overlay",
              "size": 10,
              "solidity": 0.2
             }
            },
            "type": "barpolar"
           }
          ],
          "carpet": [
           {
            "aaxis": {
             "endlinecolor": "#2a3f5f",
             "gridcolor": "white",
             "linecolor": "white",
             "minorgridcolor": "white",
             "startlinecolor": "#2a3f5f"
            },
            "baxis": {
             "endlinecolor": "#2a3f5f",
             "gridcolor": "white",
             "linecolor": "white",
             "minorgridcolor": "white",
             "startlinecolor": "#2a3f5f"
            },
            "type": "carpet"
           }
          ],
          "choropleth": [
           {
            "colorbar": {
             "outlinewidth": 0,
             "ticks": ""
            },
            "type": "choropleth"
           }
          ],
          "contour": [
           {
            "colorbar": {
             "outlinewidth": 0,
             "ticks": ""
            },
            "colorscale": [
             [
              0,
              "#0d0887"
             ],
             [
              0.1111111111111111,
              "#46039f"
             ],
             [
              0.2222222222222222,
              "#7201a8"
             ],
             [
              0.3333333333333333,
              "#9c179e"
             ],
             [
              0.4444444444444444,
              "#bd3786"
             ],
             [
              0.5555555555555556,
              "#d8576b"
             ],
             [
              0.6666666666666666,
              "#ed7953"
             ],
             [
              0.7777777777777778,
              "#fb9f3a"
             ],
             [
              0.8888888888888888,
              "#fdca26"
             ],
             [
              1,
              "#f0f921"
             ]
            ],
            "type": "contour"
           }
          ],
          "contourcarpet": [
           {
            "colorbar": {
             "outlinewidth": 0,
             "ticks": ""
            },
            "type": "contourcarpet"
           }
          ],
          "heatmap": [
           {
            "colorbar": {
             "outlinewidth": 0,
             "ticks": ""
            },
            "colorscale": [
             [
              0,
              "#0d0887"
             ],
             [
              0.1111111111111111,
              "#46039f"
             ],
             [
              0.2222222222222222,
              "#7201a8"
             ],
             [
              0.3333333333333333,
              "#9c179e"
             ],
             [
              0.4444444444444444,
              "#bd3786"
             ],
             [
              0.5555555555555556,
              "#d8576b"
             ],
             [
              0.6666666666666666,
              "#ed7953"
             ],
             [
              0.7777777777777778,
              "#fb9f3a"
             ],
             [
              0.8888888888888888,
              "#fdca26"
             ],
             [
              1,
              "#f0f921"
             ]
            ],
            "type": "heatmap"
           }
          ],
          "heatmapgl": [
           {
            "colorbar": {
             "outlinewidth": 0,
             "ticks": ""
            },
            "colorscale": [
             [
              0,
              "#0d0887"
             ],
             [
              0.1111111111111111,
              "#46039f"
             ],
             [
              0.2222222222222222,
              "#7201a8"
             ],
             [
              0.3333333333333333,
              "#9c179e"
             ],
             [
              0.4444444444444444,
              "#bd3786"
             ],
             [
              0.5555555555555556,
              "#d8576b"
             ],
             [
              0.6666666666666666,
              "#ed7953"
             ],
             [
              0.7777777777777778,
              "#fb9f3a"
             ],
             [
              0.8888888888888888,
              "#fdca26"
             ],
             [
              1,
              "#f0f921"
             ]
            ],
            "type": "heatmapgl"
           }
          ],
          "histogram": [
           {
            "marker": {
             "pattern": {
              "fillmode": "overlay",
              "size": 10,
              "solidity": 0.2
             }
            },
            "type": "histogram"
           }
          ],
          "histogram2d": [
           {
            "colorbar": {
             "outlinewidth": 0,
             "ticks": ""
            },
            "colorscale": [
             [
              0,
              "#0d0887"
             ],
             [
              0.1111111111111111,
              "#46039f"
             ],
             [
              0.2222222222222222,
              "#7201a8"
             ],
             [
              0.3333333333333333,
              "#9c179e"
             ],
             [
              0.4444444444444444,
              "#bd3786"
             ],
             [
              0.5555555555555556,
              "#d8576b"
             ],
             [
              0.6666666666666666,
              "#ed7953"
             ],
             [
              0.7777777777777778,
              "#fb9f3a"
             ],
             [
              0.8888888888888888,
              "#fdca26"
             ],
             [
              1,
              "#f0f921"
             ]
            ],
            "type": "histogram2d"
           }
          ],
          "histogram2dcontour": [
           {
            "colorbar": {
             "outlinewidth": 0,
             "ticks": ""
            },
            "colorscale": [
             [
              0,
              "#0d0887"
             ],
             [
              0.1111111111111111,
              "#46039f"
             ],
             [
              0.2222222222222222,
              "#7201a8"
             ],
             [
              0.3333333333333333,
              "#9c179e"
             ],
             [
              0.4444444444444444,
              "#bd3786"
             ],
             [
              0.5555555555555556,
              "#d8576b"
             ],
             [
              0.6666666666666666,
              "#ed7953"
             ],
             [
              0.7777777777777778,
              "#fb9f3a"
             ],
             [
              0.8888888888888888,
              "#fdca26"
             ],
             [
              1,
              "#f0f921"
             ]
            ],
            "type": "histogram2dcontour"
           }
          ],
          "mesh3d": [
           {
            "colorbar": {
             "outlinewidth": 0,
             "ticks": ""
            },
            "type": "mesh3d"
           }
          ],
          "parcoords": [
           {
            "line": {
             "colorbar": {
              "outlinewidth": 0,
              "ticks": ""
             }
            },
            "type": "parcoords"
           }
          ],
          "pie": [
           {
            "automargin": true,
            "type": "pie"
           }
          ],
          "scatter": [
           {
            "fillpattern": {
             "fillmode": "overlay",
             "size": 10,
             "solidity": 0.2
            },
            "type": "scatter"
           }
          ],
          "scatter3d": [
           {
            "line": {
             "colorbar": {
              "outlinewidth": 0,
              "ticks": ""
             }
            },
            "marker": {
             "colorbar": {
              "outlinewidth": 0,
              "ticks": ""
             }
            },
            "type": "scatter3d"
           }
          ],
          "scattercarpet": [
           {
            "marker": {
             "colorbar": {
              "outlinewidth": 0,
              "ticks": ""
             }
            },
            "type": "scattercarpet"
           }
          ],
          "scattergeo": [
           {
            "marker": {
             "colorbar": {
              "outlinewidth": 0,
              "ticks": ""
             }
            },
            "type": "scattergeo"
           }
          ],
          "scattergl": [
           {
            "marker": {
             "colorbar": {
              "outlinewidth": 0,
              "ticks": ""
             }
            },
            "type": "scattergl"
           }
          ],
          "scattermapbox": [
           {
            "marker": {
             "colorbar": {
              "outlinewidth": 0,
              "ticks": ""
             }
            },
            "type": "scattermapbox"
           }
          ],
          "scatterpolar": [
           {
            "marker": {
             "colorbar": {
              "outlinewidth": 0,
              "ticks": ""
             }
            },
            "type": "scatterpolar"
           }
          ],
          "scatterpolargl": [
           {
            "marker": {
             "colorbar": {
              "outlinewidth": 0,
              "ticks": ""
             }
            },
            "type": "scatterpolargl"
           }
          ],
          "scatterternary": [
           {
            "marker": {
             "colorbar": {
              "outlinewidth": 0,
              "ticks": ""
             }
            },
            "type": "scatterternary"
           }
          ],
          "surface": [
           {
            "colorbar": {
             "outlinewidth": 0,
             "ticks": ""
            },
            "colorscale": [
             [
              0,
              "#0d0887"
             ],
             [
              0.1111111111111111,
              "#46039f"
             ],
             [
              0.2222222222222222,
              "#7201a8"
             ],
             [
              0.3333333333333333,
              "#9c179e"
             ],
             [
              0.4444444444444444,
              "#bd3786"
             ],
             [
              0.5555555555555556,
              "#d8576b"
             ],
             [
              0.6666666666666666,
              "#ed7953"
             ],
             [
              0.7777777777777778,
              "#fb9f3a"
             ],
             [
              0.8888888888888888,
              "#fdca26"
             ],
             [
              1,
              "#f0f921"
             ]
            ],
            "type": "surface"
           }
          ],
          "table": [
           {
            "cells": {
             "fill": {
              "color": "#EBF0F8"
             },
             "line": {
              "color": "white"
             }
            },
            "header": {
             "fill": {
              "color": "#C8D4E3"
             },
             "line": {
              "color": "white"
             }
            },
            "type": "table"
           }
          ]
         },
         "layout": {
          "annotationdefaults": {
           "arrowcolor": "#2a3f5f",
           "arrowhead": 0,
           "arrowwidth": 1
          },
          "autotypenumbers": "strict",
          "coloraxis": {
           "colorbar": {
            "outlinewidth": 0,
            "ticks": ""
           }
          },
          "colorscale": {
           "diverging": [
            [
             0,
             "#8e0152"
            ],
            [
             0.1,
             "#c51b7d"
            ],
            [
             0.2,
             "#de77ae"
            ],
            [
             0.3,
             "#f1b6da"
            ],
            [
             0.4,
             "#fde0ef"
            ],
            [
             0.5,
             "#f7f7f7"
            ],
            [
             0.6,
             "#e6f5d0"
            ],
            [
             0.7,
             "#b8e186"
            ],
            [
             0.8,
             "#7fbc41"
            ],
            [
             0.9,
             "#4d9221"
            ],
            [
             1,
             "#276419"
            ]
           ],
           "sequential": [
            [
             0,
             "#0d0887"
            ],
            [
             0.1111111111111111,
             "#46039f"
            ],
            [
             0.2222222222222222,
             "#7201a8"
            ],
            [
             0.3333333333333333,
             "#9c179e"
            ],
            [
             0.4444444444444444,
             "#bd3786"
            ],
            [
             0.5555555555555556,
             "#d8576b"
            ],
            [
             0.6666666666666666,
             "#ed7953"
            ],
            [
             0.7777777777777778,
             "#fb9f3a"
            ],
            [
             0.8888888888888888,
             "#fdca26"
            ],
            [
             1,
             "#f0f921"
            ]
           ],
           "sequentialminus": [
            [
             0,
             "#0d0887"
            ],
            [
             0.1111111111111111,
             "#46039f"
            ],
            [
             0.2222222222222222,
             "#7201a8"
            ],
            [
             0.3333333333333333,
             "#9c179e"
            ],
            [
             0.4444444444444444,
             "#bd3786"
            ],
            [
             0.5555555555555556,
             "#d8576b"
            ],
            [
             0.6666666666666666,
             "#ed7953"
            ],
            [
             0.7777777777777778,
             "#fb9f3a"
            ],
            [
             0.8888888888888888,
             "#fdca26"
            ],
            [
             1,
             "#f0f921"
            ]
           ]
          },
          "colorway": [
           "#636efa",
           "#EF553B",
           "#00cc96",
           "#ab63fa",
           "#FFA15A",
           "#19d3f3",
           "#FF6692",
           "#B6E880",
           "#FF97FF",
           "#FECB52"
          ],
          "font": {
           "color": "#2a3f5f"
          },
          "geo": {
           "bgcolor": "white",
           "lakecolor": "white",
           "landcolor": "#E5ECF6",
           "showlakes": true,
           "showland": true,
           "subunitcolor": "white"
          },
          "hoverlabel": {
           "align": "left"
          },
          "hovermode": "closest",
          "mapbox": {
           "style": "light"
          },
          "paper_bgcolor": "white",
          "plot_bgcolor": "#E5ECF6",
          "polar": {
           "angularaxis": {
            "gridcolor": "white",
            "linecolor": "white",
            "ticks": ""
           },
           "bgcolor": "#E5ECF6",
           "radialaxis": {
            "gridcolor": "white",
            "linecolor": "white",
            "ticks": ""
           }
          },
          "scene": {
           "xaxis": {
            "backgroundcolor": "#E5ECF6",
            "gridcolor": "white",
            "gridwidth": 2,
            "linecolor": "white",
            "showbackground": true,
            "ticks": "",
            "zerolinecolor": "white"
           },
           "yaxis": {
            "backgroundcolor": "#E5ECF6",
            "gridcolor": "white",
            "gridwidth": 2,
            "linecolor": "white",
            "showbackground": true,
            "ticks": "",
            "zerolinecolor": "white"
           },
           "zaxis": {
            "backgroundcolor": "#E5ECF6",
            "gridcolor": "white",
            "gridwidth": 2,
            "linecolor": "white",
            "showbackground": true,
            "ticks": "",
            "zerolinecolor": "white"
           }
          },
          "shapedefaults": {
           "line": {
            "color": "#2a3f5f"
           }
          },
          "ternary": {
           "aaxis": {
            "gridcolor": "white",
            "linecolor": "white",
            "ticks": ""
           },
           "baxis": {
            "gridcolor": "white",
            "linecolor": "white",
            "ticks": ""
           },
           "bgcolor": "#E5ECF6",
           "caxis": {
            "gridcolor": "white",
            "linecolor": "white",
            "ticks": ""
           }
          },
          "title": {
           "x": 0.05
          },
          "xaxis": {
           "automargin": true,
           "gridcolor": "white",
           "linecolor": "white",
           "ticks": "",
           "title": {
            "standoff": 15
           },
           "zerolinecolor": "white",
           "zerolinewidth": 2
          },
          "yaxis": {
           "automargin": true,
           "gridcolor": "white",
           "linecolor": "white",
           "ticks": "",
           "title": {
            "standoff": 15
           },
           "zerolinecolor": "white",
           "zerolinewidth": 2
          }
         }
        }
       }
      }
     },
     "metadata": {},
     "output_type": "display_data"
    }
   ],
   "source": [
    "# Criação de Gráfico com as Estações que Serão Utilizadas\n",
    "import plotly.express as px\n",
    "# map\n",
    "houses = enriquecimento_estacoes_usadas[['lat', 'long', 'estacao_origem', 'linha',\n",
    "                                         'numero_estacao_origem', 'tamanho']].copy()\n",
    "fig = px.scatter_mapbox( houses,\n",
    "                        lat=\"lat\",\n",
    "                        lon=\"long\",\n",
    "                        color=\"linha\",\n",
    "                        size='tamanho',\n",
    "                        hover_name=\"estacao_origem\",\n",
    "                        color_discrete_sequence=[\"#a20404\", \"#c0b0b0\", \"yellow\", \"#ffba94\", '#00d3c2'],\n",
    "                        size_max=10,\n",
    "                        zoom=9)\n",
    "fig.update_layout(mapbox_style=\"carto-positron\")\n",
    "fig.update_layout(height=600, margin={\"r\":0,\"t\":0,\"l\":0,\"b\":0})\n",
    "fig.show()"
   ]
  },
  {
   "cell_type": "code",
   "execution_count": null,
   "metadata": {},
   "outputs": [],
   "source": []
  },
  {
   "cell_type": "code",
   "execution_count": null,
   "metadata": {},
   "outputs": [],
   "source": []
  },
  {
   "cell_type": "code",
   "execution_count": null,
   "metadata": {},
   "outputs": [],
   "source": []
  }
 ],
 "metadata": {
  "kernelspec": {
   "display_name": "base",
   "language": "python",
   "name": "python3"
  },
  "language_info": {
   "codemirror_mode": {
    "name": "ipython",
    "version": 3
   },
   "file_extension": ".py",
   "mimetype": "text/x-python",
   "name": "python",
   "nbconvert_exporter": "python",
   "pygments_lexer": "ipython3",
   "version": "3.9.7 (default, Sep 16 2021, 16:59:28) [MSC v.1916 64 bit (AMD64)]"
  },
  "orig_nbformat": 4,
  "vscode": {
   "interpreter": {
    "hash": "ac3fb6d776e84197e2519cad330277098288f95b7a4d5ec76d7df86bc41cf9a8"
   }
  }
 },
 "nbformat": 4,
 "nbformat_minor": 2
}
