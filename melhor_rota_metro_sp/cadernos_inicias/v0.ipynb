{
  "cells": [
    {
      "cell_type": "markdown",
      "metadata": {
        "id": "gS9oHTeeIGGk"
      },
      "source": [
        "# **Aula 08 - Projeto Final**"
      ]
    },
    {
      "attachments": {},
      "cell_type": "markdown",
      "metadata": {
        "id": "qngYo94kIJV3"
      },
      "source": [
        "# **Rede de transporte metropolitano SP**"
      ]
    },
    {
      "cell_type": "markdown",
      "metadata": {
        "id": "h63nJ4r8INgh"
      },
      "source": [
        "O projeto deste módulo consiste em modelar a **rede de transporte metropolitano de SP** como um grafo.\n",
        "\n",
        "A rede a ser implementada é a que está [neste arquivo.](http://www.metro.sp.gov.br/pdf/mapa-da-rede-metro.pdf) O arquivo pdf está também na pasta do projeto!\n",
        "\n",
        "O arquivo `metroetrem_sp_comlinks.csv` contém grande parte (se não todas) as estações da rede. Pode ser que algumas estejam faltando -- neste caso, vocês podem adicionar as estações que estão faltando ao arquivo.\n",
        "\n",
        "Este arquivo está sendo disponibilizado para auxiliar vocês. Mas os grupos são inteiramente livres para coletar dados de qualquer outra forma (com webscraping, por exemplo). Fiquem à vontade!\n",
        "\n",
        "Independente da forma como os dados forem coletados, uma coisa será super necessária: **estruturar os dados de maneira adequada** para que eles possam servir de input para o networkx para a montagem do grafo, **de maneira automática**. Não é proibido, mas eu desencorajo fortemente que vocês construam o grafo manualmente com o `.add_edge()`. A ideia é que vocês construam o grafo usando programação, a partir da leitura e estruturação dos dados no arquivo! Vocês são livres em como farão isso, pesquisem e usem a criatividade!"
      ]
    },
    {
      "cell_type": "markdown",
      "metadata": {
        "id": "TDS5GpxMIQbW"
      },
      "source": [
        "**Requisitos:**\n",
        "\n",
        "- Estruturação dos dados para que eles sejam usados na construção do grafo;\n",
        "- Um grafo completo para toda a rede de transporte metropolitano de SP;\n",
        "- Uma função que encontre o melhor caminho entre dois nós;\n",
        "- Uma função que descreva a rota do melhor caminho entre dois nós;\n",
        "- Uma interface de navegação para interação com usuário;"
      ]
    },
    {
      "cell_type": "markdown",
      "metadata": {
        "id": "RQku-V7eITK6"
      },
      "source": [
        "**Opcionais:**\n",
        "\n",
        "- Caputra dos dados por webscraping ou outra ferramenta;\n",
        "- Atribuição de pesos às conexões do grafo (tempo entre estações, distância, etc);\n",
        "- Visualização do grafo."
      ]
    },
    {
      "cell_type": "code",
      "execution_count": 451,
      "metadata": {
        "colab": {
          "base_uri": "https://localhost:8080/"
        },
        "id": "RgEKgx6TIhz1",
        "outputId": "1ff902d6-5514-4b25-80af-60353f44c45c"
      },
      "outputs": [
        {
          "name": "stdout",
          "output_type": "stream",
          "text": [
            "Drive already mounted at /content/drive; to attempt to forcibly remount, call drive.mount(\"/content/drive\", force_remount=True).\n"
          ]
        }
      ],
      "source": [
        "from google.colab import drive\n",
        "drive.mount('/content/drive')"
      ]
    },
    {
      "cell_type": "code",
      "execution_count": 452,
      "metadata": {
        "id": "05QjV4tVITuh"
      },
      "outputs": [],
      "source": [
        "import pandas as pd \n",
        "import numpy \n",
        "\n",
        "# importar as libs\n",
        "from pprint import pprint\n",
        "\n",
        "import matplotlib.pyplot as plt\n",
        "import networkx as nx"
      ]
    },
    {
      "cell_type": "code",
      "execution_count": 16,
      "metadata": {
        "colab": {
          "base_uri": "https://localhost:8080/",
          "height": 206
        },
        "id": "7IORFUTTI3Yu",
        "outputId": "72fc6400-7966-485b-8887-5cece671705c"
      },
      "outputs": [
        {
          "data": {
            "text/html": [
              "\n",
              "  <div id=\"df-360634e6-b6b0-4d86-9073-b77198924eb3\">\n",
              "    <div class=\"colab-df-container\">\n",
              "      <div>\n",
              "<style scoped>\n",
              "    .dataframe tbody tr th:only-of-type {\n",
              "        vertical-align: middle;\n",
              "    }\n",
              "\n",
              "    .dataframe tbody tr th {\n",
              "        vertical-align: top;\n",
              "    }\n",
              "\n",
              "    .dataframe thead th {\n",
              "        text-align: right;\n",
              "    }\n",
              "</style>\n",
              "<table border=\"1\" class=\"dataframe\">\n",
              "  <thead>\n",
              "    <tr style=\"text-align: right;\">\n",
              "      <th></th>\n",
              "      <th>num_lin</th>\n",
              "      <th>nome_lin</th>\n",
              "      <th>long</th>\n",
              "      <th>lat</th>\n",
              "      <th>estacao_upp</th>\n",
              "      <th>link</th>\n",
              "    </tr>\n",
              "  </thead>\n",
              "  <tbody>\n",
              "    <tr>\n",
              "      <th>0</th>\n",
              "      <td>4</td>\n",
              "      <td>AMARELA</td>\n",
              "      <td>-46.723768</td>\n",
              "      <td>-23.586440</td>\n",
              "      <td>SAO PAULO MORUMBI</td>\n",
              "      <td>BUTANTA</td>\n",
              "    </tr>\n",
              "    <tr>\n",
              "      <th>1</th>\n",
              "      <td>4</td>\n",
              "      <td>AMARELA</td>\n",
              "      <td>-46.708157</td>\n",
              "      <td>-23.571857</td>\n",
              "      <td>BUTANTA</td>\n",
              "      <td>PINHEIROS</td>\n",
              "    </tr>\n",
              "    <tr>\n",
              "      <th>2</th>\n",
              "      <td>4</td>\n",
              "      <td>AMARELA</td>\n",
              "      <td>-46.701610</td>\n",
              "      <td>-23.567392</td>\n",
              "      <td>PINHEIROS</td>\n",
              "      <td>FARIA LIMA</td>\n",
              "    </tr>\n",
              "    <tr>\n",
              "      <th>3</th>\n",
              "      <td>4</td>\n",
              "      <td>AMARELA</td>\n",
              "      <td>-46.694102</td>\n",
              "      <td>-23.567269</td>\n",
              "      <td>FARIA LIMA</td>\n",
              "      <td>FRADIQUE COUTINHO</td>\n",
              "    </tr>\n",
              "    <tr>\n",
              "      <th>4</th>\n",
              "      <td>4</td>\n",
              "      <td>AMARELA</td>\n",
              "      <td>-46.684259</td>\n",
              "      <td>-23.566228</td>\n",
              "      <td>FRADIQUE COUTINHO</td>\n",
              "      <td>OSCAR FREIRE</td>\n",
              "    </tr>\n",
              "  </tbody>\n",
              "</table>\n",
              "</div>\n",
              "      <button class=\"colab-df-convert\" onclick=\"convertToInteractive('df-360634e6-b6b0-4d86-9073-b77198924eb3')\"\n",
              "              title=\"Convert this dataframe to an interactive table.\"\n",
              "              style=\"display:none;\">\n",
              "        \n",
              "  <svg xmlns=\"http://www.w3.org/2000/svg\" height=\"24px\"viewBox=\"0 0 24 24\"\n",
              "       width=\"24px\">\n",
              "    <path d=\"M0 0h24v24H0V0z\" fill=\"none\"/>\n",
              "    <path d=\"M18.56 5.44l.94 2.06.94-2.06 2.06-.94-2.06-.94-.94-2.06-.94 2.06-2.06.94zm-11 1L8.5 8.5l.94-2.06 2.06-.94-2.06-.94L8.5 2.5l-.94 2.06-2.06.94zm10 10l.94 2.06.94-2.06 2.06-.94-2.06-.94-.94-2.06-.94 2.06-2.06.94z\"/><path d=\"M17.41 7.96l-1.37-1.37c-.4-.4-.92-.59-1.43-.59-.52 0-1.04.2-1.43.59L10.3 9.45l-7.72 7.72c-.78.78-.78 2.05 0 2.83L4 21.41c.39.39.9.59 1.41.59.51 0 1.02-.2 1.41-.59l7.78-7.78 2.81-2.81c.8-.78.8-2.07 0-2.86zM5.41 20L4 18.59l7.72-7.72 1.47 1.35L5.41 20z\"/>\n",
              "  </svg>\n",
              "      </button>\n",
              "      \n",
              "  <style>\n",
              "    .colab-df-container {\n",
              "      display:flex;\n",
              "      flex-wrap:wrap;\n",
              "      gap: 12px;\n",
              "    }\n",
              "\n",
              "    .colab-df-convert {\n",
              "      background-color: #E8F0FE;\n",
              "      border: none;\n",
              "      border-radius: 50%;\n",
              "      cursor: pointer;\n",
              "      display: none;\n",
              "      fill: #1967D2;\n",
              "      height: 32px;\n",
              "      padding: 0 0 0 0;\n",
              "      width: 32px;\n",
              "    }\n",
              "\n",
              "    .colab-df-convert:hover {\n",
              "      background-color: #E2EBFA;\n",
              "      box-shadow: 0px 1px 2px rgba(60, 64, 67, 0.3), 0px 1px 3px 1px rgba(60, 64, 67, 0.15);\n",
              "      fill: #174EA6;\n",
              "    }\n",
              "\n",
              "    [theme=dark] .colab-df-convert {\n",
              "      background-color: #3B4455;\n",
              "      fill: #D2E3FC;\n",
              "    }\n",
              "\n",
              "    [theme=dark] .colab-df-convert:hover {\n",
              "      background-color: #434B5C;\n",
              "      box-shadow: 0px 1px 3px 1px rgba(0, 0, 0, 0.15);\n",
              "      filter: drop-shadow(0px 1px 2px rgba(0, 0, 0, 0.3));\n",
              "      fill: #FFFFFF;\n",
              "    }\n",
              "  </style>\n",
              "\n",
              "      <script>\n",
              "        const buttonEl =\n",
              "          document.querySelector('#df-360634e6-b6b0-4d86-9073-b77198924eb3 button.colab-df-convert');\n",
              "        buttonEl.style.display =\n",
              "          google.colab.kernel.accessAllowed ? 'block' : 'none';\n",
              "\n",
              "        async function convertToInteractive(key) {\n",
              "          const element = document.querySelector('#df-360634e6-b6b0-4d86-9073-b77198924eb3');\n",
              "          const dataTable =\n",
              "            await google.colab.kernel.invokeFunction('convertToInteractive',\n",
              "                                                     [key], {});\n",
              "          if (!dataTable) return;\n",
              "\n",
              "          const docLinkHtml = 'Like what you see? Visit the ' +\n",
              "            '<a target=\"_blank\" href=https://colab.research.google.com/notebooks/data_table.ipynb>data table notebook</a>'\n",
              "            + ' to learn more about interactive tables.';\n",
              "          element.innerHTML = '';\n",
              "          dataTable['output_type'] = 'display_data';\n",
              "          await google.colab.output.renderOutput(dataTable, element);\n",
              "          const docLink = document.createElement('div');\n",
              "          docLink.innerHTML = docLinkHtml;\n",
              "          element.appendChild(docLink);\n",
              "        }\n",
              "      </script>\n",
              "    </div>\n",
              "  </div>\n",
              "  "
            ],
            "text/plain": [
              "   num_lin nome_lin       long        lat        estacao_upp  \\\n",
              "0        4  AMARELA -46.723768 -23.586440  SAO PAULO MORUMBI   \n",
              "1        4  AMARELA -46.708157 -23.571857            BUTANTA   \n",
              "2        4  AMARELA -46.701610 -23.567392          PINHEIROS   \n",
              "3        4  AMARELA -46.694102 -23.567269         FARIA LIMA   \n",
              "4        4  AMARELA -46.684259 -23.566228  FRADIQUE COUTINHO   \n",
              "\n",
              "                link  \n",
              "0            BUTANTA  \n",
              "1          PINHEIROS  \n",
              "2         FARIA LIMA  \n",
              "3  FRADIQUE COUTINHO  \n",
              "4       OSCAR FREIRE  "
            ]
          },
          "execution_count": 16,
          "metadata": {},
          "output_type": "execute_result"
        }
      ],
      "source": [
        "# original = pd.read_csv('/content/drive/MyDrive/Colab Notebooks/projeto_4/base_metro_origem.csv')\n",
        "# original.head()"
      ]
    },
    {
      "cell_type": "code",
      "execution_count": 11,
      "metadata": {
        "id": "dl-x6PQEI_aq"
      },
      "outputs": [],
      "source": [
        "# original.to_csv('/content/drive/MyDrive/Colab Notebooks/projeto_4/base_para_modificação')\n",
        "# original.to_excel('/content/drive/MyDrive/Colab Notebooks/projeto_4/base_para_modificação.xlsx')"
      ]
    },
    {
      "cell_type": "code",
      "execution_count": 17,
      "metadata": {
        "id": "yqww6bfTJFjx"
      },
      "outputs": [],
      "source": [
        "# original.estacao_upp.unique()"
      ]
    },
    {
      "cell_type": "code",
      "execution_count": 369,
      "metadata": {
        "colab": {
          "base_uri": "https://localhost:8080/",
          "height": 162
        },
        "id": "aZ_VUr0WJjMi",
        "outputId": "4a5581f8-9ca2-46a5-8780-380119926064"
      },
      "outputs": [
        {
          "data": {
            "text/html": [
              "\n",
              "  <div id=\"df-c04976a3-6289-46f5-85f2-ec54fe150ed0\">\n",
              "    <div class=\"colab-df-container\">\n",
              "      <div>\n",
              "<style scoped>\n",
              "    .dataframe tbody tr th:only-of-type {\n",
              "        vertical-align: middle;\n",
              "    }\n",
              "\n",
              "    .dataframe tbody tr th {\n",
              "        vertical-align: top;\n",
              "    }\n",
              "\n",
              "    .dataframe thead th {\n",
              "        text-align: right;\n",
              "    }\n",
              "</style>\n",
              "<table border=\"1\" class=\"dataframe\">\n",
              "  <thead>\n",
              "    <tr style=\"text-align: right;\">\n",
              "      <th></th>\n",
              "      <th>numero_linha</th>\n",
              "      <th>linha</th>\n",
              "      <th>long</th>\n",
              "      <th>lat</th>\n",
              "      <th>estacao_origem</th>\n",
              "      <th>numero_estacao_origem</th>\n",
              "      <th>estacao_baldeacao_origem</th>\n",
              "      <th>estacao_conectada</th>\n",
              "      <th>numero_estacao_conectada</th>\n",
              "      <th>estacao_baldeacao_conectada</th>\n",
              "    </tr>\n",
              "  </thead>\n",
              "  <tbody>\n",
              "    <tr>\n",
              "      <th>0</th>\n",
              "      <td>4</td>\n",
              "      <td>AMARELA</td>\n",
              "      <td>-46,723768</td>\n",
              "      <td>-23,58644</td>\n",
              "      <td>SAO PAULO MORUMBI</td>\n",
              "      <td>1</td>\n",
              "      <td>nao</td>\n",
              "      <td>BUTANTA</td>\n",
              "      <td>2</td>\n",
              "      <td>sim</td>\n",
              "    </tr>\n",
              "  </tbody>\n",
              "</table>\n",
              "</div>\n",
              "      <button class=\"colab-df-convert\" onclick=\"convertToInteractive('df-c04976a3-6289-46f5-85f2-ec54fe150ed0')\"\n",
              "              title=\"Convert this dataframe to an interactive table.\"\n",
              "              style=\"display:none;\">\n",
              "        \n",
              "  <svg xmlns=\"http://www.w3.org/2000/svg\" height=\"24px\"viewBox=\"0 0 24 24\"\n",
              "       width=\"24px\">\n",
              "    <path d=\"M0 0h24v24H0V0z\" fill=\"none\"/>\n",
              "    <path d=\"M18.56 5.44l.94 2.06.94-2.06 2.06-.94-2.06-.94-.94-2.06-.94 2.06-2.06.94zm-11 1L8.5 8.5l.94-2.06 2.06-.94-2.06-.94L8.5 2.5l-.94 2.06-2.06.94zm10 10l.94 2.06.94-2.06 2.06-.94-2.06-.94-.94-2.06-.94 2.06-2.06.94z\"/><path d=\"M17.41 7.96l-1.37-1.37c-.4-.4-.92-.59-1.43-.59-.52 0-1.04.2-1.43.59L10.3 9.45l-7.72 7.72c-.78.78-.78 2.05 0 2.83L4 21.41c.39.39.9.59 1.41.59.51 0 1.02-.2 1.41-.59l7.78-7.78 2.81-2.81c.8-.78.8-2.07 0-2.86zM5.41 20L4 18.59l7.72-7.72 1.47 1.35L5.41 20z\"/>\n",
              "  </svg>\n",
              "      </button>\n",
              "      \n",
              "  <style>\n",
              "    .colab-df-container {\n",
              "      display:flex;\n",
              "      flex-wrap:wrap;\n",
              "      gap: 12px;\n",
              "    }\n",
              "\n",
              "    .colab-df-convert {\n",
              "      background-color: #E8F0FE;\n",
              "      border: none;\n",
              "      border-radius: 50%;\n",
              "      cursor: pointer;\n",
              "      display: none;\n",
              "      fill: #1967D2;\n",
              "      height: 32px;\n",
              "      padding: 0 0 0 0;\n",
              "      width: 32px;\n",
              "    }\n",
              "\n",
              "    .colab-df-convert:hover {\n",
              "      background-color: #E2EBFA;\n",
              "      box-shadow: 0px 1px 2px rgba(60, 64, 67, 0.3), 0px 1px 3px 1px rgba(60, 64, 67, 0.15);\n",
              "      fill: #174EA6;\n",
              "    }\n",
              "\n",
              "    [theme=dark] .colab-df-convert {\n",
              "      background-color: #3B4455;\n",
              "      fill: #D2E3FC;\n",
              "    }\n",
              "\n",
              "    [theme=dark] .colab-df-convert:hover {\n",
              "      background-color: #434B5C;\n",
              "      box-shadow: 0px 1px 3px 1px rgba(0, 0, 0, 0.15);\n",
              "      filter: drop-shadow(0px 1px 2px rgba(0, 0, 0, 0.3));\n",
              "      fill: #FFFFFF;\n",
              "    }\n",
              "  </style>\n",
              "\n",
              "      <script>\n",
              "        const buttonEl =\n",
              "          document.querySelector('#df-c04976a3-6289-46f5-85f2-ec54fe150ed0 button.colab-df-convert');\n",
              "        buttonEl.style.display =\n",
              "          google.colab.kernel.accessAllowed ? 'block' : 'none';\n",
              "\n",
              "        async function convertToInteractive(key) {\n",
              "          const element = document.querySelector('#df-c04976a3-6289-46f5-85f2-ec54fe150ed0');\n",
              "          const dataTable =\n",
              "            await google.colab.kernel.invokeFunction('convertToInteractive',\n",
              "                                                     [key], {});\n",
              "          if (!dataTable) return;\n",
              "\n",
              "          const docLinkHtml = 'Like what you see? Visit the ' +\n",
              "            '<a target=\"_blank\" href=https://colab.research.google.com/notebooks/data_table.ipynb>data table notebook</a>'\n",
              "            + ' to learn more about interactive tables.';\n",
              "          element.innerHTML = '';\n",
              "          dataTable['output_type'] = 'display_data';\n",
              "          await google.colab.output.renderOutput(dataTable, element);\n",
              "          const docLink = document.createElement('div');\n",
              "          docLink.innerHTML = docLinkHtml;\n",
              "          element.appendChild(docLink);\n",
              "        }\n",
              "      </script>\n",
              "    </div>\n",
              "  </div>\n",
              "  "
            ],
            "text/plain": [
              "   numero_linha    linha        long        lat     estacao_origem  \\\n",
              "0             4  AMARELA  -46,723768  -23,58644  SAO PAULO MORUMBI   \n",
              "\n",
              "   numero_estacao_origem estacao_baldeacao_origem estacao_conectada  \\\n",
              "0                      1                      nao           BUTANTA   \n",
              "\n",
              "   numero_estacao_conectada estacao_baldeacao_conectada  \n",
              "0                         2                         sim  "
            ]
          },
          "execution_count": 369,
          "metadata": {},
          "output_type": "execute_result"
        }
      ],
      "source": [
        "df = pd.read_csv('/content/drive/MyDrive/Colab Notebooks/projeto_4/base_metro_modificada.csv')\n",
        "df.head(1)"
      ]
    },
    {
      "cell_type": "code",
      "execution_count": 4,
      "metadata": {
        "colab": {
          "base_uri": "https://localhost:8080/"
        },
        "id": "MtLP39FqQkJP",
        "outputId": "ad8b2aae-e0e1-4cc9-952c-b918bea01f64"
      },
      "outputs": [
        {
          "data": {
            "text/plain": [
              "array(['AMARELA', 'AZUL', 'CORAL', 'DIAMANTE', 'ESMERALDA', 'JADE',\n",
              "       'LILAS', 'PRATA', 'RUBI', 'SAFIRA', 'TURQUESA', 'VERDE',\n",
              "       'VERMELHA'], dtype=object)"
            ]
          },
          "execution_count": 4,
          "metadata": {},
          "output_type": "execute_result"
        }
      ],
      "source": [
        "df.linha.unique()"
      ]
    },
    {
      "cell_type": "code",
      "execution_count": 5,
      "metadata": {
        "id": "ii-kbdMQXFkj"
      },
      "outputs": [],
      "source": [
        "destino = 'BUTANTA'\n",
        "origem = 'ITAPEVI'"
      ]
    },
    {
      "cell_type": "code",
      "execution_count": 18,
      "metadata": {
        "colab": {
          "base_uri": "https://localhost:8080/",
          "height": 272
        },
        "id": "b5urecdUW3eN",
        "outputId": "b67320f4-47da-40de-9b48-b1d05b8c2e17"
      },
      "outputs": [
        {
          "data": {
            "text/html": [
              "\n",
              "  <div id=\"df-0c7e7c1a-ee01-41f6-b619-8a7bcdc6e5f9\">\n",
              "    <div class=\"colab-df-container\">\n",
              "      <div>\n",
              "<style scoped>\n",
              "    .dataframe tbody tr th:only-of-type {\n",
              "        vertical-align: middle;\n",
              "    }\n",
              "\n",
              "    .dataframe tbody tr th {\n",
              "        vertical-align: top;\n",
              "    }\n",
              "\n",
              "    .dataframe thead th {\n",
              "        text-align: right;\n",
              "    }\n",
              "</style>\n",
              "<table border=\"1\" class=\"dataframe\">\n",
              "  <thead>\n",
              "    <tr style=\"text-align: right;\">\n",
              "      <th></th>\n",
              "      <th>linha</th>\n",
              "      <th>numero_linha</th>\n",
              "    </tr>\n",
              "  </thead>\n",
              "  <tbody>\n",
              "    <tr>\n",
              "      <th>50</th>\n",
              "      <td>DIAMANTE</td>\n",
              "      <td>8</td>\n",
              "    </tr>\n",
              "  </tbody>\n",
              "</table>\n",
              "</div>\n",
              "      <button class=\"colab-df-convert\" onclick=\"convertToInteractive('df-0c7e7c1a-ee01-41f6-b619-8a7bcdc6e5f9')\"\n",
              "              title=\"Convert this dataframe to an interactive table.\"\n",
              "              style=\"display:none;\">\n",
              "        \n",
              "  <svg xmlns=\"http://www.w3.org/2000/svg\" height=\"24px\"viewBox=\"0 0 24 24\"\n",
              "       width=\"24px\">\n",
              "    <path d=\"M0 0h24v24H0V0z\" fill=\"none\"/>\n",
              "    <path d=\"M18.56 5.44l.94 2.06.94-2.06 2.06-.94-2.06-.94-.94-2.06-.94 2.06-2.06.94zm-11 1L8.5 8.5l.94-2.06 2.06-.94-2.06-.94L8.5 2.5l-.94 2.06-2.06.94zm10 10l.94 2.06.94-2.06 2.06-.94-2.06-.94-.94-2.06-.94 2.06-2.06.94z\"/><path d=\"M17.41 7.96l-1.37-1.37c-.4-.4-.92-.59-1.43-.59-.52 0-1.04.2-1.43.59L10.3 9.45l-7.72 7.72c-.78.78-.78 2.05 0 2.83L4 21.41c.39.39.9.59 1.41.59.51 0 1.02-.2 1.41-.59l7.78-7.78 2.81-2.81c.8-.78.8-2.07 0-2.86zM5.41 20L4 18.59l7.72-7.72 1.47 1.35L5.41 20z\"/>\n",
              "  </svg>\n",
              "      </button>\n",
              "      \n",
              "  <style>\n",
              "    .colab-df-container {\n",
              "      display:flex;\n",
              "      flex-wrap:wrap;\n",
              "      gap: 12px;\n",
              "    }\n",
              "\n",
              "    .colab-df-convert {\n",
              "      background-color: #E8F0FE;\n",
              "      border: none;\n",
              "      border-radius: 50%;\n",
              "      cursor: pointer;\n",
              "      display: none;\n",
              "      fill: #1967D2;\n",
              "      height: 32px;\n",
              "      padding: 0 0 0 0;\n",
              "      width: 32px;\n",
              "    }\n",
              "\n",
              "    .colab-df-convert:hover {\n",
              "      background-color: #E2EBFA;\n",
              "      box-shadow: 0px 1px 2px rgba(60, 64, 67, 0.3), 0px 1px 3px 1px rgba(60, 64, 67, 0.15);\n",
              "      fill: #174EA6;\n",
              "    }\n",
              "\n",
              "    [theme=dark] .colab-df-convert {\n",
              "      background-color: #3B4455;\n",
              "      fill: #D2E3FC;\n",
              "    }\n",
              "\n",
              "    [theme=dark] .colab-df-convert:hover {\n",
              "      background-color: #434B5C;\n",
              "      box-shadow: 0px 1px 3px 1px rgba(0, 0, 0, 0.15);\n",
              "      filter: drop-shadow(0px 1px 2px rgba(0, 0, 0, 0.3));\n",
              "      fill: #FFFFFF;\n",
              "    }\n",
              "  </style>\n",
              "\n",
              "      <script>\n",
              "        const buttonEl =\n",
              "          document.querySelector('#df-0c7e7c1a-ee01-41f6-b619-8a7bcdc6e5f9 button.colab-df-convert');\n",
              "        buttonEl.style.display =\n",
              "          google.colab.kernel.accessAllowed ? 'block' : 'none';\n",
              "\n",
              "        async function convertToInteractive(key) {\n",
              "          const element = document.querySelector('#df-0c7e7c1a-ee01-41f6-b619-8a7bcdc6e5f9');\n",
              "          const dataTable =\n",
              "            await google.colab.kernel.invokeFunction('convertToInteractive',\n",
              "                                                     [key], {});\n",
              "          if (!dataTable) return;\n",
              "\n",
              "          const docLinkHtml = 'Like what you see? Visit the ' +\n",
              "            '<a target=\"_blank\" href=https://colab.research.google.com/notebooks/data_table.ipynb>data table notebook</a>'\n",
              "            + ' to learn more about interactive tables.';\n",
              "          element.innerHTML = '';\n",
              "          dataTable['output_type'] = 'display_data';\n",
              "          await google.colab.output.renderOutput(dataTable, element);\n",
              "          const docLink = document.createElement('div');\n",
              "          docLink.innerHTML = docLinkHtml;\n",
              "          element.appendChild(docLink);\n",
              "        }\n",
              "      </script>\n",
              "    </div>\n",
              "  </div>\n",
              "  "
            ],
            "text/plain": [
              "       linha  numero_linha\n",
              "50  DIAMANTE             8"
            ]
          },
          "metadata": {},
          "output_type": "display_data"
        },
        {
          "data": {
            "text/html": [
              "\n",
              "  <div id=\"df-d4b44604-380a-41d5-b2af-f5437c11753e\">\n",
              "    <div class=\"colab-df-container\">\n",
              "      <div>\n",
              "<style scoped>\n",
              "    .dataframe tbody tr th:only-of-type {\n",
              "        vertical-align: middle;\n",
              "    }\n",
              "\n",
              "    .dataframe tbody tr th {\n",
              "        vertical-align: top;\n",
              "    }\n",
              "\n",
              "    .dataframe thead th {\n",
              "        text-align: right;\n",
              "    }\n",
              "</style>\n",
              "<table border=\"1\" class=\"dataframe\">\n",
              "  <thead>\n",
              "    <tr style=\"text-align: right;\">\n",
              "      <th></th>\n",
              "      <th>linha</th>\n",
              "      <th>numero_linha</th>\n",
              "    </tr>\n",
              "  </thead>\n",
              "  <tbody>\n",
              "    <tr>\n",
              "      <th>0</th>\n",
              "      <td>AMARELA</td>\n",
              "      <td>4</td>\n",
              "    </tr>\n",
              "  </tbody>\n",
              "</table>\n",
              "</div>\n",
              "      <button class=\"colab-df-convert\" onclick=\"convertToInteractive('df-d4b44604-380a-41d5-b2af-f5437c11753e')\"\n",
              "              title=\"Convert this dataframe to an interactive table.\"\n",
              "              style=\"display:none;\">\n",
              "        \n",
              "  <svg xmlns=\"http://www.w3.org/2000/svg\" height=\"24px\"viewBox=\"0 0 24 24\"\n",
              "       width=\"24px\">\n",
              "    <path d=\"M0 0h24v24H0V0z\" fill=\"none\"/>\n",
              "    <path d=\"M18.56 5.44l.94 2.06.94-2.06 2.06-.94-2.06-.94-.94-2.06-.94 2.06-2.06.94zm-11 1L8.5 8.5l.94-2.06 2.06-.94-2.06-.94L8.5 2.5l-.94 2.06-2.06.94zm10 10l.94 2.06.94-2.06 2.06-.94-2.06-.94-.94-2.06-.94 2.06-2.06.94z\"/><path d=\"M17.41 7.96l-1.37-1.37c-.4-.4-.92-.59-1.43-.59-.52 0-1.04.2-1.43.59L10.3 9.45l-7.72 7.72c-.78.78-.78 2.05 0 2.83L4 21.41c.39.39.9.59 1.41.59.51 0 1.02-.2 1.41-.59l7.78-7.78 2.81-2.81c.8-.78.8-2.07 0-2.86zM5.41 20L4 18.59l7.72-7.72 1.47 1.35L5.41 20z\"/>\n",
              "  </svg>\n",
              "      </button>\n",
              "      \n",
              "  <style>\n",
              "    .colab-df-container {\n",
              "      display:flex;\n",
              "      flex-wrap:wrap;\n",
              "      gap: 12px;\n",
              "    }\n",
              "\n",
              "    .colab-df-convert {\n",
              "      background-color: #E8F0FE;\n",
              "      border: none;\n",
              "      border-radius: 50%;\n",
              "      cursor: pointer;\n",
              "      display: none;\n",
              "      fill: #1967D2;\n",
              "      height: 32px;\n",
              "      padding: 0 0 0 0;\n",
              "      width: 32px;\n",
              "    }\n",
              "\n",
              "    .colab-df-convert:hover {\n",
              "      background-color: #E2EBFA;\n",
              "      box-shadow: 0px 1px 2px rgba(60, 64, 67, 0.3), 0px 1px 3px 1px rgba(60, 64, 67, 0.15);\n",
              "      fill: #174EA6;\n",
              "    }\n",
              "\n",
              "    [theme=dark] .colab-df-convert {\n",
              "      background-color: #3B4455;\n",
              "      fill: #D2E3FC;\n",
              "    }\n",
              "\n",
              "    [theme=dark] .colab-df-convert:hover {\n",
              "      background-color: #434B5C;\n",
              "      box-shadow: 0px 1px 3px 1px rgba(0, 0, 0, 0.15);\n",
              "      filter: drop-shadow(0px 1px 2px rgba(0, 0, 0, 0.3));\n",
              "      fill: #FFFFFF;\n",
              "    }\n",
              "  </style>\n",
              "\n",
              "      <script>\n",
              "        const buttonEl =\n",
              "          document.querySelector('#df-d4b44604-380a-41d5-b2af-f5437c11753e button.colab-df-convert');\n",
              "        buttonEl.style.display =\n",
              "          google.colab.kernel.accessAllowed ? 'block' : 'none';\n",
              "\n",
              "        async function convertToInteractive(key) {\n",
              "          const element = document.querySelector('#df-d4b44604-380a-41d5-b2af-f5437c11753e');\n",
              "          const dataTable =\n",
              "            await google.colab.kernel.invokeFunction('convertToInteractive',\n",
              "                                                     [key], {});\n",
              "          if (!dataTable) return;\n",
              "\n",
              "          const docLinkHtml = 'Like what you see? Visit the ' +\n",
              "            '<a target=\"_blank\" href=https://colab.research.google.com/notebooks/data_table.ipynb>data table notebook</a>'\n",
              "            + ' to learn more about interactive tables.';\n",
              "          element.innerHTML = '';\n",
              "          dataTable['output_type'] = 'display_data';\n",
              "          await google.colab.output.renderOutput(dataTable, element);\n",
              "          const docLink = document.createElement('div');\n",
              "          docLink.innerHTML = docLinkHtml;\n",
              "          element.appendChild(docLink);\n",
              "        }\n",
              "      </script>\n",
              "    </div>\n",
              "  </div>\n",
              "  "
            ],
            "text/plain": [
              "     linha  numero_linha\n",
              "0  AMARELA             4"
            ]
          },
          "metadata": {},
          "output_type": "display_data"
        },
        {
          "data": {
            "text/html": [
              "\n",
              "  <div id=\"df-93149c93-fe8c-4774-9bae-34c8f6008ffa\">\n",
              "    <div class=\"colab-df-container\">\n",
              "      <div>\n",
              "<style scoped>\n",
              "    .dataframe tbody tr th:only-of-type {\n",
              "        vertical-align: middle;\n",
              "    }\n",
              "\n",
              "    .dataframe tbody tr th {\n",
              "        vertical-align: top;\n",
              "    }\n",
              "\n",
              "    .dataframe thead th {\n",
              "        text-align: right;\n",
              "    }\n",
              "</style>\n",
              "<table border=\"1\" class=\"dataframe\">\n",
              "  <thead>\n",
              "    <tr style=\"text-align: right;\">\n",
              "      <th></th>\n",
              "      <th>numero_linha</th>\n",
              "    </tr>\n",
              "  </thead>\n",
              "  <tbody>\n",
              "    <tr>\n",
              "      <th>0</th>\n",
              "      <td>8</td>\n",
              "    </tr>\n",
              "  </tbody>\n",
              "</table>\n",
              "</div>\n",
              "      <button class=\"colab-df-convert\" onclick=\"convertToInteractive('df-93149c93-fe8c-4774-9bae-34c8f6008ffa')\"\n",
              "              title=\"Convert this dataframe to an interactive table.\"\n",
              "              style=\"display:none;\">\n",
              "        \n",
              "  <svg xmlns=\"http://www.w3.org/2000/svg\" height=\"24px\"viewBox=\"0 0 24 24\"\n",
              "       width=\"24px\">\n",
              "    <path d=\"M0 0h24v24H0V0z\" fill=\"none\"/>\n",
              "    <path d=\"M18.56 5.44l.94 2.06.94-2.06 2.06-.94-2.06-.94-.94-2.06-.94 2.06-2.06.94zm-11 1L8.5 8.5l.94-2.06 2.06-.94-2.06-.94L8.5 2.5l-.94 2.06-2.06.94zm10 10l.94 2.06.94-2.06 2.06-.94-2.06-.94-.94-2.06-.94 2.06-2.06.94z\"/><path d=\"M17.41 7.96l-1.37-1.37c-.4-.4-.92-.59-1.43-.59-.52 0-1.04.2-1.43.59L10.3 9.45l-7.72 7.72c-.78.78-.78 2.05 0 2.83L4 21.41c.39.39.9.59 1.41.59.51 0 1.02-.2 1.41-.59l7.78-7.78 2.81-2.81c.8-.78.8-2.07 0-2.86zM5.41 20L4 18.59l7.72-7.72 1.47 1.35L5.41 20z\"/>\n",
              "  </svg>\n",
              "      </button>\n",
              "      \n",
              "  <style>\n",
              "    .colab-df-container {\n",
              "      display:flex;\n",
              "      flex-wrap:wrap;\n",
              "      gap: 12px;\n",
              "    }\n",
              "\n",
              "    .colab-df-convert {\n",
              "      background-color: #E8F0FE;\n",
              "      border: none;\n",
              "      border-radius: 50%;\n",
              "      cursor: pointer;\n",
              "      display: none;\n",
              "      fill: #1967D2;\n",
              "      height: 32px;\n",
              "      padding: 0 0 0 0;\n",
              "      width: 32px;\n",
              "    }\n",
              "\n",
              "    .colab-df-convert:hover {\n",
              "      background-color: #E2EBFA;\n",
              "      box-shadow: 0px 1px 2px rgba(60, 64, 67, 0.3), 0px 1px 3px 1px rgba(60, 64, 67, 0.15);\n",
              "      fill: #174EA6;\n",
              "    }\n",
              "\n",
              "    [theme=dark] .colab-df-convert {\n",
              "      background-color: #3B4455;\n",
              "      fill: #D2E3FC;\n",
              "    }\n",
              "\n",
              "    [theme=dark] .colab-df-convert:hover {\n",
              "      background-color: #434B5C;\n",
              "      box-shadow: 0px 1px 3px 1px rgba(0, 0, 0, 0.15);\n",
              "      filter: drop-shadow(0px 1px 2px rgba(0, 0, 0, 0.3));\n",
              "      fill: #FFFFFF;\n",
              "    }\n",
              "  </style>\n",
              "\n",
              "      <script>\n",
              "        const buttonEl =\n",
              "          document.querySelector('#df-93149c93-fe8c-4774-9bae-34c8f6008ffa button.colab-df-convert');\n",
              "        buttonEl.style.display =\n",
              "          google.colab.kernel.accessAllowed ? 'block' : 'none';\n",
              "\n",
              "        async function convertToInteractive(key) {\n",
              "          const element = document.querySelector('#df-93149c93-fe8c-4774-9bae-34c8f6008ffa');\n",
              "          const dataTable =\n",
              "            await google.colab.kernel.invokeFunction('convertToInteractive',\n",
              "                                                     [key], {});\n",
              "          if (!dataTable) return;\n",
              "\n",
              "          const docLinkHtml = 'Like what you see? Visit the ' +\n",
              "            '<a target=\"_blank\" href=https://colab.research.google.com/notebooks/data_table.ipynb>data table notebook</a>'\n",
              "            + ' to learn more about interactive tables.';\n",
              "          element.innerHTML = '';\n",
              "          dataTable['output_type'] = 'display_data';\n",
              "          await google.colab.output.renderOutput(dataTable, element);\n",
              "          const docLink = document.createElement('div');\n",
              "          docLink.innerHTML = docLinkHtml;\n",
              "          element.appendChild(docLink);\n",
              "        }\n",
              "      </script>\n",
              "    </div>\n",
              "  </div>\n",
              "  "
            ],
            "text/plain": [
              "   numero_linha\n",
              "0             8"
            ]
          },
          "metadata": {},
          "output_type": "display_data"
        },
        {
          "data": {
            "text/html": [
              "\n",
              "  <div id=\"df-2b5047be-4325-4e50-8ba6-b05b3bb87d92\">\n",
              "    <div class=\"colab-df-container\">\n",
              "      <div>\n",
              "<style scoped>\n",
              "    .dataframe tbody tr th:only-of-type {\n",
              "        vertical-align: middle;\n",
              "    }\n",
              "\n",
              "    .dataframe tbody tr th {\n",
              "        vertical-align: top;\n",
              "    }\n",
              "\n",
              "    .dataframe thead th {\n",
              "        text-align: right;\n",
              "    }\n",
              "</style>\n",
              "<table border=\"1\" class=\"dataframe\">\n",
              "  <thead>\n",
              "    <tr style=\"text-align: right;\">\n",
              "      <th></th>\n",
              "      <th>numero_linha</th>\n",
              "    </tr>\n",
              "  </thead>\n",
              "  <tbody>\n",
              "    <tr>\n",
              "      <th>0</th>\n",
              "      <td>4</td>\n",
              "    </tr>\n",
              "  </tbody>\n",
              "</table>\n",
              "</div>\n",
              "      <button class=\"colab-df-convert\" onclick=\"convertToInteractive('df-2b5047be-4325-4e50-8ba6-b05b3bb87d92')\"\n",
              "              title=\"Convert this dataframe to an interactive table.\"\n",
              "              style=\"display:none;\">\n",
              "        \n",
              "  <svg xmlns=\"http://www.w3.org/2000/svg\" height=\"24px\"viewBox=\"0 0 24 24\"\n",
              "       width=\"24px\">\n",
              "    <path d=\"M0 0h24v24H0V0z\" fill=\"none\"/>\n",
              "    <path d=\"M18.56 5.44l.94 2.06.94-2.06 2.06-.94-2.06-.94-.94-2.06-.94 2.06-2.06.94zm-11 1L8.5 8.5l.94-2.06 2.06-.94-2.06-.94L8.5 2.5l-.94 2.06-2.06.94zm10 10l.94 2.06.94-2.06 2.06-.94-2.06-.94-.94-2.06-.94 2.06-2.06.94z\"/><path d=\"M17.41 7.96l-1.37-1.37c-.4-.4-.92-.59-1.43-.59-.52 0-1.04.2-1.43.59L10.3 9.45l-7.72 7.72c-.78.78-.78 2.05 0 2.83L4 21.41c.39.39.9.59 1.41.59.51 0 1.02-.2 1.41-.59l7.78-7.78 2.81-2.81c.8-.78.8-2.07 0-2.86zM5.41 20L4 18.59l7.72-7.72 1.47 1.35L5.41 20z\"/>\n",
              "  </svg>\n",
              "      </button>\n",
              "      \n",
              "  <style>\n",
              "    .colab-df-container {\n",
              "      display:flex;\n",
              "      flex-wrap:wrap;\n",
              "      gap: 12px;\n",
              "    }\n",
              "\n",
              "    .colab-df-convert {\n",
              "      background-color: #E8F0FE;\n",
              "      border: none;\n",
              "      border-radius: 50%;\n",
              "      cursor: pointer;\n",
              "      display: none;\n",
              "      fill: #1967D2;\n",
              "      height: 32px;\n",
              "      padding: 0 0 0 0;\n",
              "      width: 32px;\n",
              "    }\n",
              "\n",
              "    .colab-df-convert:hover {\n",
              "      background-color: #E2EBFA;\n",
              "      box-shadow: 0px 1px 2px rgba(60, 64, 67, 0.3), 0px 1px 3px 1px rgba(60, 64, 67, 0.15);\n",
              "      fill: #174EA6;\n",
              "    }\n",
              "\n",
              "    [theme=dark] .colab-df-convert {\n",
              "      background-color: #3B4455;\n",
              "      fill: #D2E3FC;\n",
              "    }\n",
              "\n",
              "    [theme=dark] .colab-df-convert:hover {\n",
              "      background-color: #434B5C;\n",
              "      box-shadow: 0px 1px 3px 1px rgba(0, 0, 0, 0.15);\n",
              "      filter: drop-shadow(0px 1px 2px rgba(0, 0, 0, 0.3));\n",
              "      fill: #FFFFFF;\n",
              "    }\n",
              "  </style>\n",
              "\n",
              "      <script>\n",
              "        const buttonEl =\n",
              "          document.querySelector('#df-2b5047be-4325-4e50-8ba6-b05b3bb87d92 button.colab-df-convert');\n",
              "        buttonEl.style.display =\n",
              "          google.colab.kernel.accessAllowed ? 'block' : 'none';\n",
              "\n",
              "        async function convertToInteractive(key) {\n",
              "          const element = document.querySelector('#df-2b5047be-4325-4e50-8ba6-b05b3bb87d92');\n",
              "          const dataTable =\n",
              "            await google.colab.kernel.invokeFunction('convertToInteractive',\n",
              "                                                     [key], {});\n",
              "          if (!dataTable) return;\n",
              "\n",
              "          const docLinkHtml = 'Like what you see? Visit the ' +\n",
              "            '<a target=\"_blank\" href=https://colab.research.google.com/notebooks/data_table.ipynb>data table notebook</a>'\n",
              "            + ' to learn more about interactive tables.';\n",
              "          element.innerHTML = '';\n",
              "          dataTable['output_type'] = 'display_data';\n",
              "          await google.colab.output.renderOutput(dataTable, element);\n",
              "          const docLink = document.createElement('div');\n",
              "          docLink.innerHTML = docLinkHtml;\n",
              "          element.appendChild(docLink);\n",
              "        }\n",
              "      </script>\n",
              "    </div>\n",
              "  </div>\n",
              "  "
            ],
            "text/plain": [
              "   numero_linha\n",
              "0             4"
            ]
          },
          "metadata": {},
          "output_type": "display_data"
        }
      ],
      "source": [
        "linha_origem = df[['linha', 'numero_linha']].loc[ (df.estacao_conectada == origem) ]\n",
        "linha_conectada = df[['linha', 'numero_linha']].loc[ (df.estacao_conectada == destino) ]\n",
        "display(linha_origem)\n",
        "display(linha_conectada)\n",
        "\n",
        "num_linha_origem = df[['numero_linha']].loc[ (df.estacao_conectada == origem) ].reset_index(drop=True)\n",
        "num_linha_conectada = df[['numero_linha']].loc[ (df.estacao_conectada == destino) ].reset_index(drop=True)\n",
        "display(num_linha_origem)\n",
        "display(num_linha_conectada)"
      ]
    },
    {
      "cell_type": "code",
      "execution_count": 218,
      "metadata": {
        "id": "chVnFAqHXnI4"
      },
      "outputs": [],
      "source": [
        "linha1  = (11,7,4,3,2,5)\n",
        "linha2  = (4,1,3,10,15)\n",
        "linha3  = (11, 10, 1, 4, 8)\n",
        "linha4  = (9, 2, 3, 1)\n",
        "linha5  = (9,1,2)\n",
        "linha7  = (8,1,11,10,12)\n",
        "linha8  = (9,7,3)\n",
        "linha9  = (5,4,8)\n",
        "linha10 = (2,3,11,7,12)\n",
        "linha11 = (12,3,7,2,4)\n",
        "linha12 = (11,13,3,7,10)\n",
        "linha13 = (12)\n",
        "linha15 = (2)"
      ]
    },
    {
      "cell_type": "code",
      "execution_count": 43,
      "metadata": {
        "colab": {
          "base_uri": "https://localhost:8080/"
        },
        "id": "M9U0JqodamhH",
        "outputId": "8718d515-e39d-48b9-a4f2-755f285871f6"
      },
      "outputs": [
        {
          "name": "stdout",
          "output_type": "stream",
          "text": [
            "it is\n"
          ]
        }
      ],
      "source": [
        "# Testar se conecta direto\n",
        "### DEPRECIADO\n",
        "linha_a_conectar = 0\n",
        "if   num_linha_origem == 1  :\n",
        "  if ((num_linha_origem in linha1) & (num_linha_final in linha1)):\n",
        "    linha_a_conectar = 1\n",
        "    "
      ]
    },
    {
      "cell_type": "code",
      "execution_count": null,
      "metadata": {
        "id": "nZ7OmVvC8sfe"
      },
      "outputs": [],
      "source": []
    },
    {
      "cell_type": "code",
      "execution_count": null,
      "metadata": {
        "id": "g0rtbKtF8sjS"
      },
      "outputs": [],
      "source": [
        "# Checar se é posssivel com 1 ou nenhuma baldeaçao\n",
        "if   num_linha_origem.numero_linha[0] == 1  :\n",
        "  if ((num_linha_origem in linha1) & (num_linha_final in linha1)):\n",
        "    linha_a_conectar = 1\n",
        "elif num_linha_origem.numero_linha[0] == 2  :\n",
        "  if ((num_linha_origem in linha1) & (num_linha_final in linha1)):\n",
        "    linha_a_conectar = 2\n",
        "elif num_linha_origem.numero_linha[0] == 3  :\n",
        "  if ((num_linha_origem in linha1) & (num_linha_final in linha1)):\n",
        "    linha_a_conectar = 3\n",
        "elif num_linha_origem.numero_linha[0] == 4  :\n",
        "  if ((num_linha_origem in linha1) & (num_linha_final in linha1)):\n",
        "    linha_a_conectar = 4\n",
        "elif num_linha_origem.numero_linha[0] == 5  :\n",
        "  if ((num_linha_origem in linha1) & (num_linha_final in linha1)):\n",
        "    linha_a_conectar = 5\n",
        "elif num_linha_origem.numero_linha[0] == 7  :\n",
        "  if ((num_linha_origem in linha1) & (num_linha_final in linha1)):\n",
        "    linha_a_conectar = 7\n",
        "elif num_linha_origem.numero_linha[0] == 8  :\n",
        "  if ((num_linha_origem in linha1) & (num_linha_final in linha1)):\n",
        "    linha_a_conectar = 8\n",
        "elif num_linha_origem.numero_linha[0] == 9  :\n",
        "  if ((num_linha_origem in linha1) & (num_linha_final in linha1)):\n",
        "    linha_a_conectar = 9\n",
        "elif num_linha_origem.numero_linha[0] == 10 :\n",
        "  if ((num_linha_origem in linha1) & (num_linha_final in linha1)):\n",
        "    linha_a_conectar = 10\n",
        "elif num_linha_origem.numero_linha[0] == 11 :\n",
        "  if ((num_linha_origem in linha1) & (num_linha_final in linha1)):\n",
        "    linha_a_conectar = 11\n",
        "elif num_linha_origem.numero_linha[0] == 12 :\n",
        "  if ((num_linha_origem in linha1) & (num_linha_final in linha1)):\n",
        "    linha_a_conectar = 12\n",
        "elif num_linha_origem.numero_linha[0] == 13 :\n",
        "  if ((num_linha_origem in linha1) & (num_linha_final in linha1)):\n",
        "    linha_a_conectar = 13\n",
        "elif num_linha_origem.numero_linha[0] == 15 :\n",
        "  if ((num_linha_origem in linha1) & (num_linha_final in linha1)):\n",
        "    linha_a_conectar = 15"
      ]
    },
    {
      "cell_type": "code",
      "execution_count": null,
      "metadata": {
        "id": "NfhWpIhR8sl1"
      },
      "outputs": [],
      "source": []
    },
    {
      "cell_type": "code",
      "execution_count": 328,
      "metadata": {
        "colab": {
          "base_uri": "https://localhost:8080/"
        },
        "id": "bGrEHUs5foWp",
        "outputId": "3117c36f-a46d-43ee-e106-41bfc7751c97"
      },
      "outputs": [
        {
          "name": "stdout",
          "output_type": "stream",
          "text": [
            "DEVE-SE REALIZAR UMA BALDEAÇÃO NA LINHA 1 ANTES DE CHEGAR AO DESTINO\n"
          ]
        }
      ],
      "source": [
        "# Checa se é possível uma ligação usando uma outra linha como intermédio\n",
        "contador_listaum = -1\n",
        "while contador_listaum < 14 :\n",
        "  contador_listaum += 1\n",
        "  if ((num_linha_origem in listaum[contador_listaum][0]) & (num_linha_final in listaum[contador_listaum][0])):\n",
        "    print('DEVE-SE REALIZAR UMA BALDEAÇÃO NA LINHA', contador_listaum, 'ANTES DE CHEGAR AO DESTINO')\n",
        "    break"
      ]
    },
    {
      "cell_type": "code",
      "execution_count": 319,
      "metadata": {
        "id": "97P2BW4FbHJh"
      },
      "outputs": [],
      "source": [
        "num_linha_origem = 3\n",
        "num_linha_final = 1"
      ]
    },
    {
      "cell_type": "code",
      "execution_count": 381,
      "metadata": {
        "colab": {
          "base_uri": "https://localhost:8080/"
        },
        "id": "UpMiSb-M93kf",
        "outputId": "4f4dd922-7cb9-4888-e9a7-28ffc5b39c9d"
      },
      "outputs": [
        {
          "data": {
            "text/plain": [
              "array(['BUTANTA', 'PINHEIROS', 'PAULISTA', 'REPUBLICA', 'LUZ',\n",
              "       'JABAQUARA', 'SANTA CRUZ', 'ANA ROSA', 'PARAISO', 'SE', 'ARMENIA',\n",
              "       'TUCURUVI', 'BRAS', 'TATUAPE', 'CORINTHIANS ITAQUERA',\n",
              "       'CALMON VIANA', 'ITAPEVI', 'JANDIRA', 'CARAPICUIBA',\n",
              "       'GENERAL MIGUEL COSTA', 'OSASCO', 'PRESIDENTE ALTINO',\n",
              "       'JULIO PRESTES', 'SANTO AMARO', 'ENGENHEIRO GOULART',\n",
              "       'GUARULHOS CECAP', 'AEROPORTO GUARULHOS', 'CAPAO REDONDO',\n",
              "       'CHACARA KLABIN', 'VILA PRUDENTE', 'SAO MATEUS', 'BARRA FUNDA',\n",
              "       'TAMANDUATEI', 'PREFEITO CELSO DANIEL SANTO ANDRE', 'CONSOLACAO',\n",
              "       'SACOMA', 'PALMEIRAS BARRA FUNDA'], dtype=object)"
            ]
          },
          "execution_count": 381,
          "metadata": {},
          "output_type": "execute_result"
        }
      ],
      "source": [
        "df['estacao_origem'].loc[ df.estacao_baldeacao_origem == 'sim'].unique()"
      ]
    },
    {
      "cell_type": "code",
      "execution_count": 387,
      "metadata": {
        "id": "FhiuuKrdAxcv"
      },
      "outputs": [],
      "source": [
        "df.loc[ (df.estacao_baldeacao_origem == 'sim') & (df.estacao_origem == 'BUTANTA'), 'numero_estacao_origem'] = 1\n",
        "\n",
        "df.loc[ (df.estacao_baldeacao_origem == 'sim') & (df.estacao_origem == 'PINHEIROS'), 'numero_estacao_origem'] = 2\n",
        "\n",
        "df.loc[ (df.estacao_baldeacao_origem == 'sim') & (df.estacao_origem == 'PAULISTA'), 'numero_estacao_origem'] = 3\n",
        "\n",
        "df.loc[ (df.estacao_baldeacao_origem == 'sim') & (df.estacao_origem == 'REPUBLICA'), 'numero_estacao_origem'] = 4\n",
        "\n",
        "df.loc[ (df.estacao_baldeacao_origem == 'sim') & (df.estacao_origem == 'LUZ'), 'numero_estacao_origem'] = 5\n",
        "\n",
        "df.loc[ (df.estacao_baldeacao_origem == 'sim') & (df.estacao_origem == 'JABAQUARA'), 'numero_estacao_origem'] = 6\n",
        "\n",
        "df.loc[ (df.estacao_baldeacao_origem == 'sim') & (df.estacao_origem == 'SANTA CRUZ'), 'numero_estacao_origem'] = 7\n",
        "\n",
        "df.loc[ (df.estacao_baldeacao_origem == 'sim') & (df.estacao_origem == 'ANA ROSA'), 'numero_estacao_origem'] = 8\n",
        "\n",
        "df.loc[ (df.estacao_baldeacao_origem == 'sim') & (df.estacao_origem == 'PARAISO'), 'numero_estacao_origem'] = 9\n",
        "\n",
        "df.loc[ (df.estacao_baldeacao_origem == 'sim') & (df.estacao_origem == 'SE'), 'numero_estacao_origem'] = 10\n",
        "\n",
        "df.loc[ (df.estacao_baldeacao_origem == 'sim') & (df.estacao_origem == 'ARMENIA'), 'numero_estacao_origem'] = 10\n",
        "\n",
        "df.loc[ (df.estacao_baldeacao_origem == 'sim') & (df.estacao_origem == 'TUCURUVI'), 'numero_estacao_origem'] = 11\n",
        "\n",
        "df.loc[ (df.estacao_baldeacao_origem == 'sim') & (df.estacao_origem == 'BRAS'), 'numero_estacao_origem'] = 12\n",
        "\n",
        "df.loc[ (df.estacao_baldeacao_origem == 'sim') & (df.estacao_origem == 'TATUAPE'), 'numero_estacao_origem'] = 13\n",
        "\n",
        "df.loc[ (df.estacao_baldeacao_origem == 'sim') & (df.estacao_origem == 'CORINTHIANS ITAQUERA'), 'numero_estacao_origem'] = 14\n",
        "\n",
        "df.loc[ (df.estacao_baldeacao_origem == 'sim') & (df.estacao_origem == 'CALMON VIANA'), 'numero_estacao_origem'] = 15\n",
        "\n",
        "df.loc[ (df.estacao_baldeacao_origem == 'sim') & (df.estacao_origem == 'ITAPEVI'), 'numero_estacao_origem'] = 16\n",
        "\n",
        "df.loc[ (df.estacao_baldeacao_origem == 'sim') & (df.estacao_origem == 'JANDIRA'), 'numero_estacao_origem'] = 17\n",
        "\n",
        "df.loc[ (df.estacao_baldeacao_origem == 'sim') & (df.estacao_origem == 'CARAPICUIBA'), 'numero_estacao_origem'] = 18\n",
        "\n",
        "df.loc[ (df.estacao_baldeacao_origem == 'sim') & (df.estacao_origem == 'GENERAL MIGUEL COSTA'), 'numero_estacao_origem'] = 19\n",
        "\n",
        "df.loc[ (df.estacao_baldeacao_origem == 'sim') & (df.estacao_origem == 'OSASCO'), 'numero_estacao_origem'] = 20\n",
        "\n",
        "df.loc[ (df.estacao_baldeacao_origem == 'sim') & (df.estacao_origem == 'PRESIDENTE ALTINO'), 'numero_estacao_origem'] = 21\n",
        "\n",
        "df.loc[ (df.estacao_baldeacao_origem == 'sim') & (df.estacao_origem == 'JULIO PRESTES'), 'numero_estacao_origem'] = 22\n",
        "\n",
        "df.loc[ (df.estacao_baldeacao_origem == 'sim') & (df.estacao_origem == 'SANTO AMARO'), 'numero_estacao_origem'] = 23\n",
        "\n",
        "df.loc[ (df.estacao_baldeacao_origem == 'sim') & (df.estacao_origem == 'ENGENHEIRO GOULART'), 'numero_estacao_origem'] = 24\n",
        "\n",
        "df.loc[ (df.estacao_baldeacao_origem == 'sim') & (df.estacao_origem == 'GUARULHOS CECAP'), 'numero_estacao_origem'] = 25\n",
        "\n",
        "df.loc[ (df.estacao_baldeacao_origem == 'sim') & (df.estacao_origem == 'AEROPORTO GUARULHOS'), 'numero_estacao_origem'] = 26\n",
        "\n",
        "df.loc[ (df.estacao_baldeacao_origem == 'sim') & (df.estacao_origem == 'CAPAO REDONDO'), 'numero_estacao_origem'] = 27\n",
        "\n",
        "df.loc[ (df.estacao_baldeacao_origem == 'sim') & (df.estacao_origem == 'CHACARA KLABIN'), 'numero_estacao_origem'] = 28\n",
        "\n",
        "df.loc[ (df.estacao_baldeacao_origem == 'sim') & (df.estacao_origem == 'VILA PRUDENTE'), 'numero_estacao_origem'] = 29\n",
        "\n",
        "df.loc[ (df.estacao_baldeacao_origem == 'sim') & (df.estacao_origem == 'SAO MATEUS'), 'numero_estacao_origem'] = 30\n",
        "\n",
        "df.loc[ (df.estacao_baldeacao_origem == 'sim') & (df.estacao_origem == 'BARRA FUNDA'), 'numero_estacao_origem'] = 31\n",
        "\n",
        "df.loc[ (df.estacao_baldeacao_origem == 'sim') & (df.estacao_origem == 'TAMANDUATEI'), 'numero_estacao_origem'] = 32\n",
        "\n",
        "df.loc[ (df.estacao_baldeacao_origem == 'sim') & (df.estacao_origem == 'PREFEITO CELSO DANIEL SANTO ANDRE'), 'numero_estacao_origem'] = 33\n",
        "\n",
        "df.loc[ (df.estacao_baldeacao_origem == 'sim') & (df.estacao_origem == 'CONSOLACAO'), 'numero_estacao_origem'] = 34\n",
        "\n",
        "df.loc[ (df.estacao_baldeacao_origem == 'sim') & (df.estacao_origem == 'SACOMA'), 'numero_estacao_origem'] = 35\n",
        "\n",
        "df.loc[ (df.estacao_baldeacao_origem == 'sim') & (df.estacao_origem == 'PALMEIRAS BARRA FUNDA'), 'numero_estacao_origem'] = 36\n",
        "\n",
        "\n"
      ]
    },
    {
      "cell_type": "code",
      "execution_count": 388,
      "metadata": {
        "colab": {
          "base_uri": "https://localhost:8080/",
          "height": 112
        },
        "id": "H3Qy3yI-CdZl",
        "outputId": "cd5148c1-0552-4e17-b642-159d8c902be1"
      },
      "outputs": [
        {
          "data": {
            "text/html": [
              "\n",
              "  <div id=\"df-49c9274b-2c2a-4dd4-9d32-b55d9f55b9c2\">\n",
              "    <div class=\"colab-df-container\">\n",
              "      <div>\n",
              "<style scoped>\n",
              "    .dataframe tbody tr th:only-of-type {\n",
              "        vertical-align: middle;\n",
              "    }\n",
              "\n",
              "    .dataframe tbody tr th {\n",
              "        vertical-align: top;\n",
              "    }\n",
              "\n",
              "    .dataframe thead th {\n",
              "        text-align: right;\n",
              "    }\n",
              "</style>\n",
              "<table border=\"1\" class=\"dataframe\">\n",
              "  <thead>\n",
              "    <tr style=\"text-align: right;\">\n",
              "      <th></th>\n",
              "      <th>numero_estacao_origem</th>\n",
              "      <th>estacao_origem</th>\n",
              "    </tr>\n",
              "  </thead>\n",
              "  <tbody>\n",
              "    <tr>\n",
              "      <th>2</th>\n",
              "      <td>2</td>\n",
              "      <td>PINHEIROS</td>\n",
              "    </tr>\n",
              "    <tr>\n",
              "      <th>83</th>\n",
              "      <td>2</td>\n",
              "      <td>PINHEIROS</td>\n",
              "    </tr>\n",
              "  </tbody>\n",
              "</table>\n",
              "</div>\n",
              "      <button class=\"colab-df-convert\" onclick=\"convertToInteractive('df-49c9274b-2c2a-4dd4-9d32-b55d9f55b9c2')\"\n",
              "              title=\"Convert this dataframe to an interactive table.\"\n",
              "              style=\"display:none;\">\n",
              "        \n",
              "  <svg xmlns=\"http://www.w3.org/2000/svg\" height=\"24px\"viewBox=\"0 0 24 24\"\n",
              "       width=\"24px\">\n",
              "    <path d=\"M0 0h24v24H0V0z\" fill=\"none\"/>\n",
              "    <path d=\"M18.56 5.44l.94 2.06.94-2.06 2.06-.94-2.06-.94-.94-2.06-.94 2.06-2.06.94zm-11 1L8.5 8.5l.94-2.06 2.06-.94-2.06-.94L8.5 2.5l-.94 2.06-2.06.94zm10 10l.94 2.06.94-2.06 2.06-.94-2.06-.94-.94-2.06-.94 2.06-2.06.94z\"/><path d=\"M17.41 7.96l-1.37-1.37c-.4-.4-.92-.59-1.43-.59-.52 0-1.04.2-1.43.59L10.3 9.45l-7.72 7.72c-.78.78-.78 2.05 0 2.83L4 21.41c.39.39.9.59 1.41.59.51 0 1.02-.2 1.41-.59l7.78-7.78 2.81-2.81c.8-.78.8-2.07 0-2.86zM5.41 20L4 18.59l7.72-7.72 1.47 1.35L5.41 20z\"/>\n",
              "  </svg>\n",
              "      </button>\n",
              "      \n",
              "  <style>\n",
              "    .colab-df-container {\n",
              "      display:flex;\n",
              "      flex-wrap:wrap;\n",
              "      gap: 12px;\n",
              "    }\n",
              "\n",
              "    .colab-df-convert {\n",
              "      background-color: #E8F0FE;\n",
              "      border: none;\n",
              "      border-radius: 50%;\n",
              "      cursor: pointer;\n",
              "      display: none;\n",
              "      fill: #1967D2;\n",
              "      height: 32px;\n",
              "      padding: 0 0 0 0;\n",
              "      width: 32px;\n",
              "    }\n",
              "\n",
              "    .colab-df-convert:hover {\n",
              "      background-color: #E2EBFA;\n",
              "      box-shadow: 0px 1px 2px rgba(60, 64, 67, 0.3), 0px 1px 3px 1px rgba(60, 64, 67, 0.15);\n",
              "      fill: #174EA6;\n",
              "    }\n",
              "\n",
              "    [theme=dark] .colab-df-convert {\n",
              "      background-color: #3B4455;\n",
              "      fill: #D2E3FC;\n",
              "    }\n",
              "\n",
              "    [theme=dark] .colab-df-convert:hover {\n",
              "      background-color: #434B5C;\n",
              "      box-shadow: 0px 1px 3px 1px rgba(0, 0, 0, 0.15);\n",
              "      filter: drop-shadow(0px 1px 2px rgba(0, 0, 0, 0.3));\n",
              "      fill: #FFFFFF;\n",
              "    }\n",
              "  </style>\n",
              "\n",
              "      <script>\n",
              "        const buttonEl =\n",
              "          document.querySelector('#df-49c9274b-2c2a-4dd4-9d32-b55d9f55b9c2 button.colab-df-convert');\n",
              "        buttonEl.style.display =\n",
              "          google.colab.kernel.accessAllowed ? 'block' : 'none';\n",
              "\n",
              "        async function convertToInteractive(key) {\n",
              "          const element = document.querySelector('#df-49c9274b-2c2a-4dd4-9d32-b55d9f55b9c2');\n",
              "          const dataTable =\n",
              "            await google.colab.kernel.invokeFunction('convertToInteractive',\n",
              "                                                     [key], {});\n",
              "          if (!dataTable) return;\n",
              "\n",
              "          const docLinkHtml = 'Like what you see? Visit the ' +\n",
              "            '<a target=\"_blank\" href=https://colab.research.google.com/notebooks/data_table.ipynb>data table notebook</a>'\n",
              "            + ' to learn more about interactive tables.';\n",
              "          element.innerHTML = '';\n",
              "          dataTable['output_type'] = 'display_data';\n",
              "          await google.colab.output.renderOutput(dataTable, element);\n",
              "          const docLink = document.createElement('div');\n",
              "          docLink.innerHTML = docLinkHtml;\n",
              "          element.appendChild(docLink);\n",
              "        }\n",
              "      </script>\n",
              "    </div>\n",
              "  </div>\n",
              "  "
            ],
            "text/plain": [
              "    numero_estacao_origem estacao_origem\n",
              "2                       2      PINHEIROS\n",
              "83                      2      PINHEIROS"
            ]
          },
          "execution_count": 388,
          "metadata": {},
          "output_type": "execute_result"
        }
      ],
      "source": [
        "df[['numero_estacao_origem' , 'estacao_origem']].loc[ (df.estacao_baldeacao_origem == 'sim') & (df.estacao_origem == 'PINHEIROS')] "
      ]
    },
    {
      "cell_type": "code",
      "execution_count": 389,
      "metadata": {
        "colab": {
          "base_uri": "https://localhost:8080/",
          "height": 322
        },
        "id": "OKeo99mC93oV",
        "outputId": "2ae391c5-24b0-4720-f41c-64ade5779c9e"
      },
      "outputs": [
        {
          "data": {
            "text/html": [
              "\n",
              "  <div id=\"df-a375187f-d50f-4ec5-9596-071fec9abfe1\">\n",
              "    <div class=\"colab-df-container\">\n",
              "      <div>\n",
              "<style scoped>\n",
              "    .dataframe tbody tr th:only-of-type {\n",
              "        vertical-align: middle;\n",
              "    }\n",
              "\n",
              "    .dataframe tbody tr th {\n",
              "        vertical-align: top;\n",
              "    }\n",
              "\n",
              "    .dataframe thead th {\n",
              "        text-align: right;\n",
              "    }\n",
              "</style>\n",
              "<table border=\"1\" class=\"dataframe\">\n",
              "  <thead>\n",
              "    <tr style=\"text-align: right;\">\n",
              "      <th></th>\n",
              "      <th>numero_linha</th>\n",
              "      <th>linha</th>\n",
              "      <th>long</th>\n",
              "      <th>lat</th>\n",
              "      <th>estacao_origem</th>\n",
              "      <th>numero_estacao_origem</th>\n",
              "      <th>estacao_baldeacao_origem</th>\n",
              "      <th>estacao_conectada</th>\n",
              "      <th>numero_estacao_conectada</th>\n",
              "      <th>estacao_baldeacao_conectada</th>\n",
              "    </tr>\n",
              "  </thead>\n",
              "  <tbody>\n",
              "    <tr>\n",
              "      <th>0</th>\n",
              "      <td>4</td>\n",
              "      <td>AMARELA</td>\n",
              "      <td>-46,723768</td>\n",
              "      <td>-23,58644</td>\n",
              "      <td>SAO PAULO MORUMBI</td>\n",
              "      <td>1</td>\n",
              "      <td>nao</td>\n",
              "      <td>BUTANTA</td>\n",
              "      <td>2</td>\n",
              "      <td>sim</td>\n",
              "    </tr>\n",
              "    <tr>\n",
              "      <th>1</th>\n",
              "      <td>4</td>\n",
              "      <td>AMARELA</td>\n",
              "      <td>-46,708157</td>\n",
              "      <td>-23,571857</td>\n",
              "      <td>BUTANTA</td>\n",
              "      <td>1</td>\n",
              "      <td>sim</td>\n",
              "      <td>PINHEIROS</td>\n",
              "      <td>3</td>\n",
              "      <td>sim</td>\n",
              "    </tr>\n",
              "    <tr>\n",
              "      <th>2</th>\n",
              "      <td>4</td>\n",
              "      <td>AMARELA</td>\n",
              "      <td>-46,70161</td>\n",
              "      <td>-23,567392</td>\n",
              "      <td>PINHEIROS</td>\n",
              "      <td>2</td>\n",
              "      <td>sim</td>\n",
              "      <td>FARIA LIMA</td>\n",
              "      <td>4</td>\n",
              "      <td>nao</td>\n",
              "    </tr>\n",
              "    <tr>\n",
              "      <th>3</th>\n",
              "      <td>4</td>\n",
              "      <td>AMARELA</td>\n",
              "      <td>-46,694102</td>\n",
              "      <td>-23,567269</td>\n",
              "      <td>FARIA LIMA</td>\n",
              "      <td>4</td>\n",
              "      <td>nao</td>\n",
              "      <td>FRADIQUE COUTINHO</td>\n",
              "      <td>5</td>\n",
              "      <td>nao</td>\n",
              "    </tr>\n",
              "    <tr>\n",
              "      <th>4</th>\n",
              "      <td>4</td>\n",
              "      <td>AMARELA</td>\n",
              "      <td>-46,684259</td>\n",
              "      <td>-23,566228</td>\n",
              "      <td>FRADIQUE COUTINHO</td>\n",
              "      <td>5</td>\n",
              "      <td>nao</td>\n",
              "      <td>OSCAR FREIRE</td>\n",
              "      <td>6</td>\n",
              "      <td>nao</td>\n",
              "    </tr>\n",
              "  </tbody>\n",
              "</table>\n",
              "</div>\n",
              "      <button class=\"colab-df-convert\" onclick=\"convertToInteractive('df-a375187f-d50f-4ec5-9596-071fec9abfe1')\"\n",
              "              title=\"Convert this dataframe to an interactive table.\"\n",
              "              style=\"display:none;\">\n",
              "        \n",
              "  <svg xmlns=\"http://www.w3.org/2000/svg\" height=\"24px\"viewBox=\"0 0 24 24\"\n",
              "       width=\"24px\">\n",
              "    <path d=\"M0 0h24v24H0V0z\" fill=\"none\"/>\n",
              "    <path d=\"M18.56 5.44l.94 2.06.94-2.06 2.06-.94-2.06-.94-.94-2.06-.94 2.06-2.06.94zm-11 1L8.5 8.5l.94-2.06 2.06-.94-2.06-.94L8.5 2.5l-.94 2.06-2.06.94zm10 10l.94 2.06.94-2.06 2.06-.94-2.06-.94-.94-2.06-.94 2.06-2.06.94z\"/><path d=\"M17.41 7.96l-1.37-1.37c-.4-.4-.92-.59-1.43-.59-.52 0-1.04.2-1.43.59L10.3 9.45l-7.72 7.72c-.78.78-.78 2.05 0 2.83L4 21.41c.39.39.9.59 1.41.59.51 0 1.02-.2 1.41-.59l7.78-7.78 2.81-2.81c.8-.78.8-2.07 0-2.86zM5.41 20L4 18.59l7.72-7.72 1.47 1.35L5.41 20z\"/>\n",
              "  </svg>\n",
              "      </button>\n",
              "      \n",
              "  <style>\n",
              "    .colab-df-container {\n",
              "      display:flex;\n",
              "      flex-wrap:wrap;\n",
              "      gap: 12px;\n",
              "    }\n",
              "\n",
              "    .colab-df-convert {\n",
              "      background-color: #E8F0FE;\n",
              "      border: none;\n",
              "      border-radius: 50%;\n",
              "      cursor: pointer;\n",
              "      display: none;\n",
              "      fill: #1967D2;\n",
              "      height: 32px;\n",
              "      padding: 0 0 0 0;\n",
              "      width: 32px;\n",
              "    }\n",
              "\n",
              "    .colab-df-convert:hover {\n",
              "      background-color: #E2EBFA;\n",
              "      box-shadow: 0px 1px 2px rgba(60, 64, 67, 0.3), 0px 1px 3px 1px rgba(60, 64, 67, 0.15);\n",
              "      fill: #174EA6;\n",
              "    }\n",
              "\n",
              "    [theme=dark] .colab-df-convert {\n",
              "      background-color: #3B4455;\n",
              "      fill: #D2E3FC;\n",
              "    }\n",
              "\n",
              "    [theme=dark] .colab-df-convert:hover {\n",
              "      background-color: #434B5C;\n",
              "      box-shadow: 0px 1px 3px 1px rgba(0, 0, 0, 0.15);\n",
              "      filter: drop-shadow(0px 1px 2px rgba(0, 0, 0, 0.3));\n",
              "      fill: #FFFFFF;\n",
              "    }\n",
              "  </style>\n",
              "\n",
              "      <script>\n",
              "        const buttonEl =\n",
              "          document.querySelector('#df-a375187f-d50f-4ec5-9596-071fec9abfe1 button.colab-df-convert');\n",
              "        buttonEl.style.display =\n",
              "          google.colab.kernel.accessAllowed ? 'block' : 'none';\n",
              "\n",
              "        async function convertToInteractive(key) {\n",
              "          const element = document.querySelector('#df-a375187f-d50f-4ec5-9596-071fec9abfe1');\n",
              "          const dataTable =\n",
              "            await google.colab.kernel.invokeFunction('convertToInteractive',\n",
              "                                                     [key], {});\n",
              "          if (!dataTable) return;\n",
              "\n",
              "          const docLinkHtml = 'Like what you see? Visit the ' +\n",
              "            '<a target=\"_blank\" href=https://colab.research.google.com/notebooks/data_table.ipynb>data table notebook</a>'\n",
              "            + ' to learn more about interactive tables.';\n",
              "          element.innerHTML = '';\n",
              "          dataTable['output_type'] = 'display_data';\n",
              "          await google.colab.output.renderOutput(dataTable, element);\n",
              "          const docLink = document.createElement('div');\n",
              "          docLink.innerHTML = docLinkHtml;\n",
              "          element.appendChild(docLink);\n",
              "        }\n",
              "      </script>\n",
              "    </div>\n",
              "  </div>\n",
              "  "
            ],
            "text/plain": [
              "   numero_linha    linha        long         lat     estacao_origem  \\\n",
              "0             4  AMARELA  -46,723768   -23,58644  SAO PAULO MORUMBI   \n",
              "1             4  AMARELA  -46,708157  -23,571857            BUTANTA   \n",
              "2             4  AMARELA   -46,70161  -23,567392          PINHEIROS   \n",
              "3             4  AMARELA  -46,694102  -23,567269         FARIA LIMA   \n",
              "4             4  AMARELA  -46,684259  -23,566228  FRADIQUE COUTINHO   \n",
              "\n",
              "   numero_estacao_origem estacao_baldeacao_origem  estacao_conectada  \\\n",
              "0                      1                      nao            BUTANTA   \n",
              "1                      1                      sim          PINHEIROS   \n",
              "2                      2                      sim         FARIA LIMA   \n",
              "3                      4                      nao  FRADIQUE COUTINHO   \n",
              "4                      5                      nao       OSCAR FREIRE   \n",
              "\n",
              "   numero_estacao_conectada estacao_baldeacao_conectada  \n",
              "0                         2                         sim  \n",
              "1                         3                         sim  \n",
              "2                         4                         nao  \n",
              "3                         5                         nao  \n",
              "4                         6                         nao  "
            ]
          },
          "execution_count": 389,
          "metadata": {},
          "output_type": "execute_result"
        }
      ],
      "source": [
        "df.head()"
      ]
    },
    {
      "cell_type": "code",
      "execution_count": 390,
      "metadata": {
        "id": "rZNhMsnD93sT"
      },
      "outputs": [],
      "source": [
        "df.to_excel('/content/drive/MyDrive/Colab Notebooks/projeto_4/tratamento3.xlsx')"
      ]
    },
    {
      "cell_type": "code",
      "execution_count": null,
      "metadata": {
        "id": "_b7AU9ZMFzU7"
      },
      "outputs": [],
      "source": []
    },
    {
      "cell_type": "code",
      "execution_count": 453,
      "metadata": {
        "colab": {
          "base_uri": "https://localhost:8080/",
          "height": 322
        },
        "id": "DEA_h6aVG43O",
        "outputId": "98e13b4b-04f0-4a38-f7a3-ffb939e311ea"
      },
      "outputs": [
        {
          "data": {
            "text/html": [
              "\n",
              "  <div id=\"df-9ee8417d-351a-4814-bab7-589ee78ace73\">\n",
              "    <div class=\"colab-df-container\">\n",
              "      <div>\n",
              "<style scoped>\n",
              "    .dataframe tbody tr th:only-of-type {\n",
              "        vertical-align: middle;\n",
              "    }\n",
              "\n",
              "    .dataframe tbody tr th {\n",
              "        vertical-align: top;\n",
              "    }\n",
              "\n",
              "    .dataframe thead th {\n",
              "        text-align: right;\n",
              "    }\n",
              "</style>\n",
              "<table border=\"1\" class=\"dataframe\">\n",
              "  <thead>\n",
              "    <tr style=\"text-align: right;\">\n",
              "      <th></th>\n",
              "      <th>numero_linha</th>\n",
              "      <th>linha</th>\n",
              "      <th>long</th>\n",
              "      <th>lat</th>\n",
              "      <th>estacao_origem</th>\n",
              "      <th>numero_estacao_origem</th>\n",
              "      <th>estacao_baldeacao_origem</th>\n",
              "      <th>estacao_conectada</th>\n",
              "      <th>numero_estacao_conectada</th>\n",
              "      <th>estacao_baldeacao_conectada</th>\n",
              "    </tr>\n",
              "  </thead>\n",
              "  <tbody>\n",
              "    <tr>\n",
              "      <th>0</th>\n",
              "      <td>4</td>\n",
              "      <td>AMARELA</td>\n",
              "      <td>-46,723768</td>\n",
              "      <td>-23,58644</td>\n",
              "      <td>SAO PAULO MORUMBI</td>\n",
              "      <td>37</td>\n",
              "      <td>nao</td>\n",
              "      <td>BUTANTA</td>\n",
              "      <td>1</td>\n",
              "      <td>sim</td>\n",
              "    </tr>\n",
              "    <tr>\n",
              "      <th>1</th>\n",
              "      <td>4</td>\n",
              "      <td>AMARELA</td>\n",
              "      <td>-46,708157</td>\n",
              "      <td>-23,571857</td>\n",
              "      <td>BUTANTA</td>\n",
              "      <td>1</td>\n",
              "      <td>sim</td>\n",
              "      <td>PINHEIROS</td>\n",
              "      <td>2</td>\n",
              "      <td>sim</td>\n",
              "    </tr>\n",
              "    <tr>\n",
              "      <th>2</th>\n",
              "      <td>4</td>\n",
              "      <td>AMARELA</td>\n",
              "      <td>-46,70161</td>\n",
              "      <td>-23,567392</td>\n",
              "      <td>PINHEIROS</td>\n",
              "      <td>2</td>\n",
              "      <td>sim</td>\n",
              "      <td>FARIA LIMA</td>\n",
              "      <td>38</td>\n",
              "      <td>nao</td>\n",
              "    </tr>\n",
              "    <tr>\n",
              "      <th>3</th>\n",
              "      <td>4</td>\n",
              "      <td>AMARELA</td>\n",
              "      <td>-46,694102</td>\n",
              "      <td>-23,567269</td>\n",
              "      <td>FARIA LIMA</td>\n",
              "      <td>38</td>\n",
              "      <td>nao</td>\n",
              "      <td>FRADIQUE COUTINHO</td>\n",
              "      <td>39</td>\n",
              "      <td>nao</td>\n",
              "    </tr>\n",
              "    <tr>\n",
              "      <th>4</th>\n",
              "      <td>4</td>\n",
              "      <td>AMARELA</td>\n",
              "      <td>-46,684259</td>\n",
              "      <td>-23,566228</td>\n",
              "      <td>FRADIQUE COUTINHO</td>\n",
              "      <td>39</td>\n",
              "      <td>nao</td>\n",
              "      <td>OSCAR FREIRE</td>\n",
              "      <td>40</td>\n",
              "      <td>nao</td>\n",
              "    </tr>\n",
              "  </tbody>\n",
              "</table>\n",
              "</div>\n",
              "      <button class=\"colab-df-convert\" onclick=\"convertToInteractive('df-9ee8417d-351a-4814-bab7-589ee78ace73')\"\n",
              "              title=\"Convert this dataframe to an interactive table.\"\n",
              "              style=\"display:none;\">\n",
              "        \n",
              "  <svg xmlns=\"http://www.w3.org/2000/svg\" height=\"24px\"viewBox=\"0 0 24 24\"\n",
              "       width=\"24px\">\n",
              "    <path d=\"M0 0h24v24H0V0z\" fill=\"none\"/>\n",
              "    <path d=\"M18.56 5.44l.94 2.06.94-2.06 2.06-.94-2.06-.94-.94-2.06-.94 2.06-2.06.94zm-11 1L8.5 8.5l.94-2.06 2.06-.94-2.06-.94L8.5 2.5l-.94 2.06-2.06.94zm10 10l.94 2.06.94-2.06 2.06-.94-2.06-.94-.94-2.06-.94 2.06-2.06.94z\"/><path d=\"M17.41 7.96l-1.37-1.37c-.4-.4-.92-.59-1.43-.59-.52 0-1.04.2-1.43.59L10.3 9.45l-7.72 7.72c-.78.78-.78 2.05 0 2.83L4 21.41c.39.39.9.59 1.41.59.51 0 1.02-.2 1.41-.59l7.78-7.78 2.81-2.81c.8-.78.8-2.07 0-2.86zM5.41 20L4 18.59l7.72-7.72 1.47 1.35L5.41 20z\"/>\n",
              "  </svg>\n",
              "      </button>\n",
              "      \n",
              "  <style>\n",
              "    .colab-df-container {\n",
              "      display:flex;\n",
              "      flex-wrap:wrap;\n",
              "      gap: 12px;\n",
              "    }\n",
              "\n",
              "    .colab-df-convert {\n",
              "      background-color: #E8F0FE;\n",
              "      border: none;\n",
              "      border-radius: 50%;\n",
              "      cursor: pointer;\n",
              "      display: none;\n",
              "      fill: #1967D2;\n",
              "      height: 32px;\n",
              "      padding: 0 0 0 0;\n",
              "      width: 32px;\n",
              "    }\n",
              "\n",
              "    .colab-df-convert:hover {\n",
              "      background-color: #E2EBFA;\n",
              "      box-shadow: 0px 1px 2px rgba(60, 64, 67, 0.3), 0px 1px 3px 1px rgba(60, 64, 67, 0.15);\n",
              "      fill: #174EA6;\n",
              "    }\n",
              "\n",
              "    [theme=dark] .colab-df-convert {\n",
              "      background-color: #3B4455;\n",
              "      fill: #D2E3FC;\n",
              "    }\n",
              "\n",
              "    [theme=dark] .colab-df-convert:hover {\n",
              "      background-color: #434B5C;\n",
              "      box-shadow: 0px 1px 3px 1px rgba(0, 0, 0, 0.15);\n",
              "      filter: drop-shadow(0px 1px 2px rgba(0, 0, 0, 0.3));\n",
              "      fill: #FFFFFF;\n",
              "    }\n",
              "  </style>\n",
              "\n",
              "      <script>\n",
              "        const buttonEl =\n",
              "          document.querySelector('#df-9ee8417d-351a-4814-bab7-589ee78ace73 button.colab-df-convert');\n",
              "        buttonEl.style.display =\n",
              "          google.colab.kernel.accessAllowed ? 'block' : 'none';\n",
              "\n",
              "        async function convertToInteractive(key) {\n",
              "          const element = document.querySelector('#df-9ee8417d-351a-4814-bab7-589ee78ace73');\n",
              "          const dataTable =\n",
              "            await google.colab.kernel.invokeFunction('convertToInteractive',\n",
              "                                                     [key], {});\n",
              "          if (!dataTable) return;\n",
              "\n",
              "          const docLinkHtml = 'Like what you see? Visit the ' +\n",
              "            '<a target=\"_blank\" href=https://colab.research.google.com/notebooks/data_table.ipynb>data table notebook</a>'\n",
              "            + ' to learn more about interactive tables.';\n",
              "          element.innerHTML = '';\n",
              "          dataTable['output_type'] = 'display_data';\n",
              "          await google.colab.output.renderOutput(dataTable, element);\n",
              "          const docLink = document.createElement('div');\n",
              "          docLink.innerHTML = docLinkHtml;\n",
              "          element.appendChild(docLink);\n",
              "        }\n",
              "      </script>\n",
              "    </div>\n",
              "  </div>\n",
              "  "
            ],
            "text/plain": [
              "   numero_linha    linha        long         lat     estacao_origem  \\\n",
              "0             4  AMARELA  -46,723768   -23,58644  SAO PAULO MORUMBI   \n",
              "1             4  AMARELA  -46,708157  -23,571857            BUTANTA   \n",
              "2             4  AMARELA   -46,70161  -23,567392          PINHEIROS   \n",
              "3             4  AMARELA  -46,694102  -23,567269         FARIA LIMA   \n",
              "4             4  AMARELA  -46,684259  -23,566228  FRADIQUE COUTINHO   \n",
              "\n",
              "   numero_estacao_origem estacao_baldeacao_origem  estacao_conectada  \\\n",
              "0                     37                      nao            BUTANTA   \n",
              "1                      1                      sim          PINHEIROS   \n",
              "2                      2                      sim         FARIA LIMA   \n",
              "3                     38                      nao  FRADIQUE COUTINHO   \n",
              "4                     39                      nao       OSCAR FREIRE   \n",
              "\n",
              "   numero_estacao_conectada estacao_baldeacao_conectada  \n",
              "0                         1                         sim  \n",
              "1                         2                         sim  \n",
              "2                        38                         nao  \n",
              "3                        39                         nao  \n",
              "4                        40                         nao  "
            ]
          },
          "execution_count": 453,
          "metadata": {},
          "output_type": "execute_result"
        }
      ],
      "source": [
        "df = pd.read_csv('/content/drive/MyDrive/Colab Notebooks/projeto_4/base_final.csv')\n",
        "df.head()"
      ]
    },
    {
      "cell_type": "code",
      "execution_count": null,
      "metadata": {
        "id": "paeMSuRvG46W"
      },
      "outputs": [],
      "source": [
        "# Lista de Nos a serem criados\n",
        "lista_nos = []\n",
        "for i in range(1, 172):\n",
        "  lista_nos.append(i)\n",
        "  i+1\n",
        "lista_nos"
      ]
    },
    {
      "cell_type": "code",
      "execution_count": null,
      "metadata": {
        "id": "0s7ENrBsG49V"
      },
      "outputs": [],
      "source": [
        "# Lista de vertices a serem criadas\n",
        "lista_vertices = []\n",
        "for i in range(0, 171):\n",
        "  lista_vertices += [(df.numero_estacao_origem[i], df.numero_estacao_conectada[i])]\n",
        "  i += 1\n",
        "lista_vertices"
      ]
    },
    {
      "cell_type": "code",
      "execution_count": null,
      "metadata": {
        "id": "n3TR6PawN-0b"
      },
      "outputs": [],
      "source": []
    },
    {
      "cell_type": "code",
      "execution_count": 456,
      "metadata": {
        "colab": {
          "base_uri": "https://localhost:8080/"
        },
        "id": "vHTwVilJg9WJ",
        "outputId": "d0f4c8f0-27e9-4956-abf5-465597ac7339"
      },
      "outputs": [
        {
          "data": {
            "text/plain": [
              "<networkx.classes.graph.Graph at 0x7fb252ab9d90>"
            ]
          },
          "execution_count": 456,
          "metadata": {},
          "output_type": "execute_result"
        }
      ],
      "source": [
        "g = nx.Graph()\n",
        "g"
      ]
    },
    {
      "cell_type": "code",
      "execution_count": 458,
      "metadata": {
        "colab": {
          "base_uri": "https://localhost:8080/"
        },
        "id": "GfRGcOEkg9TJ",
        "outputId": "689d3b45-40d4-448f-f354-716ae7ab0003"
      },
      "outputs": [
        {
          "data": {
            "text/plain": [
              "NodeView((1, 2, 3, 4, 5, 6, 7, 8, 9, 10, 11, 12, 13, 14, 15, 16, 17, 18, 19, 20, 21, 22, 23, 24, 25, 26, 27, 28, 29, 30, 31, 32, 33, 34, 35, 36, 37, 38, 39, 40, 41, 42, 43, 44, 45, 46, 47, 48, 49, 50, 51, 52, 53, 54, 55, 56, 57, 58, 59, 60, 61, 62, 63, 64, 65, 66, 67, 68, 69, 70, 71, 72, 73, 74, 75, 76, 77, 78, 79, 80, 81, 82, 83, 84, 85, 86, 87, 88, 89, 90, 91, 92, 93, 94, 95, 96, 97, 98, 99, 100, 101, 102, 103, 104, 105, 106, 107, 108, 109, 110, 111, 112, 113, 114, 115, 116, 117, 118, 119, 120, 121, 122, 123, 124, 125, 126, 127, 128, 129, 130, 131, 132, 133, 134, 135, 136, 137, 138, 139, 140, 141, 142, 143, 144, 145, 146, 147, 148, 149, 150, 151, 152, 153, 154, 155, 156, 157, 158, 159, 160, 161, 162, 163, 164, 165, 166, 167, 168, 169, 170, 171))"
            ]
          },
          "execution_count": 458,
          "metadata": {},
          "output_type": "execute_result"
        }
      ],
      "source": [
        "# adicionando uma lista de nós\n",
        "g.add_nodes_from(lista_nos)\n",
        "g.nodes()"
      ]
    },
    {
      "cell_type": "code",
      "execution_count": 463,
      "metadata": {
        "colab": {
          "base_uri": "https://localhost:8080/"
        },
        "id": "m-nl8KZNg9Qa",
        "outputId": "ba5cd2f0-d221-45ba-e369-ce096b6132bf"
      },
      "outputs": [
        {
          "data": {
            "text/plain": [
              "EdgeView([(1, 37), (1, 2), (2, 38), (2, 93), (2, 94), (3, 40), (3, 41), (4, 41), (4, 5), (5, 6), (5, 50), (5, 51), (5, 11), (5, 12), (5, 31), (6, 42), (7, 45), (7, 46), (7, 109), (7, 28), (8, 46), (8, 9), (9, 47), (9, 157), (10, 49), (10, 50), (10, 51), (10, 52), (11, 56), (12, 13), (12, 12), (12, 15), (12, 143), (13, 14), (13, 24), (14, 57), (15, 62), (15, 63), (15, 142), (16, 69), (16, 70), (17, 71), (17, 72), (18, 76), (18, 19), (19, 77), (20, 78), (20, 21), (20, 24), (21, 79), (21, 96), (22, 82), (22, 83), (23, 87), (23, 88), (23, 99), (23, 100), (24, 25), (24, 134), (25, 26), (26, 27), (27, 97), (28, 29), (29, 110), (30, 117), (30, 118), (31, 133), (32, 144), (32, 145), (33, 147), (33, 148), (34, 155), (34, 156), (38, 39), (39, 40), (42, 43), (43, 44), (44, 45), (47, 48), (48, 49), (52, 53), (53, 54), (54, 55), (55, 56), (57, 58), (58, 59), (59, 60), (60, 61), (61, 62), (63, 64), (64, 65), (65, 66), (66, 67), (67, 68), (68, 69), (70, 71), (72, 73), (73, 74), (74, 75), (75, 76), (77, 78), (79, 80), (80, 81), (81, 82), (83, 84), (84, 85), (85, 86), (86, 87), (88, 89), (89, 90), (90, 91), (91, 92), (92, 93), (94, 95), (95, 96), (97, 98), (98, 99), (100, 101), (101, 102), (102, 103), (103, 104), (104, 105), (105, 106), (106, 107), (107, 108), (108, 109), (110, 111), (111, 112), (112, 113), (113, 114), (114, 115), (115, 116), (116, 117), (118, 119), (119, 120), (120, 121), (121, 122), (122, 123), (123, 124), (124, 125), (125, 126), (126, 127), (127, 128), (128, 129), (129, 130), (130, 131), (131, 132), (132, 133), (134, 135), (135, 136), (136, 137), (137, 138), (138, 139), (139, 140), (140, 141), (141, 142), (143, 144), (145, 146), (146, 147), (148, 149), (149, 150), (150, 151), (151, 152), (152, 153), (153, 154), (154, 155), (156, 157)])"
            ]
          },
          "execution_count": 463,
          "metadata": {},
          "output_type": "execute_result"
        }
      ],
      "source": [
        "g.add_edges_from(lista_vertices)\n",
        "\n",
        "# verificando as arestas criadas\n",
        "g.edges()"
      ]
    },
    {
      "cell_type": "code",
      "execution_count": 486,
      "metadata": {
        "colab": {
          "base_uri": "https://localhost:8080/",
          "height": 248
        },
        "id": "exhcTxi4g9NG",
        "outputId": "650a1267-b8c0-40bc-8db5-3ecf86bd2fad"
      },
      "outputs": [
        {
          "data": {
            "image/png": "[encoded data removed]",
            "text/plain": [
              "<Figure size 432x288 with 1 Axes>"
            ]
          },
          "metadata": {},
          "output_type": "display_data"
        }
      ],
      "source": [
        "nx.draw_networkx(g, pos=position, node_color='lightgray', node_size=400)\n",
        "figure = plt.figure() \n",
        "figure.set_size_inches(30, 20)"
      ]
    },
    {
      "cell_type": "code",
      "execution_count": null,
      "metadata": {
        "id": "6R1X_-PqN-3u"
      },
      "outputs": [],
      "source": []
    },
    {
      "cell_type": "code",
      "execution_count": null,
      "metadata": {
        "id": "kkKD2yCmN-61"
      },
      "outputs": [],
      "source": []
    },
    {
      "cell_type": "code",
      "execution_count": 303,
      "metadata": {
        "colab": {
          "base_uri": "https://localhost:8080/"
        },
        "id": "K1Y2MrZBynt3",
        "outputId": "c1009681-8d23-4d36-e86c-5c846bd3113a"
      },
      "outputs": [
        {
          "data": {
            "text/plain": [
              "[11, 7, 4, 3, 2, 5, (4, 1, 3, 10, 15), (9, 2, 3, 1)]"
            ]
          },
          "execution_count": 303,
          "metadata": {},
          "output_type": "execute_result"
        }
      ],
      "source": [
        "lista = []\n",
        "if num_linha_origem in listaum[0][0]:\n",
        "  lista = list(listaum[0][0] )\n",
        "\n",
        "if num_linha_origem in listaum[1][0]:\n",
        "  lista += [listaum[1][0]]\n",
        "\n",
        "if num_linha_origem in listaum[2][0]:\n",
        "  lista += [listaum[2][0]]\n",
        "\n",
        "if num_linha_origem in listaum[3][0]:\n",
        "  lista += [listaum[3][0]]\n",
        "\n",
        "lista"
      ]
    },
    {
      "cell_type": "code",
      "execution_count": 337,
      "metadata": {
        "id": "6I81K-nO7iSM"
      },
      "outputs": [],
      "source": [
        "num_linha_origem = 4"
      ]
    },
    {
      "cell_type": "code",
      "execution_count": 340,
      "metadata": {
        "colab": {
          "base_uri": "https://localhost:8080/",
          "height": 52
        },
        "id": "LkQRgMxP0D_Y",
        "outputId": "5d707e4d-3b38-44c0-c217-de3225cd3960"
      },
      "outputs": [
        {
          "data": {
            "text/plain": [
              "[0]"
            ]
          },
          "metadata": {},
          "output_type": "display_data"
        },
        {
          "data": {
            "text/plain": [
              "[1]"
            ]
          },
          "metadata": {},
          "output_type": "display_data"
        }
      ],
      "source": [
        "lista = []\n",
        "if num_linha_origem in listaum[0][0]:\n",
        "  lista += [0]\n",
        "\n",
        "elif num_linha_origem in listaum[1][0]:\n",
        "  lista += [1]\n",
        "\n",
        "elif num_linha_origem in listaum[2][0]:\n",
        "  lista += [2]\n",
        "\n",
        "elif num_linha_origem in listaum[3][0]:\n",
        "  lista += [3]\n",
        "\n",
        "elif num_linha_origem in listaum[4][0]:\n",
        "  lista += [4]\n",
        "\n",
        "elif num_linha_origem in listaum[5][0]:\n",
        "  lista += [5]\n",
        "\n",
        "elif num_linha_origem in listaum[6][0]:\n",
        "  lista += [7]\n",
        "\n",
        "elif num_linha_origem in listaum[7][0]:\n",
        "  lista += [8]\n",
        "\n",
        "elif num_linha_origem in listaum[8][0]:\n",
        "  lista += [9]\n",
        "\n",
        "elif num_linha_origem in listaum[9][0]:\n",
        "  lista += [10]\n",
        "\n",
        "elif num_linha_origem in listaum[10][0]:\n",
        "  lista += [11]\n",
        "\n",
        "elif num_linha_origem in listaum[11][0]:\n",
        "  lista += [12]\n",
        "\n",
        "display(lista)\n",
        "\n",
        "lista = [x+1 for x in lista]\n",
        "display(lista)\n"
      ]
    },
    {
      "cell_type": "code",
      "execution_count": 327,
      "metadata": {
        "colab": {
          "base_uri": "https://localhost:8080/",
          "height": 234
        },
        "id": "Lx1Lm4ZQ44-g",
        "outputId": "2b1322ab-0e72-4462-ab6f-d96b4b17de33"
      },
      "outputs": [
        {
          "ename": "TypeError",
          "evalue": "ignored",
          "output_type": "error",
          "traceback": [
            "\u001b[0;31m---------------------------------------------------------------------------\u001b[0m",
            "\u001b[0;31mTypeError\u001b[0m                                 Traceback (most recent call last)",
            "\u001b[0;32m<ipython-input-327-052182f24b5a>\u001b[0m in \u001b[0;36m<module>\u001b[0;34m\u001b[0m\n\u001b[1;32m      3\u001b[0m \u001b[0;32mwhile\u001b[0m \u001b[0mcontador_listaum\u001b[0m \u001b[0;34m<\u001b[0m \u001b[0;36m14\u001b[0m \u001b[0;34m:\u001b[0m\u001b[0;34m\u001b[0m\u001b[0;34m\u001b[0m\u001b[0m\n\u001b[1;32m      4\u001b[0m   \u001b[0mcontador_listaum\u001b[0m \u001b[0;34m+=\u001b[0m \u001b[0;36m1\u001b[0m\u001b[0;34m\u001b[0m\u001b[0;34m\u001b[0m\u001b[0m\n\u001b[0;32m----> 5\u001b[0;31m   \u001b[0;32mif\u001b[0m \u001b[0;34m(\u001b[0m\u001b[0;34m(\u001b[0m\u001b[0mnum_linha_origem\u001b[0m \u001b[0;32min\u001b[0m \u001b[0mlistaum\u001b[0m\u001b[0;34m[\u001b[0m\u001b[0mcontador_listaum\u001b[0m\u001b[0;34m]\u001b[0m\u001b[0;34m[\u001b[0m\u001b[0;36m0\u001b[0m\u001b[0;34m]\u001b[0m\u001b[0;34m)\u001b[0m \u001b[0;34m&\u001b[0m \u001b[0;34m(\u001b[0m\u001b[0mnum_linha_final\u001b[0m \u001b[0;32min\u001b[0m \u001b[0mlistaum\u001b[0m\u001b[0;34m[\u001b[0m\u001b[0mcontador_listaum\u001b[0m\u001b[0;34m]\u001b[0m\u001b[0;34m[\u001b[0m\u001b[0;36m0\u001b[0m\u001b[0;34m]\u001b[0m\u001b[0;34m)\u001b[0m\u001b[0;34m)\u001b[0m\u001b[0;34m:\u001b[0m\u001b[0;34m\u001b[0m\u001b[0;34m\u001b[0m\u001b[0m\n\u001b[0m\u001b[1;32m      6\u001b[0m     \u001b[0mprint\u001b[0m\u001b[0;34m(\u001b[0m\u001b[0;34m'DEVE-SE REALIZAR UMA BALDEAÇÃO NA LINHA'\u001b[0m\u001b[0;34m,\u001b[0m \u001b[0mcontador_listaum\u001b[0m\u001b[0;34m,\u001b[0m \u001b[0;34m'ANTES DE CHEGAR AO DESTINO'\u001b[0m\u001b[0;34m)\u001b[0m\u001b[0;34m\u001b[0m\u001b[0;34m\u001b[0m\u001b[0m\n\u001b[1;32m      7\u001b[0m     \u001b[0;32mbreak\u001b[0m\u001b[0;34m\u001b[0m\u001b[0;34m\u001b[0m\u001b[0m\n",
            "\u001b[0;31mTypeError\u001b[0m: argument of type 'int' is not iterable"
          ]
        }
      ],
      "source": [
        "# Checa se é possível uma ligação direta\n",
        "contador_listaum = 1\n",
        "while contador_listaum < 14 :\n",
        "  contador_listaum += 1\n",
        "  if ((num_linha_origem in listaum[contador_listaum][0]) & (num_linha_final in listaum[contador_listaum][0])):\n",
        "    print('DEVE-SE REALIZAR UMA BALDEAÇÃO NA LINHA', contador_listaum, 'ANTES DE CHEGAR AO DESTINO')\n",
        "    break"
      ]
    },
    {
      "cell_type": "code",
      "execution_count": 322,
      "metadata": {
        "colab": {
          "base_uri": "https://localhost:8080/"
        },
        "id": "maEnf5ii0js3",
        "outputId": "54abc0e8-5d81-474b-b4dd-55a6caba94b5"
      },
      "outputs": [
        {
          "data": {
            "text/plain": [
              "[[(11, 7, 4, 3, 2, 5)],\n",
              " [(4, 1, 3, 10, 15)],\n",
              " [(11, 10, 1, 4, 8)],\n",
              " [(9, 2, 3, 1)],\n",
              " [(9, 1, 2)],\n",
              " [(8, 1, 11, 10, 12)],\n",
              " [(9, 7, 3)],\n",
              " [(5, 4, 8)],\n",
              " [(2, 3, 11, 7, 12)],\n",
              " [(12, 3, 7, 2, 4)],\n",
              " [(11, 13, 3, 7, 10)],\n",
              " [12],\n",
              " [2]]"
            ]
          },
          "execution_count": 322,
          "metadata": {},
          "output_type": "execute_result"
        }
      ],
      "source": [
        "listaum"
      ]
    },
    {
      "cell_type": "code",
      "execution_count": 276,
      "metadata": {
        "colab": {
          "base_uri": "https://localhost:8080/",
          "height": 373
        },
        "id": "2j_vzQHsvy4h",
        "outputId": "19167fb3-a073-4ca0-f901-fdb1e4cf530b"
      },
      "outputs": [
        {
          "name": "stdout",
          "output_type": "stream",
          "text": [
            "2\n",
            "5\n",
            "7\n"
          ]
        },
        {
          "ename": "TypeError",
          "evalue": "ignored",
          "output_type": "error",
          "traceback": [
            "\u001b[0;31m---------------------------------------------------------------------------\u001b[0m",
            "\u001b[0;31mTypeError\u001b[0m                                 Traceback (most recent call last)",
            "\u001b[0;32m<ipython-input-276-f2f925413fe6>\u001b[0m in \u001b[0;36m<module>\u001b[0;34m\u001b[0m\n\u001b[1;32m      6\u001b[0m     \u001b[0;32mif\u001b[0m \u001b[0;34m(\u001b[0m\u001b[0;36m8\u001b[0m \u001b[0;32min\u001b[0m \u001b[0mlistaum\u001b[0m\u001b[0;34m[\u001b[0m\u001b[0mcontador_listaum\u001b[0m\u001b[0;34m]\u001b[0m\u001b[0;34m[\u001b[0m\u001b[0;36m0\u001b[0m\u001b[0;34m]\u001b[0m\u001b[0;34m)\u001b[0m \u001b[0;34m:\u001b[0m\u001b[0;34m\u001b[0m\u001b[0;34m\u001b[0m\u001b[0m\n\u001b[1;32m      7\u001b[0m       \u001b[0mprint\u001b[0m\u001b[0;34m(\u001b[0m\u001b[0mcontador_listaum\u001b[0m\u001b[0;34m)\u001b[0m\u001b[0;34m\u001b[0m\u001b[0;34m\u001b[0m\u001b[0m\n\u001b[0;32m----> 8\u001b[0;31m \u001b[0mdef1\u001b[0m\u001b[0;34m(\u001b[0m\u001b[0;34m-\u001b[0m\u001b[0;36m1\u001b[0m\u001b[0;34m)\u001b[0m\u001b[0;34m\u001b[0m\u001b[0;34m\u001b[0m\u001b[0m\n\u001b[0m",
            "\u001b[0;32m<ipython-input-276-f2f925413fe6>\u001b[0m in \u001b[0;36mdef1\u001b[0;34m(contador_listaum)\u001b[0m\n\u001b[1;32m      4\u001b[0m   \u001b[0;32mwhile\u001b[0m \u001b[0mcontador_listaum\u001b[0m \u001b[0;34m<\u001b[0m \u001b[0;36m14\u001b[0m \u001b[0;34m:\u001b[0m\u001b[0;34m\u001b[0m\u001b[0;34m\u001b[0m\u001b[0m\n\u001b[1;32m      5\u001b[0m     \u001b[0mcontador_listaum\u001b[0m \u001b[0;34m+=\u001b[0m \u001b[0;36m1\u001b[0m\u001b[0;34m\u001b[0m\u001b[0;34m\u001b[0m\u001b[0m\n\u001b[0;32m----> 6\u001b[0;31m     \u001b[0;32mif\u001b[0m \u001b[0;34m(\u001b[0m\u001b[0;36m8\u001b[0m \u001b[0;32min\u001b[0m \u001b[0mlistaum\u001b[0m\u001b[0;34m[\u001b[0m\u001b[0mcontador_listaum\u001b[0m\u001b[0;34m]\u001b[0m\u001b[0;34m[\u001b[0m\u001b[0;36m0\u001b[0m\u001b[0;34m]\u001b[0m\u001b[0;34m)\u001b[0m \u001b[0;34m:\u001b[0m\u001b[0;34m\u001b[0m\u001b[0;34m\u001b[0m\u001b[0m\n\u001b[0m\u001b[1;32m      7\u001b[0m       \u001b[0mprint\u001b[0m\u001b[0;34m(\u001b[0m\u001b[0mcontador_listaum\u001b[0m\u001b[0;34m)\u001b[0m\u001b[0;34m\u001b[0m\u001b[0;34m\u001b[0m\u001b[0m\n\u001b[1;32m      8\u001b[0m \u001b[0mdef1\u001b[0m\u001b[0;34m(\u001b[0m\u001b[0;34m-\u001b[0m\u001b[0;36m1\u001b[0m\u001b[0;34m)\u001b[0m\u001b[0;34m\u001b[0m\u001b[0;34m\u001b[0m\u001b[0m\n",
            "\u001b[0;31mTypeError\u001b[0m: argument of type 'int' is not iterable"
          ]
        }
      ],
      "source": [
        "# Checa se é possível uma ligação direta\n",
        "\n",
        "def def1(contador_listaum):\n",
        "  while contador_listaum < 14 :\n",
        "    contador_listaum += 1\n",
        "    if (8 in listaum[contador_listaum][0]) :\n",
        "      print(contador_listaum)\n",
        "def1(-1)"
      ]
    },
    {
      "cell_type": "code",
      "execution_count": 428,
      "metadata": {
        "colab": {
          "base_uri": "https://localhost:8080/"
        },
        "id": "WwKY2XsvxSWX",
        "outputId": "ee79737c-be72-4a12-9f19-491d20fae5a6"
      },
      "outputs": [
        {
          "data": {
            "text/plain": [
              "[[(11, 7, 4, 3, 2, 5)],\n",
              " [(4, 1, 3, 10, 15)],\n",
              " [(11, 10, 1, 4, 8)],\n",
              " [(9, 2, 3, 1)],\n",
              " [(9, 1, 2)],\n",
              " [(8, 1, 11, 10, 12)],\n",
              " [(9, 7, 3)],\n",
              " [(5, 4, 8)],\n",
              " [(2, 3, 11, 7, 12)],\n",
              " [(12, 3, 7, 2, 4)],\n",
              " [(11, 13, 3, 7, 10)],\n",
              " [12],\n",
              " [2]]"
            ]
          },
          "execution_count": 428,
          "metadata": {},
          "output_type": "execute_result"
        }
      ],
      "source": [
        "listaum"
      ]
    },
    {
      "cell_type": "code",
      "execution_count": 450,
      "metadata": {
        "colab": {
          "base_uri": "https://localhost:8080/"
        },
        "id": "Mnpit7RPlr1L",
        "outputId": "09e1be70-2356-458c-83ba-d0312208ab72"
      },
      "outputs": [
        {
          "data": {
            "text/plain": [
              "[]"
            ]
          },
          "execution_count": 450,
          "metadata": {},
          "output_type": "execute_result"
        }
      ],
      "source": [
        "# Checa COM MULTIPLAS CONEXOES\n",
        "\n",
        "possivel = []\n",
        "\n",
        "for i in range(0, 13):\n",
        "    if 15 in listaum[i]:\n",
        "      possivel += [i]\n",
        "    i += 1\n",
        "  \n",
        "possivel"
      ]
    },
    {
      "cell_type": "code",
      "execution_count": 232,
      "metadata": {
        "colab": {
          "base_uri": "https://localhost:8080/",
          "height": 234
        },
        "id": "ebGIyYMPvFtl",
        "outputId": "8008c361-12e5-48df-ec67-ca78be159ba4"
      },
      "outputs": [
        {
          "ename": "TypeError",
          "evalue": "ignored",
          "output_type": "error",
          "traceback": [
            "\u001b[0;31m---------------------------------------------------------------------------\u001b[0m",
            "\u001b[0;31mTypeError\u001b[0m                                 Traceback (most recent call last)",
            "\u001b[0;32m<ipython-input-232-919b6695ffd4>\u001b[0m in \u001b[0;36m<module>\u001b[0;34m\u001b[0m\n\u001b[1;32m      3\u001b[0m \u001b[0;32mfor\u001b[0m \u001b[0mi\u001b[0m \u001b[0;32min\u001b[0m \u001b[0mrange\u001b[0m \u001b[0;34m(\u001b[0m\u001b[0mlen\u001b[0m\u001b[0;34m(\u001b[0m\u001b[0mlistaum\u001b[0m\u001b[0;34m)\u001b[0m\u001b[0;34m)\u001b[0m\u001b[0;34m:\u001b[0m\u001b[0;34m\u001b[0m\u001b[0;34m\u001b[0m\u001b[0m\n\u001b[1;32m      4\u001b[0m         \u001b[0;32mfor\u001b[0m \u001b[0mj\u001b[0m \u001b[0;32min\u001b[0m \u001b[0mrange\u001b[0m \u001b[0;34m(\u001b[0m\u001b[0mi\u001b[0m\u001b[0;34m)\u001b[0m\u001b[0;34m:\u001b[0m\u001b[0;34m\u001b[0m\u001b[0;34m\u001b[0m\u001b[0m\n\u001b[0;32m----> 5\u001b[0;31m             \u001b[0;32mif\u001b[0m \u001b[0mcontador\u001b[0m \u001b[0;32min\u001b[0m \u001b[0mlistaum\u001b[0m\u001b[0;34m[\u001b[0m\u001b[0mi\u001b[0m\u001b[0;34m]\u001b[0m\u001b[0;34m[\u001b[0m\u001b[0;36m0\u001b[0m\u001b[0;34m]\u001b[0m\u001b[0;34m:\u001b[0m\u001b[0;34m\u001b[0m\u001b[0;34m\u001b[0m\u001b[0m\n\u001b[0m\u001b[1;32m      6\u001b[0m                 \u001b[0mpossivel\u001b[0m\u001b[0;34m.\u001b[0m\u001b[0mappend\u001b[0m\u001b[0;34m(\u001b[0m\u001b[0;34m(\u001b[0m\u001b[0mi\u001b[0m\u001b[0;34m)\u001b[0m\u001b[0;34m)\u001b[0m\u001b[0;34m\u001b[0m\u001b[0;34m\u001b[0m\u001b[0m\n\u001b[1;32m      7\u001b[0m             \u001b[0mcontador\u001b[0m \u001b[0;34m+=\u001b[0m \u001b[0;36m1\u001b[0m\u001b[0;34m\u001b[0m\u001b[0;34m\u001b[0m\u001b[0m\n",
            "\u001b[0;31mTypeError\u001b[0m: argument of type 'int' is not iterable"
          ]
        }
      ],
      "source": [
        "?possivel = []\n",
        "contador=0\n",
        "for i in range (len(listaum)):\n",
        "        for j in range (i):\n",
        "            if contador in listaum[i][0]:\n",
        "                possivel.append((i))\n",
        "            contador += 1"
      ]
    },
    {
      "cell_type": "code",
      "execution_count": 233,
      "metadata": {
        "colab": {
          "base_uri": "https://localhost:8080/",
          "height": 165
        },
        "id": "eOArTsqmupp9",
        "outputId": "ae3c7d4f-1a15-4725-d44a-db72e54506ca"
      },
      "outputs": [
        {
          "ename": "ValueError",
          "evalue": "ignored",
          "output_type": "error",
          "traceback": [
            "\u001b[0;31m---------------------------------------------------------------------------\u001b[0m",
            "\u001b[0;31mValueError\u001b[0m                                Traceback (most recent call last)",
            "\u001b[0;32m<ipython-input-233-4ea340b1cd42>\u001b[0m in \u001b[0;36m<module>\u001b[0;34m\u001b[0m\n\u001b[0;32m----> 1\u001b[0;31m \u001b[0mlistaum\u001b[0m\u001b[0;34m.\u001b[0m\u001b[0mindex\u001b[0m\u001b[0;34m(\u001b[0m\u001b[0;36m1\u001b[0m\u001b[0;34m)\u001b[0m\u001b[0;34m\u001b[0m\u001b[0;34m\u001b[0m\u001b[0m\n\u001b[0m",
            "\u001b[0;31mValueError\u001b[0m: 1 is not in list"
          ]
        }
      ],
      "source": [
        "listaum.index(1)"
      ]
    },
    {
      "cell_type": "code",
      "execution_count": 222,
      "metadata": {
        "colab": {
          "base_uri": "https://localhost:8080/",
          "height": 338
        },
        "id": "7_Bl-0hNlr4H",
        "outputId": "bcafb328-bd81-4cc1-ce14-cce85b25de3f"
      },
      "outputs": [
        {
          "name": "stdout",
          "output_type": "stream",
          "text": [
            "0\n",
            "1\n",
            "3\n",
            "6\n",
            "8\n",
            "9\n",
            "10\n"
          ]
        },
        {
          "ename": "TypeError",
          "evalue": "ignored",
          "output_type": "error",
          "traceback": [
            "\u001b[0;31m---------------------------------------------------------------------------\u001b[0m",
            "\u001b[0;31mTypeError\u001b[0m                                 Traceback (most recent call last)",
            "\u001b[0;32m<ipython-input-222-e1b87449eb67>\u001b[0m in \u001b[0;36m<module>\u001b[0;34m\u001b[0m\n\u001b[1;32m      3\u001b[0m \u001b[0mj\u001b[0m\u001b[0;34m=\u001b[0m\u001b[0;36m0\u001b[0m\u001b[0;34m\u001b[0m\u001b[0;34m\u001b[0m\u001b[0m\n\u001b[1;32m      4\u001b[0m \u001b[0;32mfor\u001b[0m \u001b[0mi\u001b[0m \u001b[0;32min\u001b[0m \u001b[0mrange\u001b[0m\u001b[0;34m(\u001b[0m\u001b[0mlen\u001b[0m\u001b[0;34m(\u001b[0m\u001b[0mlistaum\u001b[0m\u001b[0;34m)\u001b[0m\u001b[0;34m)\u001b[0m\u001b[0;34m:\u001b[0m\u001b[0;34m\u001b[0m\u001b[0;34m\u001b[0m\u001b[0m\n\u001b[0;32m----> 5\u001b[0;31m   \u001b[0;32mif\u001b[0m \u001b[0mnum_linha_origem\u001b[0m \u001b[0;32min\u001b[0m \u001b[0mlistaum\u001b[0m\u001b[0;34m[\u001b[0m\u001b[0mi\u001b[0m\u001b[0;34m]\u001b[0m\u001b[0;34m[\u001b[0m\u001b[0;36m0\u001b[0m\u001b[0;34m]\u001b[0m\u001b[0;34m:\u001b[0m\u001b[0;34m\u001b[0m\u001b[0;34m\u001b[0m\u001b[0m\n\u001b[0m\u001b[1;32m      6\u001b[0m     \u001b[0mprint\u001b[0m\u001b[0;34m(\u001b[0m\u001b[0mi\u001b[0m\u001b[0;34m)\u001b[0m\u001b[0;34m\u001b[0m\u001b[0;34m\u001b[0m\u001b[0m\n",
            "\u001b[0;31mTypeError\u001b[0m: argument of type 'int' is not iterable"
          ]
        }
      ],
      "source": [
        "contador = 14\n",
        "possivel = []\n",
        "j=0\n",
        "for i in range(len(listaum)):\n",
        "  if num_linha_origem in listaum[i][0]:\n",
        "    print(i)"
      ]
    },
    {
      "cell_type": "code",
      "execution_count": 220,
      "metadata": {
        "colab": {
          "base_uri": "https://localhost:8080/"
        },
        "id": "T1yCuKbGti26",
        "outputId": "c496fd01-7487-4d47-e9f2-9e6fb1c8f48f"
      },
      "outputs": [
        {
          "data": {
            "text/plain": [
              "[[(11, 7, 4, 3, 2, 5)],\n",
              " [(4, 1, 3, 10, 15)],\n",
              " [(11, 10, 1, 4, 8)],\n",
              " [(9, 2, 3, 1)],\n",
              " [(9, 1, 2)],\n",
              " [(8, 1, 11, 10, 12)],\n",
              " [(9, 7, 3)],\n",
              " [(5, 4, 8)],\n",
              " [(2, 3, 11, 7, 12)],\n",
              " [(12, 3, 7, 2, 4)],\n",
              " [(11, 13, 3, 7, 10)],\n",
              " [12],\n",
              " [2]]"
            ]
          },
          "execution_count": 220,
          "metadata": {},
          "output_type": "execute_result"
        }
      ],
      "source": [
        "listaum"
      ]
    },
    {
      "cell_type": "code",
      "execution_count": 98,
      "metadata": {
        "colab": {
          "base_uri": "https://localhost:8080/"
        },
        "id": "jo9FvyRsfoZ3",
        "outputId": "44502a40-ae9f-4b17-93b3-28eae950f9d1"
      },
      "outputs": [
        {
          "data": {
            "text/plain": [
              "True"
            ]
          },
          "execution_count": 98,
          "metadata": {},
          "output_type": "execute_result"
        }
      ],
      "source": [
        "num_linha_origem not in listaum[2][0]"
      ]
    },
    {
      "cell_type": "code",
      "execution_count": 112,
      "metadata": {
        "colab": {
          "base_uri": "https://localhost:8080/",
          "height": 52
        },
        "id": "fy1WjMLAZigh",
        "outputId": "c331e989-fb4d-4d1d-8fa8-679429199b8e"
      },
      "outputs": [
        {
          "data": {
            "text/plain": [
              "12"
            ]
          },
          "metadata": {},
          "output_type": "display_data"
        },
        {
          "data": {
            "text/plain": [
              "1"
            ]
          },
          "metadata": {},
          "output_type": "display_data"
        }
      ],
      "source": [
        "display(num_linha_origem)\n",
        "display(num_linha_final)"
      ]
    },
    {
      "cell_type": "code",
      "execution_count": 219,
      "metadata": {
        "colab": {
          "base_uri": "https://localhost:8080/"
        },
        "id": "Encpw2JUciDU",
        "outputId": "8d5d8613-c640-4312-e32f-12a7b2f73b26"
      },
      "outputs": [
        {
          "data": {
            "text/plain": [
              "[[(11, 7, 4, 3, 2, 5)],\n",
              " [(4, 1, 3, 10, 15)],\n",
              " [(11, 10, 1, 4, 8)],\n",
              " [(9, 2, 3, 1)],\n",
              " [(9, 1, 2)],\n",
              " [(8, 1, 11, 10, 12)],\n",
              " [(9, 7, 3)],\n",
              " [(5, 4, 8)],\n",
              " [(2, 3, 11, 7, 12)],\n",
              " [(12, 3, 7, 2, 4)],\n",
              " [(11, 13, 3, 7, 10)],\n",
              " [12],\n",
              " [2]]"
            ]
          },
          "execution_count": 219,
          "metadata": {},
          "output_type": "execute_result"
        }
      ],
      "source": [
        "listaum = [ [linha1], [linha2], [linha3], [linha4], [linha5], [linha7], [linha8], [linha9], [linha10], [linha11], [linha12], [linha13], [linha15] ]\n",
        "listaum"
      ]
    },
    {
      "cell_type": "code",
      "execution_count": 20,
      "metadata": {
        "colab": {
          "base_uri": "https://localhost:8080/"
        },
        "id": "LIq0CO4UeM9o",
        "outputId": "9d162189-cca3-44c7-a649-f0653e9bc941"
      },
      "outputs": [
        {
          "name": "stdout",
          "output_type": "stream",
          "text": [
            "it is\n"
          ]
        }
      ],
      "source": [
        "if   num_linha_origem.numero_linha[0] == 1  :\n",
        "elif num_linha_origem.numero_linha[0] == 2  :\n",
        "elif num_linha_origem.numero_linha[0] == 3  :\n",
        "elif num_linha_origem.numero_linha[0] == 4  :\n",
        "elif num_linha_origem.numero_linha[0] == 5  :\n",
        "elif num_linha_origem.numero_linha[0] == 7  :\n",
        "elif num_linha_origem.numero_linha[0] == 8  :\n",
        "elif num_linha_origem.numero_linha[0] == 9  :\n",
        "elif num_linha_origem.numero_linha[0] == 10 :\n",
        "elif num_linha_origem.numero_linha[0] == 11 :\n",
        "elif num_linha_origem.numero_linha[0] == 12 :\n",
        "elif num_linha_origem.numero_linha[0] == 13 :\n",
        "elif num_linha_origem.numero_linha[0] == 15 :\n"
      ]
    },
    {
      "cell_type": "code",
      "execution_count": 58,
      "metadata": {
        "colab": {
          "base_uri": "https://localhost:8080/"
        },
        "id": "71hReDbEcmDx",
        "outputId": "a6d35bb4-714b-4485-ea99-0f3114007220"
      },
      "outputs": [
        {
          "data": {
            "text/plain": [
              "(11, 10, 1, 4, 8)"
            ]
          },
          "execution_count": 58,
          "metadata": {},
          "output_type": "execute_result"
        }
      ],
      "source": [
        "linha3"
      ]
    },
    {
      "cell_type": "code",
      "execution_count": null,
      "metadata": {
        "id": "sh6Zf32idE-t"
      },
      "outputs": [],
      "source": []
    }
  ],
  "metadata": {
    "colab": {
      "provenance": []
    },
    "kernelspec": {
      "display_name": "Python 3",
      "name": "python3"
    },
    "language_info": {
      "name": "python"
    }
  },
  "nbformat": 4,
  "nbformat_minor": 0
}
